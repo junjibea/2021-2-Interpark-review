{
  "nbformat": 4,
  "nbformat_minor": 0,
  "metadata": {
    "colab": {
      "name": "211217_텍스트전처리.ipynb",
      "provenance": [],
      "collapsed_sections": [],
      "include_colab_link": true
    },
    "kernelspec": {
      "name": "python3",
      "display_name": "Python 3"
    },
    "language_info": {
      "name": "python"
    },
    "widgets": {
      "application/vnd.jupyter.widget-state+json": {
        "91a9053dbce2425e8c8ed79749ea59a4": {
          "model_module": "@jupyter-widgets/controls",
          "model_name": "HBoxModel",
          "model_module_version": "1.5.0",
          "state": {
            "_view_name": "HBoxView",
            "_dom_classes": [],
            "_model_name": "HBoxModel",
            "_view_module": "@jupyter-widgets/controls",
            "_model_module_version": "1.5.0",
            "_view_count": null,
            "_view_module_version": "1.5.0",
            "box_style": "",
            "layout": "IPY_MODEL_3b2c36f2fc5c494a811b2b76f3262650",
            "_model_module": "@jupyter-widgets/controls",
            "children": [
              "IPY_MODEL_983dc5ac1a974a609a06c57a20528253",
              "IPY_MODEL_769b88e8109d485a893d87d44f409680",
              "IPY_MODEL_c3814ac523d24e22bf33ee601b0c5382"
            ]
          }
        },
        "3b2c36f2fc5c494a811b2b76f3262650": {
          "model_module": "@jupyter-widgets/base",
          "model_name": "LayoutModel",
          "model_module_version": "1.2.0",
          "state": {
            "_view_name": "LayoutView",
            "grid_template_rows": null,
            "right": null,
            "justify_content": null,
            "_view_module": "@jupyter-widgets/base",
            "overflow": null,
            "_model_module_version": "1.2.0",
            "_view_count": null,
            "flex_flow": null,
            "width": null,
            "min_width": null,
            "border": null,
            "align_items": null,
            "bottom": null,
            "_model_module": "@jupyter-widgets/base",
            "top": null,
            "grid_column": null,
            "overflow_y": null,
            "overflow_x": null,
            "grid_auto_flow": null,
            "grid_area": null,
            "grid_template_columns": null,
            "flex": null,
            "_model_name": "LayoutModel",
            "justify_items": null,
            "grid_row": null,
            "max_height": null,
            "align_content": null,
            "visibility": null,
            "align_self": null,
            "height": null,
            "min_height": null,
            "padding": null,
            "grid_auto_rows": null,
            "grid_gap": null,
            "max_width": null,
            "order": null,
            "_view_module_version": "1.2.0",
            "grid_template_areas": null,
            "object_position": null,
            "object_fit": null,
            "grid_auto_columns": null,
            "margin": null,
            "display": null,
            "left": null
          }
        },
        "983dc5ac1a974a609a06c57a20528253": {
          "model_module": "@jupyter-widgets/controls",
          "model_name": "HTMLModel",
          "model_module_version": "1.5.0",
          "state": {
            "_view_name": "HTMLView",
            "style": "IPY_MODEL_baae87642c764ab19ad112690fa2ebf0",
            "_dom_classes": [],
            "description": "",
            "_model_name": "HTMLModel",
            "placeholder": "​",
            "_view_module": "@jupyter-widgets/controls",
            "_model_module_version": "1.5.0",
            "value": "100%",
            "_view_count": null,
            "_view_module_version": "1.5.0",
            "description_tooltip": null,
            "_model_module": "@jupyter-widgets/controls",
            "layout": "IPY_MODEL_52712b44fe4c48c8a082091c7b5100e3"
          }
        },
        "769b88e8109d485a893d87d44f409680": {
          "model_module": "@jupyter-widgets/controls",
          "model_name": "FloatProgressModel",
          "model_module_version": "1.5.0",
          "state": {
            "_view_name": "ProgressView",
            "style": "IPY_MODEL_9da362e299874512befd6aaf781b5c5e",
            "_dom_classes": [],
            "description": "",
            "_model_name": "FloatProgressModel",
            "bar_style": "success",
            "max": 10,
            "_view_module": "@jupyter-widgets/controls",
            "_model_module_version": "1.5.0",
            "value": 10,
            "_view_count": null,
            "_view_module_version": "1.5.0",
            "orientation": "horizontal",
            "min": 0,
            "description_tooltip": null,
            "_model_module": "@jupyter-widgets/controls",
            "layout": "IPY_MODEL_c6619b9f77ab49be94d9bca54d02d2c0"
          }
        },
        "c3814ac523d24e22bf33ee601b0c5382": {
          "model_module": "@jupyter-widgets/controls",
          "model_name": "HTMLModel",
          "model_module_version": "1.5.0",
          "state": {
            "_view_name": "HTMLView",
            "style": "IPY_MODEL_8f65a9beb1334e73943f7323c51a13cb",
            "_dom_classes": [],
            "description": "",
            "_model_name": "HTMLModel",
            "placeholder": "​",
            "_view_module": "@jupyter-widgets/controls",
            "_model_module_version": "1.5.0",
            "value": " 10/10 [00:02&lt;00:00,  4.31it/s]",
            "_view_count": null,
            "_view_module_version": "1.5.0",
            "description_tooltip": null,
            "_model_module": "@jupyter-widgets/controls",
            "layout": "IPY_MODEL_e1921776e8cd42d2b791ec649434b48d"
          }
        },
        "baae87642c764ab19ad112690fa2ebf0": {
          "model_module": "@jupyter-widgets/controls",
          "model_name": "DescriptionStyleModel",
          "model_module_version": "1.5.0",
          "state": {
            "_view_name": "StyleView",
            "_model_name": "DescriptionStyleModel",
            "description_width": "",
            "_view_module": "@jupyter-widgets/base",
            "_model_module_version": "1.5.0",
            "_view_count": null,
            "_view_module_version": "1.2.0",
            "_model_module": "@jupyter-widgets/controls"
          }
        },
        "52712b44fe4c48c8a082091c7b5100e3": {
          "model_module": "@jupyter-widgets/base",
          "model_name": "LayoutModel",
          "model_module_version": "1.2.0",
          "state": {
            "_view_name": "LayoutView",
            "grid_template_rows": null,
            "right": null,
            "justify_content": null,
            "_view_module": "@jupyter-widgets/base",
            "overflow": null,
            "_model_module_version": "1.2.0",
            "_view_count": null,
            "flex_flow": null,
            "width": null,
            "min_width": null,
            "border": null,
            "align_items": null,
            "bottom": null,
            "_model_module": "@jupyter-widgets/base",
            "top": null,
            "grid_column": null,
            "overflow_y": null,
            "overflow_x": null,
            "grid_auto_flow": null,
            "grid_area": null,
            "grid_template_columns": null,
            "flex": null,
            "_model_name": "LayoutModel",
            "justify_items": null,
            "grid_row": null,
            "max_height": null,
            "align_content": null,
            "visibility": null,
            "align_self": null,
            "height": null,
            "min_height": null,
            "padding": null,
            "grid_auto_rows": null,
            "grid_gap": null,
            "max_width": null,
            "order": null,
            "_view_module_version": "1.2.0",
            "grid_template_areas": null,
            "object_position": null,
            "object_fit": null,
            "grid_auto_columns": null,
            "margin": null,
            "display": null,
            "left": null
          }
        },
        "9da362e299874512befd6aaf781b5c5e": {
          "model_module": "@jupyter-widgets/controls",
          "model_name": "ProgressStyleModel",
          "model_module_version": "1.5.0",
          "state": {
            "_view_name": "StyleView",
            "_model_name": "ProgressStyleModel",
            "description_width": "",
            "_view_module": "@jupyter-widgets/base",
            "_model_module_version": "1.5.0",
            "_view_count": null,
            "_view_module_version": "1.2.0",
            "bar_color": null,
            "_model_module": "@jupyter-widgets/controls"
          }
        },
        "c6619b9f77ab49be94d9bca54d02d2c0": {
          "model_module": "@jupyter-widgets/base",
          "model_name": "LayoutModel",
          "model_module_version": "1.2.0",
          "state": {
            "_view_name": "LayoutView",
            "grid_template_rows": null,
            "right": null,
            "justify_content": null,
            "_view_module": "@jupyter-widgets/base",
            "overflow": null,
            "_model_module_version": "1.2.0",
            "_view_count": null,
            "flex_flow": null,
            "width": null,
            "min_width": null,
            "border": null,
            "align_items": null,
            "bottom": null,
            "_model_module": "@jupyter-widgets/base",
            "top": null,
            "grid_column": null,
            "overflow_y": null,
            "overflow_x": null,
            "grid_auto_flow": null,
            "grid_area": null,
            "grid_template_columns": null,
            "flex": null,
            "_model_name": "LayoutModel",
            "justify_items": null,
            "grid_row": null,
            "max_height": null,
            "align_content": null,
            "visibility": null,
            "align_self": null,
            "height": null,
            "min_height": null,
            "padding": null,
            "grid_auto_rows": null,
            "grid_gap": null,
            "max_width": null,
            "order": null,
            "_view_module_version": "1.2.0",
            "grid_template_areas": null,
            "object_position": null,
            "object_fit": null,
            "grid_auto_columns": null,
            "margin": null,
            "display": null,
            "left": null
          }
        },
        "8f65a9beb1334e73943f7323c51a13cb": {
          "model_module": "@jupyter-widgets/controls",
          "model_name": "DescriptionStyleModel",
          "model_module_version": "1.5.0",
          "state": {
            "_view_name": "StyleView",
            "_model_name": "DescriptionStyleModel",
            "description_width": "",
            "_view_module": "@jupyter-widgets/base",
            "_model_module_version": "1.5.0",
            "_view_count": null,
            "_view_module_version": "1.2.0",
            "_model_module": "@jupyter-widgets/controls"
          }
        },
        "e1921776e8cd42d2b791ec649434b48d": {
          "model_module": "@jupyter-widgets/base",
          "model_name": "LayoutModel",
          "model_module_version": "1.2.0",
          "state": {
            "_view_name": "LayoutView",
            "grid_template_rows": null,
            "right": null,
            "justify_content": null,
            "_view_module": "@jupyter-widgets/base",
            "overflow": null,
            "_model_module_version": "1.2.0",
            "_view_count": null,
            "flex_flow": null,
            "width": null,
            "min_width": null,
            "border": null,
            "align_items": null,
            "bottom": null,
            "_model_module": "@jupyter-widgets/base",
            "top": null,
            "grid_column": null,
            "overflow_y": null,
            "overflow_x": null,
            "grid_auto_flow": null,
            "grid_area": null,
            "grid_template_columns": null,
            "flex": null,
            "_model_name": "LayoutModel",
            "justify_items": null,
            "grid_row": null,
            "max_height": null,
            "align_content": null,
            "visibility": null,
            "align_self": null,
            "height": null,
            "min_height": null,
            "padding": null,
            "grid_auto_rows": null,
            "grid_gap": null,
            "max_width": null,
            "order": null,
            "_view_module_version": "1.2.0",
            "grid_template_areas": null,
            "object_position": null,
            "object_fit": null,
            "grid_auto_columns": null,
            "margin": null,
            "display": null,
            "left": null
          }
        },
        "4c971bd9e00742098a22e05fe1129eec": {
          "model_module": "@jupyter-widgets/controls",
          "model_name": "HBoxModel",
          "model_module_version": "1.5.0",
          "state": {
            "_view_name": "HBoxView",
            "_dom_classes": [],
            "_model_name": "HBoxModel",
            "_view_module": "@jupyter-widgets/controls",
            "_model_module_version": "1.5.0",
            "_view_count": null,
            "_view_module_version": "1.5.0",
            "box_style": "",
            "layout": "IPY_MODEL_7d90cb57774f4f80ae500e9f70c158f0",
            "_model_module": "@jupyter-widgets/controls",
            "children": [
              "IPY_MODEL_28aea954bd244036922f7aec62265d09",
              "IPY_MODEL_867a281537324584aee4a39ccc510efe",
              "IPY_MODEL_738d8c4ca1484449a94593844930ac44"
            ]
          }
        },
        "7d90cb57774f4f80ae500e9f70c158f0": {
          "model_module": "@jupyter-widgets/base",
          "model_name": "LayoutModel",
          "model_module_version": "1.2.0",
          "state": {
            "_view_name": "LayoutView",
            "grid_template_rows": null,
            "right": null,
            "justify_content": null,
            "_view_module": "@jupyter-widgets/base",
            "overflow": null,
            "_model_module_version": "1.2.0",
            "_view_count": null,
            "flex_flow": null,
            "width": null,
            "min_width": null,
            "border": null,
            "align_items": null,
            "bottom": null,
            "_model_module": "@jupyter-widgets/base",
            "top": null,
            "grid_column": null,
            "overflow_y": null,
            "overflow_x": null,
            "grid_auto_flow": null,
            "grid_area": null,
            "grid_template_columns": null,
            "flex": null,
            "_model_name": "LayoutModel",
            "justify_items": null,
            "grid_row": null,
            "max_height": null,
            "align_content": null,
            "visibility": null,
            "align_self": null,
            "height": null,
            "min_height": null,
            "padding": null,
            "grid_auto_rows": null,
            "grid_gap": null,
            "max_width": null,
            "order": null,
            "_view_module_version": "1.2.0",
            "grid_template_areas": null,
            "object_position": null,
            "object_fit": null,
            "grid_auto_columns": null,
            "margin": null,
            "display": null,
            "left": null
          }
        },
        "28aea954bd244036922f7aec62265d09": {
          "model_module": "@jupyter-widgets/controls",
          "model_name": "HTMLModel",
          "model_module_version": "1.5.0",
          "state": {
            "_view_name": "HTMLView",
            "style": "IPY_MODEL_4fe4b45609d14620b54cb44102e1a623",
            "_dom_classes": [],
            "description": "",
            "_model_name": "HTMLModel",
            "placeholder": "​",
            "_view_module": "@jupyter-widgets/controls",
            "_model_module_version": "1.5.0",
            "value": "100%",
            "_view_count": null,
            "_view_module_version": "1.5.0",
            "description_tooltip": null,
            "_model_module": "@jupyter-widgets/controls",
            "layout": "IPY_MODEL_e997ce389c28455386c9c13db182b96c"
          }
        },
        "867a281537324584aee4a39ccc510efe": {
          "model_module": "@jupyter-widgets/controls",
          "model_name": "FloatProgressModel",
          "model_module_version": "1.5.0",
          "state": {
            "_view_name": "ProgressView",
            "style": "IPY_MODEL_283947b94be947ab9c367a4f4c75ca20",
            "_dom_classes": [],
            "description": "",
            "_model_name": "FloatProgressModel",
            "bar_style": "success",
            "max": 104097,
            "_view_module": "@jupyter-widgets/controls",
            "_model_module_version": "1.5.0",
            "value": 104097,
            "_view_count": null,
            "_view_module_version": "1.5.0",
            "orientation": "horizontal",
            "min": 0,
            "description_tooltip": null,
            "_model_module": "@jupyter-widgets/controls",
            "layout": "IPY_MODEL_74cf27ff2c0640d88428fd9663ef9120"
          }
        },
        "738d8c4ca1484449a94593844930ac44": {
          "model_module": "@jupyter-widgets/controls",
          "model_name": "HTMLModel",
          "model_module_version": "1.5.0",
          "state": {
            "_view_name": "HTMLView",
            "style": "IPY_MODEL_bfad43312db34948a1237e7530ab9d13",
            "_dom_classes": [],
            "description": "",
            "_model_name": "HTMLModel",
            "placeholder": "​",
            "_view_module": "@jupyter-widgets/controls",
            "_model_module_version": "1.5.0",
            "value": " 104097/104097 [5:52:25&lt;00:00,  4.08it/s]",
            "_view_count": null,
            "_view_module_version": "1.5.0",
            "description_tooltip": null,
            "_model_module": "@jupyter-widgets/controls",
            "layout": "IPY_MODEL_1b435d58ca664b9a9a567fe12aa96d9d"
          }
        },
        "4fe4b45609d14620b54cb44102e1a623": {
          "model_module": "@jupyter-widgets/controls",
          "model_name": "DescriptionStyleModel",
          "model_module_version": "1.5.0",
          "state": {
            "_view_name": "StyleView",
            "_model_name": "DescriptionStyleModel",
            "description_width": "",
            "_view_module": "@jupyter-widgets/base",
            "_model_module_version": "1.5.0",
            "_view_count": null,
            "_view_module_version": "1.2.0",
            "_model_module": "@jupyter-widgets/controls"
          }
        },
        "e997ce389c28455386c9c13db182b96c": {
          "model_module": "@jupyter-widgets/base",
          "model_name": "LayoutModel",
          "model_module_version": "1.2.0",
          "state": {
            "_view_name": "LayoutView",
            "grid_template_rows": null,
            "right": null,
            "justify_content": null,
            "_view_module": "@jupyter-widgets/base",
            "overflow": null,
            "_model_module_version": "1.2.0",
            "_view_count": null,
            "flex_flow": null,
            "width": null,
            "min_width": null,
            "border": null,
            "align_items": null,
            "bottom": null,
            "_model_module": "@jupyter-widgets/base",
            "top": null,
            "grid_column": null,
            "overflow_y": null,
            "overflow_x": null,
            "grid_auto_flow": null,
            "grid_area": null,
            "grid_template_columns": null,
            "flex": null,
            "_model_name": "LayoutModel",
            "justify_items": null,
            "grid_row": null,
            "max_height": null,
            "align_content": null,
            "visibility": null,
            "align_self": null,
            "height": null,
            "min_height": null,
            "padding": null,
            "grid_auto_rows": null,
            "grid_gap": null,
            "max_width": null,
            "order": null,
            "_view_module_version": "1.2.0",
            "grid_template_areas": null,
            "object_position": null,
            "object_fit": null,
            "grid_auto_columns": null,
            "margin": null,
            "display": null,
            "left": null
          }
        },
        "283947b94be947ab9c367a4f4c75ca20": {
          "model_module": "@jupyter-widgets/controls",
          "model_name": "ProgressStyleModel",
          "model_module_version": "1.5.0",
          "state": {
            "_view_name": "StyleView",
            "_model_name": "ProgressStyleModel",
            "description_width": "",
            "_view_module": "@jupyter-widgets/base",
            "_model_module_version": "1.5.0",
            "_view_count": null,
            "_view_module_version": "1.2.0",
            "bar_color": null,
            "_model_module": "@jupyter-widgets/controls"
          }
        },
        "74cf27ff2c0640d88428fd9663ef9120": {
          "model_module": "@jupyter-widgets/base",
          "model_name": "LayoutModel",
          "model_module_version": "1.2.0",
          "state": {
            "_view_name": "LayoutView",
            "grid_template_rows": null,
            "right": null,
            "justify_content": null,
            "_view_module": "@jupyter-widgets/base",
            "overflow": null,
            "_model_module_version": "1.2.0",
            "_view_count": null,
            "flex_flow": null,
            "width": null,
            "min_width": null,
            "border": null,
            "align_items": null,
            "bottom": null,
            "_model_module": "@jupyter-widgets/base",
            "top": null,
            "grid_column": null,
            "overflow_y": null,
            "overflow_x": null,
            "grid_auto_flow": null,
            "grid_area": null,
            "grid_template_columns": null,
            "flex": null,
            "_model_name": "LayoutModel",
            "justify_items": null,
            "grid_row": null,
            "max_height": null,
            "align_content": null,
            "visibility": null,
            "align_self": null,
            "height": null,
            "min_height": null,
            "padding": null,
            "grid_auto_rows": null,
            "grid_gap": null,
            "max_width": null,
            "order": null,
            "_view_module_version": "1.2.0",
            "grid_template_areas": null,
            "object_position": null,
            "object_fit": null,
            "grid_auto_columns": null,
            "margin": null,
            "display": null,
            "left": null
          }
        },
        "bfad43312db34948a1237e7530ab9d13": {
          "model_module": "@jupyter-widgets/controls",
          "model_name": "DescriptionStyleModel",
          "model_module_version": "1.5.0",
          "state": {
            "_view_name": "StyleView",
            "_model_name": "DescriptionStyleModel",
            "description_width": "",
            "_view_module": "@jupyter-widgets/base",
            "_model_module_version": "1.5.0",
            "_view_count": null,
            "_view_module_version": "1.2.0",
            "_model_module": "@jupyter-widgets/controls"
          }
        },
        "1b435d58ca664b9a9a567fe12aa96d9d": {
          "model_module": "@jupyter-widgets/base",
          "model_name": "LayoutModel",
          "model_module_version": "1.2.0",
          "state": {
            "_view_name": "LayoutView",
            "grid_template_rows": null,
            "right": null,
            "justify_content": null,
            "_view_module": "@jupyter-widgets/base",
            "overflow": null,
            "_model_module_version": "1.2.0",
            "_view_count": null,
            "flex_flow": null,
            "width": null,
            "min_width": null,
            "border": null,
            "align_items": null,
            "bottom": null,
            "_model_module": "@jupyter-widgets/base",
            "top": null,
            "grid_column": null,
            "overflow_y": null,
            "overflow_x": null,
            "grid_auto_flow": null,
            "grid_area": null,
            "grid_template_columns": null,
            "flex": null,
            "_model_name": "LayoutModel",
            "justify_items": null,
            "grid_row": null,
            "max_height": null,
            "align_content": null,
            "visibility": null,
            "align_self": null,
            "height": null,
            "min_height": null,
            "padding": null,
            "grid_auto_rows": null,
            "grid_gap": null,
            "max_width": null,
            "order": null,
            "_view_module_version": "1.2.0",
            "grid_template_areas": null,
            "object_position": null,
            "object_fit": null,
            "grid_auto_columns": null,
            "margin": null,
            "display": null,
            "left": null
          }
        }
      }
    }
  },
  "cells": [
    {
      "cell_type": "markdown",
      "metadata": {
        "id": "view-in-github",
        "colab_type": "text"
      },
      "source": [
        "<a href=\"https://colab.research.google.com/github/junjibea/2021-2-Interpark-review/blob/main/211217_%ED%85%8D%EC%8A%A4%ED%8A%B8%EC%A0%84%EC%B2%98%EB%A6%AC.ipynb\" target=\"_parent\"><img src=\"https://colab.research.google.com/assets/colab-badge.svg\" alt=\"Open In Colab\"/></a>"
      ]
    },
    {
      "cell_type": "code",
      "source": [
        "import pandas as pd\n",
        "import re"
      ],
      "metadata": {
        "id": "oUbzPaz2q1Sd"
      },
      "execution_count": null,
      "outputs": []
    },
    {
      "cell_type": "code",
      "execution_count": null,
      "metadata": {
        "colab": {
          "base_uri": "https://localhost:8080/"
        },
        "id": "S8fmB018qvW_",
        "outputId": "37a18979-4506-4f23-bc9c-a93110c80b63"
      },
      "outputs": [
        {
          "output_type": "stream",
          "name": "stdout",
          "text": [
            "Mounted at /content/drive\n"
          ]
        }
      ],
      "source": [
        "from google.colab import drive\n",
        "drive.mount('/content/drive')"
      ]
    },
    {
      "cell_type": "code",
      "source": [
        "df = pd.read_csv('/content/drive/MyDrive/DScover 프로젝트 4조/DATA/review_total_all.2.0.0.csv', encoding='cp949')"
      ],
      "metadata": {
        "id": "_Fddg1UXq5tg"
      },
      "execution_count": null,
      "outputs": []
    },
    {
      "cell_type": "code",
      "source": [
        "df.head()"
      ],
      "metadata": {
        "colab": {
          "base_uri": "https://localhost:8080/",
          "height": 293
        },
        "id": "YdwK2MR3rTkf",
        "outputId": "bf1b1a83-3547-4d15-d28e-bae8ebfa5fe8"
      },
      "execution_count": null,
      "outputs": [
        {
          "output_type": "execute_result",
          "data": {
            "text/html": [
              "<div>\n",
              "<style scoped>\n",
              "    .dataframe tbody tr th:only-of-type {\n",
              "        vertical-align: middle;\n",
              "    }\n",
              "\n",
              "    .dataframe tbody tr th {\n",
              "        vertical-align: top;\n",
              "    }\n",
              "\n",
              "    .dataframe thead th {\n",
              "        text-align: right;\n",
              "    }\n",
              "</style>\n",
              "<table border=\"1\" class=\"dataframe\">\n",
              "  <thead>\n",
              "    <tr style=\"text-align: right;\">\n",
              "      <th></th>\n",
              "      <th>title</th>\n",
              "      <th>text</th>\n",
              "      <th>id</th>\n",
              "      <th>date</th>\n",
              "      <th>like</th>\n",
              "      <th>rate</th>\n",
              "      <th>place</th>\n",
              "      <th>season</th>\n",
              "      <th>cast</th>\n",
              "      <th>show</th>\n",
              "      <th>genre</th>\n",
              "    </tr>\n",
              "  </thead>\n",
              "  <tbody>\n",
              "    <tr>\n",
              "      <th>0</th>\n",
              "      <td>쌀르페우스 최고</td>\n",
              "      <td>정말 최고에요\\n노래도 최고 연기도 최고\\n꼭보세요 두번보세요</td>\n",
              "      <td>ysmell***</td>\n",
              "      <td>2021-11-01</td>\n",
              "      <td>0</td>\n",
              "      <td>5.0</td>\n",
              "      <td>LG아트센터</td>\n",
              "      <td>2021.09.07 ~2022.02.27</td>\n",
              "      <td>조형균,박강현,시우민,최재림,강홍석,김선영,박혜나,김환희,김수하,지현준,양준모,김우...</td>\n",
              "      <td>하데스타운</td>\n",
              "      <td>뮤지컬</td>\n",
              "    </tr>\n",
              "    <tr>\n",
              "      <th>1</th>\n",
              "      <td>하데스타운</td>\n",
              "      <td>두번째 관람하니 더 감동이네요. 참 잘만들어진 극입니다.</td>\n",
              "      <td>17***</td>\n",
              "      <td>2021-11-01</td>\n",
              "      <td>0</td>\n",
              "      <td>5.0</td>\n",
              "      <td>LG아트센터</td>\n",
              "      <td>2021.09.07 ~2022.02.27</td>\n",
              "      <td>조형균,박강현,시우민,최재림,강홍석,김선영,박혜나,김환희,김수하,지현준,양준모,김우...</td>\n",
              "      <td>하데스타운</td>\n",
              "      <td>뮤지컬</td>\n",
              "    </tr>\n",
              "    <tr>\n",
              "      <th>2</th>\n",
              "      <td>운명의 세 여신님들</td>\n",
              "      <td>극 중에선 너무 얄미우신데 캐릭터를 넘 잘 살리셔서 매력적이에요~</td>\n",
              "      <td>skygirl***</td>\n",
              "      <td>2021-11-01</td>\n",
              "      <td>0</td>\n",
              "      <td>5.0</td>\n",
              "      <td>LG아트센터</td>\n",
              "      <td>2021.09.07 ~2022.02.27</td>\n",
              "      <td>조형균,박강현,시우민,최재림,강홍석,김선영,박혜나,김환희,김수하,지현준,양준모,김우...</td>\n",
              "      <td>하데스타운</td>\n",
              "      <td>뮤지컬</td>\n",
              "    </tr>\n",
              "    <tr>\n",
              "      <th>3</th>\n",
              "      <td>재밌었어요.</td>\n",
              "      <td>재르메스 멋있고 조형균배우 음색 너무예뻐요~~수하배우님도 예뻤답니다.</td>\n",
              "      <td>sbr</td>\n",
              "      <td>2021-11-01</td>\n",
              "      <td>0</td>\n",
              "      <td>4.0</td>\n",
              "      <td>LG아트센터</td>\n",
              "      <td>2021.09.07 ~2022.02.27</td>\n",
              "      <td>조형균,박강현,시우민,최재림,강홍석,김선영,박혜나,김환희,김수하,지현준,양준모,김우...</td>\n",
              "      <td>하데스타운</td>\n",
              "      <td>뮤지컬</td>\n",
              "    </tr>\n",
              "    <tr>\n",
              "      <th>4</th>\n",
              "      <td>재미있어요~</td>\n",
              "      <td>넘버가 너무너무 좋아요 재미있어요</td>\n",
              "      <td>mbw***</td>\n",
              "      <td>2021-11-01</td>\n",
              "      <td>0</td>\n",
              "      <td>5.0</td>\n",
              "      <td>LG아트센터</td>\n",
              "      <td>2021.09.07 ~2022.02.27</td>\n",
              "      <td>조형균,박강현,시우민,최재림,강홍석,김선영,박혜나,김환희,김수하,지현준,양준모,김우...</td>\n",
              "      <td>하데스타운</td>\n",
              "      <td>뮤지컬</td>\n",
              "    </tr>\n",
              "  </tbody>\n",
              "</table>\n",
              "</div>"
            ],
            "text/plain": [
              "        title                                    text  ...   show genre\n",
              "0    쌀르페우스 최고      정말 최고에요\\n노래도 최고 연기도 최고\\n꼭보세요 두번보세요  ...  하데스타운   뮤지컬\n",
              "1       하데스타운         두번째 관람하니 더 감동이네요. 참 잘만들어진 극입니다.  ...  하데스타운   뮤지컬\n",
              "2  운명의 세 여신님들    극 중에선 너무 얄미우신데 캐릭터를 넘 잘 살리셔서 매력적이에요~  ...  하데스타운   뮤지컬\n",
              "3      재밌었어요.  재르메스 멋있고 조형균배우 음색 너무예뻐요~~수하배우님도 예뻤답니다.  ...  하데스타운   뮤지컬\n",
              "4      재미있어요~                      넘버가 너무너무 좋아요 재미있어요  ...  하데스타운   뮤지컬\n",
              "\n",
              "[5 rows x 11 columns]"
            ]
          },
          "metadata": {},
          "execution_count": 4
        }
      ]
    },
    {
      "cell_type": "code",
      "source": [
        "df.info()"
      ],
      "metadata": {
        "colab": {
          "base_uri": "https://localhost:8080/"
        },
        "id": "AK6QGTcErXVS",
        "outputId": "0f238f5d-51f5-4ce4-d5ba-55fc130bb5f9"
      },
      "execution_count": null,
      "outputs": [
        {
          "output_type": "stream",
          "name": "stdout",
          "text": [
            "<class 'pandas.core.frame.DataFrame'>\n",
            "RangeIndex: 154097 entries, 0 to 154096\n",
            "Data columns (total 11 columns):\n",
            " #   Column  Non-Null Count   Dtype  \n",
            "---  ------  --------------   -----  \n",
            " 0   title   154097 non-null  object \n",
            " 1   text    154097 non-null  object \n",
            " 2   id      154097 non-null  object \n",
            " 3   date    154097 non-null  object \n",
            " 4   like    154097 non-null  int64  \n",
            " 5   rate    154097 non-null  float64\n",
            " 6   place   154097 non-null  object \n",
            " 7   season  154097 non-null  object \n",
            " 8   cast    154097 non-null  object \n",
            " 9   show    154097 non-null  object \n",
            " 10  genre   154097 non-null  object \n",
            "dtypes: float64(1), int64(1), object(9)\n",
            "memory usage: 12.9+ MB\n"
          ]
        }
      ]
    },
    {
      "cell_type": "code",
      "source": [
        "#soynlp 자주 사용\n",
        "# https://pypi.org/project/soynlp/\n",
        "! pip install soynlp  \n",
        "\n",
        "#py-hanspell\n",
        "! pip install git+https://github.com/ssut/py-hanspell.git "
      ],
      "metadata": {
        "colab": {
          "base_uri": "https://localhost:8080/"
        },
        "id": "v0Ljef3nrZpl",
        "outputId": "832f6990-5e4b-46b3-e28f-1f28ef490676"
      },
      "execution_count": null,
      "outputs": [
        {
          "output_type": "stream",
          "name": "stdout",
          "text": [
            "Requirement already satisfied: soynlp in /usr/local/lib/python3.7/dist-packages (0.0.493)\n",
            "Requirement already satisfied: scikit-learn>=0.20.0 in /usr/local/lib/python3.7/dist-packages (from soynlp) (1.0.1)\n",
            "Requirement already satisfied: psutil>=5.0.1 in /usr/local/lib/python3.7/dist-packages (from soynlp) (5.4.8)\n",
            "Requirement already satisfied: numpy>=1.12.1 in /usr/local/lib/python3.7/dist-packages (from soynlp) (1.19.5)\n",
            "Requirement already satisfied: scipy>=1.1.0 in /usr/local/lib/python3.7/dist-packages (from soynlp) (1.4.1)\n",
            "Requirement already satisfied: joblib>=0.11 in /usr/local/lib/python3.7/dist-packages (from scikit-learn>=0.20.0->soynlp) (1.1.0)\n",
            "Requirement already satisfied: threadpoolctl>=2.0.0 in /usr/local/lib/python3.7/dist-packages (from scikit-learn>=0.20.0->soynlp) (3.0.0)\n",
            "Collecting git+https://github.com/ssut/py-hanspell.git\n",
            "  Cloning https://github.com/ssut/py-hanspell.git to /tmp/pip-req-build-if1z5qlu\n",
            "  Running command git clone -q https://github.com/ssut/py-hanspell.git /tmp/pip-req-build-if1z5qlu\n",
            "Requirement already satisfied: requests in /usr/local/lib/python3.7/dist-packages (from py-hanspell==1.1) (2.23.0)\n",
            "Requirement already satisfied: urllib3!=1.25.0,!=1.25.1,<1.26,>=1.21.1 in /usr/local/lib/python3.7/dist-packages (from requests->py-hanspell==1.1) (1.24.3)\n",
            "Requirement already satisfied: certifi>=2017.4.17 in /usr/local/lib/python3.7/dist-packages (from requests->py-hanspell==1.1) (2021.10.8)\n",
            "Requirement already satisfied: idna<3,>=2.5 in /usr/local/lib/python3.7/dist-packages (from requests->py-hanspell==1.1) (2.10)\n",
            "Requirement already satisfied: chardet<4,>=3.0.2 in /usr/local/lib/python3.7/dist-packages (from requests->py-hanspell==1.1) (3.0.4)\n"
          ]
        }
      ]
    },
    {
      "cell_type": "code",
      "source": [
        "from soynlp.normalizer import repeat_normalize\n",
        "from soynlp.normalizer import only_hangle_number\n",
        "from hanspell import spell_checker  #부산대 맞춤법 교정기\n",
        "\n",
        "def ko_text_clean(text):  #text를 전처리해주는 함수 정의\n",
        "    \n",
        "    text = only_hangle_number(text)  #특수문자나 숫자 모두 제거하고 한글만 남기기\n",
        "    text = re.sub('([ㄱ-ㅎㅏ-ㅣ]+)', '', text)\n",
        "    text = repeat_normalize(text, num_repeats=2)  #2번이상 반복적으로 쓴 단어 제거하기\n",
        "    spell = spell_checker.check(text)  #맞춤법 교정(완벽하지는 않지만 띄어쓰기도 교정 가능)\n",
        "    text = spell.checked\n",
        "    text = re.sub('\\s+', ' ', text) # 중복 띄어쓰기 삭제\n",
        "\n",
        "    return text.strip() #앞뒤공백제거"
      ],
      "metadata": {
        "id": "jhI5rl39rd5q"
      },
      "execution_count": null,
      "outputs": []
    },
    {
      "cell_type": "code",
      "source": [
        "df.text.iloc[50000]"
      ],
      "metadata": {
        "colab": {
          "base_uri": "https://localhost:8080/",
          "height": 35
        },
        "id": "d2e2rIdLrjCl",
        "outputId": "5f942872-8e0a-4b34-a8fb-f4ca525dd56d"
      },
      "execution_count": null,
      "outputs": [
        {
          "output_type": "execute_result",
          "data": {
            "application/vnd.google.colaboratory.intrinsic+json": {
              "type": "string"
            },
            "text/plain": [
              "'코로나시국에 무슨 공연인가 싶었는데\\n공연장도 안전하게 잘 관리하고 관객분들도 소리 지르는거 참고 박수로 환호하는 모습에\\n안심하고 공연 봤습니다.\\n믿고보는 조승우님 공연은 언제나 감사합니다.'"
            ]
          },
          "metadata": {},
          "execution_count": 8
        }
      ]
    },
    {
      "cell_type": "code",
      "source": [
        "ko_text_clean(df.text.iloc[50000])"
      ],
      "metadata": {
        "colab": {
          "base_uri": "https://localhost:8080/",
          "height": 35
        },
        "id": "dcujWQPPrkQj",
        "outputId": "fbde1363-f3d3-446b-dbc0-400f7bb6af76"
      },
      "execution_count": null,
      "outputs": [
        {
          "output_type": "execute_result",
          "data": {
            "application/vnd.google.colaboratory.intrinsic+json": {
              "type": "string"
            },
            "text/plain": [
              "'코로나 시국에 무슨 공연인가 싶었는데 공연장도 안전하게 잘 관리하고 관객분들도 소리 지르는 거 참고 박수로 환호하는 모습에 안심하고 공연 봤습니다 믿고 보는 조승우 님 공연은 언제나 감사합니다'"
            ]
          },
          "metadata": {},
          "execution_count": 9
        }
      ]
    },
    {
      "cell_type": "code",
      "source": [
        "#모든 text 합치기\n",
        "df['body'] = df['title'].str.cat(df['text'],sep=\" \")"
      ],
      "metadata": {
        "id": "5E-cf_jErngp"
      },
      "execution_count": null,
      "outputs": []
    },
    {
      "cell_type": "code",
      "source": [
        "df.head()"
      ],
      "metadata": {
        "colab": {
          "base_uri": "https://localhost:8080/",
          "height": 380
        },
        "id": "fu0tYbUE5_J7",
        "outputId": "30500301-de60-4221-ad54-d35f20405738"
      },
      "execution_count": null,
      "outputs": [
        {
          "output_type": "execute_result",
          "data": {
            "text/html": [
              "<div>\n",
              "<style scoped>\n",
              "    .dataframe tbody tr th:only-of-type {\n",
              "        vertical-align: middle;\n",
              "    }\n",
              "\n",
              "    .dataframe tbody tr th {\n",
              "        vertical-align: top;\n",
              "    }\n",
              "\n",
              "    .dataframe thead th {\n",
              "        text-align: right;\n",
              "    }\n",
              "</style>\n",
              "<table border=\"1\" class=\"dataframe\">\n",
              "  <thead>\n",
              "    <tr style=\"text-align: right;\">\n",
              "      <th></th>\n",
              "      <th>title</th>\n",
              "      <th>text</th>\n",
              "      <th>id</th>\n",
              "      <th>date</th>\n",
              "      <th>like</th>\n",
              "      <th>rate</th>\n",
              "      <th>place</th>\n",
              "      <th>season</th>\n",
              "      <th>cast</th>\n",
              "      <th>show</th>\n",
              "      <th>genre</th>\n",
              "      <th>body</th>\n",
              "    </tr>\n",
              "  </thead>\n",
              "  <tbody>\n",
              "    <tr>\n",
              "      <th>0</th>\n",
              "      <td>쌀르페우스 최고</td>\n",
              "      <td>정말 최고에요\\n노래도 최고 연기도 최고\\n꼭보세요 두번보세요</td>\n",
              "      <td>ysmell***</td>\n",
              "      <td>2021-11-01</td>\n",
              "      <td>0</td>\n",
              "      <td>5.0</td>\n",
              "      <td>LG아트센터</td>\n",
              "      <td>2021.09.07 ~2022.02.27</td>\n",
              "      <td>조형균,박강현,시우민,최재림,강홍석,김선영,박혜나,김환희,김수하,지현준,양준모,김우...</td>\n",
              "      <td>하데스타운</td>\n",
              "      <td>뮤지컬</td>\n",
              "      <td>쌀르페우스 최고 정말 최고에요\\n노래도 최고 연기도 최고\\n꼭보세요 두번보세요</td>\n",
              "    </tr>\n",
              "    <tr>\n",
              "      <th>1</th>\n",
              "      <td>하데스타운</td>\n",
              "      <td>두번째 관람하니 더 감동이네요. 참 잘만들어진 극입니다.</td>\n",
              "      <td>17***</td>\n",
              "      <td>2021-11-01</td>\n",
              "      <td>0</td>\n",
              "      <td>5.0</td>\n",
              "      <td>LG아트센터</td>\n",
              "      <td>2021.09.07 ~2022.02.27</td>\n",
              "      <td>조형균,박강현,시우민,최재림,강홍석,김선영,박혜나,김환희,김수하,지현준,양준모,김우...</td>\n",
              "      <td>하데스타운</td>\n",
              "      <td>뮤지컬</td>\n",
              "      <td>하데스타운 두번째 관람하니 더 감동이네요. 참 잘만들어진 극입니다.</td>\n",
              "    </tr>\n",
              "    <tr>\n",
              "      <th>2</th>\n",
              "      <td>운명의 세 여신님들</td>\n",
              "      <td>극 중에선 너무 얄미우신데 캐릭터를 넘 잘 살리셔서 매력적이에요~</td>\n",
              "      <td>skygirl***</td>\n",
              "      <td>2021-11-01</td>\n",
              "      <td>0</td>\n",
              "      <td>5.0</td>\n",
              "      <td>LG아트센터</td>\n",
              "      <td>2021.09.07 ~2022.02.27</td>\n",
              "      <td>조형균,박강현,시우민,최재림,강홍석,김선영,박혜나,김환희,김수하,지현준,양준모,김우...</td>\n",
              "      <td>하데스타운</td>\n",
              "      <td>뮤지컬</td>\n",
              "      <td>운명의 세 여신님들 극 중에선 너무 얄미우신데 캐릭터를 넘 잘 살리셔서 매력적이에요~</td>\n",
              "    </tr>\n",
              "    <tr>\n",
              "      <th>3</th>\n",
              "      <td>재밌었어요.</td>\n",
              "      <td>재르메스 멋있고 조형균배우 음색 너무예뻐요~~수하배우님도 예뻤답니다.</td>\n",
              "      <td>sbr</td>\n",
              "      <td>2021-11-01</td>\n",
              "      <td>0</td>\n",
              "      <td>4.0</td>\n",
              "      <td>LG아트센터</td>\n",
              "      <td>2021.09.07 ~2022.02.27</td>\n",
              "      <td>조형균,박강현,시우민,최재림,강홍석,김선영,박혜나,김환희,김수하,지현준,양준모,김우...</td>\n",
              "      <td>하데스타운</td>\n",
              "      <td>뮤지컬</td>\n",
              "      <td>재밌었어요. 재르메스 멋있고 조형균배우 음색 너무예뻐요~~수하배우님도 예뻤답니다.</td>\n",
              "    </tr>\n",
              "    <tr>\n",
              "      <th>4</th>\n",
              "      <td>재미있어요~</td>\n",
              "      <td>넘버가 너무너무 좋아요 재미있어요</td>\n",
              "      <td>mbw***</td>\n",
              "      <td>2021-11-01</td>\n",
              "      <td>0</td>\n",
              "      <td>5.0</td>\n",
              "      <td>LG아트센터</td>\n",
              "      <td>2021.09.07 ~2022.02.27</td>\n",
              "      <td>조형균,박강현,시우민,최재림,강홍석,김선영,박혜나,김환희,김수하,지현준,양준모,김우...</td>\n",
              "      <td>하데스타운</td>\n",
              "      <td>뮤지컬</td>\n",
              "      <td>재미있어요~ 넘버가 너무너무 좋아요 재미있어요</td>\n",
              "    </tr>\n",
              "  </tbody>\n",
              "</table>\n",
              "</div>"
            ],
            "text/plain": [
              "        title  ...                                             body\n",
              "0    쌀르페우스 최고  ...      쌀르페우스 최고 정말 최고에요\\n노래도 최고 연기도 최고\\n꼭보세요 두번보세요\n",
              "1       하데스타운  ...            하데스타운 두번째 관람하니 더 감동이네요. 참 잘만들어진 극입니다.\n",
              "2  운명의 세 여신님들  ...  운명의 세 여신님들 극 중에선 너무 얄미우신데 캐릭터를 넘 잘 살리셔서 매력적이에요~\n",
              "3      재밌었어요.  ...    재밌었어요. 재르메스 멋있고 조형균배우 음색 너무예뻐요~~수하배우님도 예뻤답니다.\n",
              "4      재미있어요~  ...                        재미있어요~ 넘버가 너무너무 좋아요 재미있어요\n",
              "\n",
              "[5 rows x 12 columns]"
            ]
          },
          "metadata": {},
          "execution_count": 11
        }
      ]
    },
    {
      "cell_type": "code",
      "source": [
        "!pip install tqdm \n",
        "from tqdm import trange, notebook # show progress-bar\n",
        "\n",
        "#출처: https://signing.tistory.com/32 [끄적거림]"
      ],
      "metadata": {
        "colab": {
          "base_uri": "https://localhost:8080/"
        },
        "id": "CREdW8CAFoBm",
        "outputId": "acd382be-01f5-4c62-c661-391c62343b5c"
      },
      "execution_count": null,
      "outputs": [
        {
          "output_type": "stream",
          "name": "stdout",
          "text": [
            "Requirement already satisfied: tqdm in /usr/local/lib/python3.7/dist-packages (4.62.3)\n"
          ]
        }
      ]
    },
    {
      "cell_type": "markdown",
      "source": [
        "test"
      ],
      "metadata": {
        "id": "OrdsMvGJ5Lbu"
      }
    },
    {
      "cell_type": "code",
      "source": [
        "#test\n",
        "body = []\n",
        "for i in notebook.tqdm(range(10)):\n",
        "    try:\n",
        "        b = ko_text_clean(df.body.iloc[i])\n",
        "    except:\n",
        "        b = 1\n",
        "    body.append(b)\n",
        "body"
      ],
      "metadata": {
        "colab": {
          "base_uri": "https://localhost:8080/",
          "height": 250,
          "referenced_widgets": [
            "91a9053dbce2425e8c8ed79749ea59a4",
            "3b2c36f2fc5c494a811b2b76f3262650",
            "983dc5ac1a974a609a06c57a20528253",
            "769b88e8109d485a893d87d44f409680",
            "c3814ac523d24e22bf33ee601b0c5382",
            "baae87642c764ab19ad112690fa2ebf0",
            "52712b44fe4c48c8a082091c7b5100e3",
            "9da362e299874512befd6aaf781b5c5e",
            "c6619b9f77ab49be94d9bca54d02d2c0",
            "8f65a9beb1334e73943f7323c51a13cb",
            "e1921776e8cd42d2b791ec649434b48d"
          ]
        },
        "id": "tku2EZNwFtiU",
        "outputId": "2e89ff1f-cb47-487c-c55f-da05e74ba9f9"
      },
      "execution_count": null,
      "outputs": [
        {
          "output_type": "display_data",
          "data": {
            "application/vnd.jupyter.widget-view+json": {
              "model_id": "91a9053dbce2425e8c8ed79749ea59a4",
              "version_minor": 0,
              "version_major": 2
            },
            "text/plain": [
              "  0%|          | 0/10 [00:00<?, ?it/s]"
            ]
          },
          "metadata": {}
        },
        {
          "output_type": "execute_result",
          "data": {
            "text/plain": [
              "['쌀 르페 우스 최고 정말 최고예요 노래도 최고 연기도 최고 꼭 보세요 두 번 보세요',\n",
              " '하데스 타운 두 번째 관람하니 더 감동이네요 참 잘 만들어진 극입니다',\n",
              " '운명의 세 여신님들 극 중에선 너무 얄미우신데 캐릭터를 너무 잘 살리셔서 매력적이에요',\n",
              " '재밌었어요 자르 메스 멋있고 조형균 배우 음색 너무 예뻐요 수하 배우님도 예뻤답니다',\n",
              " '재미있어요 넘버가 너무너무 좋아요 재미있어요',\n",
              " '조형균 배우님 목소리에 반했습니다 계속 시우민 배우님으로만 보다가 처음으로 조형균 배우님 보고 왔어요 유튜브에 공개된 에픽 3 영상으로 이미 기대하고 있었는데 그 이상으로 잘하시더라고요 웨이트 포미랑 에픽 3가 정말 정말 좋았어요 좀 더 강인하고 소신 있는 오르페우스처럼 보였는데 그런 해석이 너무너무 좋더라고요 정말 잘 보고 왔습니다',\n",
              " '잘 보고 왔습니다 깡르페우스 보고 왔어요 말해 뭐 해 역시나 기대 이상으로 오르페우스 역할에 찰떡이더라고요 너무너무 재밌게 잘 보고 왔습니다',\n",
              " '배우들마다 연기가 조금씩 달라서 더 좋아요 회전 도는 중인데 배우들마다 디테일도 조금씩 다르고 연기의 노선이나 캐릭터 해석이 조금씩 다른 게 느껴져서 보는 재미가 있었어요 어떤 배우로 봐도 너무너무 재밌는 공연입니다 정말 추천해요',\n",
              " '최고의 뮤지컬 그리스 로마 신화를 이렇게 각색할 수도 있구나 싶었다 노래도 너무 좋고 배우들 연기도 최고',\n",
              " '뮤지컬 하데스 타운 최초 한국 공연 뮤지컬 하데스 타운 최초 한국 공연 추천합니다']"
            ]
          },
          "metadata": {},
          "execution_count": 17
        }
      ]
    },
    {
      "cell_type": "markdown",
      "source": [
        "50000행 -> 빠진 전처리 있음"
      ],
      "metadata": {
        "id": "-P4W4vzI5OMG"
      }
    },
    {
      "cell_type": "code",
      "source": [
        "body = []\n",
        "for i in notebook.tqdm(range(50000)):\n",
        "    try:\n",
        "        b = ko_text_clean(df.body.iloc[i])\n",
        "    except:\n",
        "        b = 1\n",
        "    body.append(b)\n",
        "body_0945 = pd.DataFrame(body)\n",
        "temp = pd.DataFrame(body_0945)\n",
        "temp.to_csv('./temp.csv', index=None)\n",
        "#추가로 필요한 전처리\n",
        "#text = re.sub('([ㄱ-ㅎㅏ-ㅣ]+)', '', text) #자음모음 삭제\n",
        "#text = re.sub('\\s+', ' ', text) # 중복 띄어쓰기 삭제\n",
        "#return text.strip() #앞뒤공백제거"
      ],
      "metadata": {
        "id": "vaqJkug7464T"
      },
      "execution_count": null,
      "outputs": []
    },
    {
      "cell_type": "markdown",
      "source": [
        "나머지 행"
      ],
      "metadata": {
        "id": "sAeXdp8O5ncU"
      }
    },
    {
      "cell_type": "code",
      "source": [
        "body = []\n",
        "for i in notebook.tqdm(range(50000, len(df))):\n",
        "    try:\n",
        "        b = ko_text_clean(df.body.iloc[i])\n",
        "    except:\n",
        "        b = 1\n",
        "    body.append(b)"
      ],
      "metadata": {
        "colab": {
          "base_uri": "https://localhost:8080/",
          "height": 49,
          "referenced_widgets": [
            "4c971bd9e00742098a22e05fe1129eec",
            "7d90cb57774f4f80ae500e9f70c158f0",
            "28aea954bd244036922f7aec62265d09",
            "867a281537324584aee4a39ccc510efe",
            "738d8c4ca1484449a94593844930ac44",
            "4fe4b45609d14620b54cb44102e1a623",
            "e997ce389c28455386c9c13db182b96c",
            "283947b94be947ab9c367a4f4c75ca20",
            "74cf27ff2c0640d88428fd9663ef9120",
            "bfad43312db34948a1237e7530ab9d13",
            "1b435d58ca664b9a9a567fe12aa96d9d"
          ]
        },
        "id": "Y8DwvQ_8G7A5",
        "outputId": "36e22f9f-7b5d-44ce-c1f8-e8f55060e11c"
      },
      "execution_count": null,
      "outputs": [
        {
          "output_type": "display_data",
          "data": {
            "application/vnd.jupyter.widget-view+json": {
              "model_id": "4c971bd9e00742098a22e05fe1129eec",
              "version_minor": 0,
              "version_major": 2
            },
            "text/plain": [
              "  0%|          | 0/104097 [00:00<?, ?it/s]"
            ]
          },
          "metadata": {}
        }
      ]
    },
    {
      "cell_type": "code",
      "source": [
        "temp2 = pd.DataFrame(body)\n",
        "temp2.to_csv('./temp2.csv', index=None)"
      ],
      "metadata": {
        "id": "C1xpFsL4NvUe"
      },
      "execution_count": null,
      "outputs": []
    },
    {
      "cell_type": "markdown",
      "source": [
        "temp + temp2 파일 합치기"
      ],
      "metadata": {
        "id": "y7cenzQU4f9O"
      }
    },
    {
      "cell_type": "code",
      "source": [
        "#temp_1 = pd.read_csv('C:/Users/YUHA/Downloads/temp.csv')\n",
        "#temp_2 = pd.read_csv('C:/Users/YUHA/Downloads/temp2.csv')"
      ],
      "metadata": {
        "id": "jtb6VqYg5uQP"
      },
      "execution_count": null,
      "outputs": []
    },
    {
      "cell_type": "code",
      "source": [
        "temp_1.fillna('0', inplace=True)\n",
        "temp_2.fillna('0', inplace=True)"
      ],
      "metadata": {
        "id": "_-CKDHrb25tk"
      },
      "execution_count": null,
      "outputs": []
    },
    {
      "cell_type": "code",
      "source": [
        "#첫번째 파일에 추가로 필요한 전처리\n",
        "\n",
        "def cleansing(text):\n",
        "    text = re.sub('([ㄱ-ㅎㅏ-ㅣ]+)', '', text) #자음모음 삭제\n",
        "    text = re.sub('\\s+', ' ', text) # 중복 띄어쓰기 삭제\n",
        "    return text.strip() #앞뒤공백제거"
      ],
      "metadata": {
        "id": "s_u2BAh_kDzU"
      },
      "execution_count": null,
      "outputs": []
    },
    {
      "cell_type": "code",
      "source": [
        "temp_12 = []\n",
        "for i in range(len(temp_1)):\n",
        "    t = cleansing(temp_1['0'][i])\n",
        "    temp_12.append(t)\n",
        "temp_1['1'] = temp_12"
      ],
      "metadata": {
        "id": "QTIk684nkD16"
      },
      "execution_count": null,
      "outputs": []
    },
    {
      "cell_type": "code",
      "source": [
        "temp_12 = temp_1['1'].to_list()\n",
        "temp_22 = temp_2['0'].to_list()\n",
        "temp_12.extend(temp_22)"
      ],
      "metadata": {
        "id": "9E0xguCbkJ97"
      },
      "execution_count": null,
      "outputs": []
    },
    {
      "cell_type": "code",
      "source": [
        "df['body'] = temp_12"
      ],
      "metadata": {
        "id": "K1YB8oUakKAQ"
      },
      "execution_count": null,
      "outputs": []
    },
    {
      "cell_type": "code",
      "source": [
        "# null 값 제거\n",
        "index = df[df['body']=='0'].index\n",
        "df.drop(index, inplace = True)\n",
        "df.reset_index(drop=True, inplace=True)"
      ],
      "metadata": {
        "id": "h23JvYVzkQPL"
      },
      "execution_count": null,
      "outputs": []
    },
    {
      "cell_type": "code",
      "source": [
        "# 조작 여부 열 추가\n",
        "y = df.duplicated(['show', 'id', 'body']).to_list()\n",
        "df['rig'] = y"
      ],
      "metadata": {
        "id": "ZgE0-byZkUl1"
      },
      "execution_count": null,
      "outputs": []
    },
    {
      "cell_type": "code",
      "source": [
        "#df.to_csv('./review_total_all.3.0.0.csv', index=None)"
      ],
      "metadata": {
        "id": "bmbI7PECr2Vy"
      },
      "execution_count": null,
      "outputs": []
    }
  ]
}