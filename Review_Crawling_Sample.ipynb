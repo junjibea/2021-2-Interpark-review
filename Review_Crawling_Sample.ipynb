{
  "nbformat": 4,
  "nbformat_minor": 0,
  "metadata": {
    "kernelspec": {
      "display_name": "Python 3",
      "language": "python",
      "name": "python3"
    },
    "language_info": {
      "codemirror_mode": {
        "name": "ipython",
        "version": 3
      },
      "file_extension": ".py",
      "mimetype": "text/x-python",
      "name": "python",
      "nbconvert_exporter": "python",
      "pygments_lexer": "ipython3",
      "version": "3.6.10"
    },
    "colab": {
      "name": "Review Crawling Sample.ipynb",
      "provenance": [],
      "collapsed_sections": [],
      "include_colab_link": true
    }
  },
  "cells": [
    {
      "cell_type": "markdown",
      "metadata": {
        "id": "view-in-github",
        "colab_type": "text"
      },
      "source": [
        "<a href=\"https://colab.research.google.com/github/junjibea/2021-2-Interpark-review/blob/main/Review_Crawling_Sample.ipynb\" target=\"_parent\"><img src=\"https://colab.research.google.com/assets/colab-badge.svg\" alt=\"Open In Colab\"/></a>"
      ]
    },
    {
      "cell_type": "code",
      "metadata": {
        "id": "0m-VN2kKh0fF"
      },
      "source": [
        "# 라이브러리 import\n",
        "import pandas as pd\n",
        "import numpy as np\n",
        "\n",
        "from selenium import webdriver\n",
        "from tqdm.notebook import tqdm\n",
        "import time"
      ],
      "execution_count": null,
      "outputs": []
    },
    {
      "cell_type": "markdown",
      "metadata": {
        "id": "x9VZ24vch0fM"
      },
      "source": [
        "처음 팝업창부터 제거"
      ]
    },
    {
      "cell_type": "code",
      "metadata": {
        "id": "4ZkcB5AMh0fO"
      },
      "source": [
        "def remove_pop():\n",
        "    button = driver.find_elements_by_tag_name(\"button\")\n",
        "    button[1].click()"
      ],
      "execution_count": null,
      "outputs": []
    },
    {
      "cell_type": "markdown",
      "metadata": {
        "id": "XhVrYR-bh0fQ"
      },
      "source": [
        "# 공연정보 추출"
      ]
    },
    {
      "cell_type": "code",
      "metadata": {
        "id": "G36WV8mth0fQ"
      },
      "source": [
        "def get_musical_title(): \n",
        "    title = driver.find_element_by_css_selector(\".prdTitle\")\n",
        "    print(title.text)\n",
        "    \n",
        "    return title.text"
      ],
      "execution_count": null,
      "outputs": []
    },
    {
      "cell_type": "markdown",
      "metadata": {
        "id": "sxkY_dd3h0fR"
      },
      "source": [
        "#### 공연 장소 기간"
      ]
    },
    {
      "cell_type": "code",
      "metadata": {
        "id": "EBjnRaZNh0fR"
      },
      "source": [
        "def get_place_time():\n",
        "    place_time = driver.find_elements_by_css_selector(\".infoItem\")[:2]\n",
        "    \n",
        "    return place_time[0].text[:-5], place_time[1].text[5:]"
      ],
      "execution_count": null,
      "outputs": []
    },
    {
      "cell_type": "markdown",
      "metadata": {
        "id": "O338iPSCh0fS"
      },
      "source": [
        "#### 배우 정보 더보기"
      ]
    },
    {
      "cell_type": "code",
      "metadata": {
        "id": "CZw9jsNvh0fT"
      },
      "source": [
        "def open_actor():\n",
        "    button_2 = driver.find_element_by_css_selector(\".contentToggleBtn\")\n",
        "    button_2.click()"
      ],
      "execution_count": null,
      "outputs": []
    },
    {
      "cell_type": "code",
      "metadata": {
        "id": "Gq-P-FV_h0fU"
      },
      "source": [
        "def get_actor():\n",
        "    actor_list = []\n",
        "    actors = driver.find_elements_by_css_selector(\".castingList .castingName\")\n",
        "    for a in actors:\n",
        "        actor_list.append(a.text)\n",
        "        \n",
        "    return actor_list"
      ],
      "execution_count": null,
      "outputs": []
    },
    {
      "cell_type": "markdown",
      "metadata": {
        "id": "IOpX5eiQh0fU"
      },
      "source": [
        "# 공연후기 추출"
      ]
    },
    {
      "cell_type": "markdown",
      "metadata": {
        "id": "Z5TwBNhVh0fV"
      },
      "source": [
        "#### 공연후기 탭 이동"
      ]
    },
    {
      "cell_type": "code",
      "metadata": {
        "id": "AVNS-sw9h0fV"
      },
      "source": [
        "def open_review():\n",
        "    a = driver.find_elements_by_css_selector(\".navList .navItem\")\n",
        "    a[3].click()"
      ],
      "execution_count": null,
      "outputs": []
    },
    {
      "cell_type": "markdown",
      "metadata": {
        "id": "lbb25s9dh0fV"
      },
      "source": [
        "#### review title"
      ]
    },
    {
      "cell_type": "code",
      "metadata": {
        "scrolled": true,
        "id": "YssMvopqh0fV"
      },
      "source": [
        "def get_review_title():\n",
        "    r_t_list = []\n",
        "    r_t = driver.find_elements_by_css_selector(\".bbsTitle\")[1:]\n",
        "    \n",
        "    for t in r_t:\n",
        "        r_t_list.append(t.text)\n",
        "    \n",
        "    return r_t_list"
      ],
      "execution_count": null,
      "outputs": []
    },
    {
      "cell_type": "markdown",
      "metadata": {
        "id": "zPbGOBFPh0fW"
      },
      "source": [
        "#### review text"
      ]
    },
    {
      "cell_type": "code",
      "metadata": {
        "scrolled": true,
        "id": "nWhrNdm-h0fW"
      },
      "source": [
        "def get_review_text():\n",
        "    r_txt_list = []\n",
        "    r_txt = driver.find_elements_by_css_selector(\".bbsText\")[1:]\n",
        "\n",
        "    for txt in r_txt:\n",
        "        r_txt_list.append(txt.text)\n",
        "    \n",
        "    return r_txt_list"
      ],
      "execution_count": null,
      "outputs": []
    },
    {
      "cell_type": "markdown",
      "metadata": {
        "id": "U5gLOs1sh0fW"
      },
      "source": [
        "#### review rate"
      ]
    },
    {
      "cell_type": "code",
      "metadata": {
        "id": "Hr9B79deh0fX"
      },
      "source": [
        "def get_review_rate():\n",
        "    rate_list = []\n",
        "    rates = driver.find_elements_by_css_selector(\".prdStarIcon\")[3:]\n",
        "    for rate in rates:\n",
        "        rate_num = int(rate.get_attribute(\"data-star\"))\n",
        "        rate_list.append(rate_num)\n",
        "        \n",
        "    return rate_list"
      ],
      "execution_count": null,
      "outputs": []
    },
    {
      "cell_type": "markdown",
      "metadata": {
        "id": "HVqLq59Mh0fX"
      },
      "source": [
        "#### review info"
      ]
    },
    {
      "cell_type": "code",
      "metadata": {
        "id": "Whx4-lDIh0fX"
      },
      "source": [
        "def get_review_info():\n",
        "    e = driver.find_elements_by_css_selector(\".bbsItemInfo .bbsItemInfoList\")\n",
        "    \n",
        "    id_list, date_list, like_list = [], [], []\n",
        "    \n",
        "    ids = e[0 + 4:64:4]\n",
        "    for i in ids:\n",
        "        id_list.append(i.text[:-3])\n",
        "    \n",
        "\n",
        "    date = e[1 + 4:64:4]\n",
        "    for i in date:\n",
        "        date_list.append(i.text)\n",
        "\n",
        "    like = e[3 + 4:64:4]\n",
        "    for i in like:\n",
        "        like_list.append(i.text[3:][:-5])\n",
        "        \n",
        "    return id_list, date_list, like_list"
      ],
      "execution_count": null,
      "outputs": []
    },
    {
      "cell_type": "markdown",
      "metadata": {
        "id": "FCnlp8fNh0fX"
      },
      "source": [
        "#### move page"
      ]
    },
    {
      "cell_type": "code",
      "metadata": {
        "id": "5XgYkagoh0fY"
      },
      "source": [
        "def move_to_page(i):\n",
        "    if i != 0:\n",
        "        p = driver.find_elements_by_css_selector(\".pageNumWrap .pageNumBtn\")\n",
        "        p[i].click()"
      ],
      "execution_count": null,
      "outputs": []
    },
    {
      "cell_type": "code",
      "metadata": {
        "id": "aU3C4VoXh0fY"
      },
      "source": [
        "url_list = [\"https://tickets.interpark.com/goods/21005689\", \"https://tickets.interpark.com/goods/21005816\"]"
      ],
      "execution_count": null,
      "outputs": []
    },
    {
      "cell_type": "code",
      "metadata": {
        "scrolled": true,
        "id": "muPd81Rlh0fZ"
      },
      "source": [
        "url_list = [\"https://tickets.interpark.com/goods/21005689\", \"https://tickets.interpark.com/goods/21005816\"]\n",
        "musicals_reviews_df = pd.DataFrame()\n",
        "musicals_info = []\n",
        "\n",
        "driver = webdriver.Chrome(\"C:/Users/82102/Jupyter Notebook/chromedriver_win32/chromedriver\") # 본인이 갖고 있는 driver 경로\n",
        "\n",
        "for k in range(2):\n",
        "    # url 선택\n",
        "    url = url_list[k]\n",
        "    driver.get(url)\n",
        "    \n",
        "    # 팝업 창 제거\n",
        "    if k == 0:\n",
        "        remove_pop()\n",
        "    # 공연정보 \n",
        "    musical_info = []\n",
        "    \n",
        "    musical_info.append(get_musical_title())\n",
        "\n",
        "    place_time = get_place_time()\n",
        "    musical_info.append(place_time[0])\n",
        "    musical_info.append(place_time[1])\n",
        "\n",
        "    open_actor()\n",
        "    musical_info.append(get_actor())\n",
        "    \n",
        "    musicals_info.append(musical_info)\n",
        "    \n",
        "    # Review\n",
        "    open_review()\n",
        "\n",
        "    df = pd.DataFrame()\n",
        "    review_title, review_text, ids, date, like, rate = [], [], [], [], [], []\n",
        "    for i in tqdm(range(0, 3)): # page 1, 2, 3\n",
        "        move_to_page(i)\n",
        "\n",
        "        time.sleep(0.5)\n",
        "\n",
        "        review_info = get_review_info()\n",
        "        ids.append(review_info[0])\n",
        "        date.append(review_info[1])\n",
        "        like.append(review_info[2])\n",
        "\n",
        "        review_title.append(get_review_title())\n",
        "        review_text.append(get_review_text())\n",
        "\n",
        "        rate.append(get_review_rate())\n",
        "\n",
        "    df[\"title\"] = [y for x in review_title for y in x]\n",
        "    df[\"text\"] = [y for x in review_text for y in x]\n",
        "    df[\"id\"] = [y for x in ids for y in x]\n",
        "    df[\"date\"] = [y for x in date for y in x]\n",
        "    df[\"like\"] = [y for x in like for y in x]\n",
        "    df[\"rate\"] = [y for x in rate for y in x]\n",
        "    # 노최유하 추가\n",
        "    df[\"show\"] = [musical_info[0] for i in range(len(df))]\n",
        "    \n",
        "    musicals_reviews_df = pd.concat([musicals_reviews_df, df], axis = 0)\n",
        "\n",
        "    \n",
        "driver.close()\n",
        "\n",
        "musicals_info_df = pd.DataFrame(musicals_info)\n",
        "\n",
        "musicals_reviews_df.reset_index(inplace = True)\n",
        "\n",
        "musicals_reviews_df"
      ],
      "execution_count": null,
      "outputs": []
    },
    {
      "cell_type": "code",
      "metadata": {
        "id": "he0QEZzsh0fb"
      },
      "source": [
        "musicals_info_df.to_csv(\"musicals_info.csv\", encoding = \"cp949\", index = None)\n",
        "musicals_reviews_df.to_csv(\"musicals_review.csv\", encoding = \"cp949\", index = None)"
      ],
      "execution_count": null,
      "outputs": []
    },
    {
      "cell_type": "markdown",
      "metadata": {
        "id": "rKG4p-S6h0fb"
      },
      "source": [
        "---"
      ]
    },
    {
      "cell_type": "markdown",
      "metadata": {
        "id": "U3W8__fph0fb"
      },
      "source": [
        "# 부록"
      ]
    },
    {
      "cell_type": "markdown",
      "metadata": {
        "id": "o3WiqiKYh0fc"
      },
      "source": [
        "아이디에서 예매자 텍스트 제거"
      ]
    }
  ]
}