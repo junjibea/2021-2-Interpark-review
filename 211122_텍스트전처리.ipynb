{
 "cells": [
  {
   "cell_type": "code",
   "execution_count": 2,
   "metadata": {
    "ExecuteTime": {
     "end_time": "2021-12-19T08:19:37.170617Z",
     "start_time": "2021-12-19T08:19:36.681925Z"
    }
   },
   "outputs": [],
   "source": [
    "import pandas as pd\n",
    "import re\n",
    "import seaborn as sns\n",
    "import matplotlib.pyplot as plt\n",
    "import numpy as np"
   ]
  },
  {
   "cell_type": "code",
   "execution_count": 39,
   "metadata": {
    "ExecuteTime": {
     "end_time": "2021-12-15T18:49:39.643138Z",
     "start_time": "2021-12-15T18:49:38.538073Z"
    }
   },
   "outputs": [],
   "source": [
    "df = pd.read_csv('review_total_all.2.0.0.csv', encoding = 'cp949')"
   ]
  },
  {
   "cell_type": "code",
   "execution_count": 15,
   "metadata": {
    "ExecuteTime": {
     "end_time": "2021-12-15T17:34:51.955850Z",
     "start_time": "2021-12-15T17:34:51.925931Z"
    }
   },
   "outputs": [
    {
     "data": {
      "text/html": [
       "<div>\n",
       "<style scoped>\n",
       "    .dataframe tbody tr th:only-of-type {\n",
       "        vertical-align: middle;\n",
       "    }\n",
       "\n",
       "    .dataframe tbody tr th {\n",
       "        vertical-align: top;\n",
       "    }\n",
       "\n",
       "    .dataframe thead th {\n",
       "        text-align: right;\n",
       "    }\n",
       "</style>\n",
       "<table border=\"1\" class=\"dataframe\">\n",
       "  <thead>\n",
       "    <tr style=\"text-align: right;\">\n",
       "      <th></th>\n",
       "      <th>title</th>\n",
       "      <th>text</th>\n",
       "      <th>id</th>\n",
       "      <th>date</th>\n",
       "      <th>like</th>\n",
       "      <th>rate</th>\n",
       "      <th>place</th>\n",
       "      <th>season</th>\n",
       "      <th>cast</th>\n",
       "      <th>show</th>\n",
       "      <th>genre</th>\n",
       "    </tr>\n",
       "  </thead>\n",
       "  <tbody>\n",
       "    <tr>\n",
       "      <th>0</th>\n",
       "      <td>쌀르페우스 최고</td>\n",
       "      <td>정말 최고에요\\n노래도 최고 연기도 최고\\n꼭보세요 두번보세요</td>\n",
       "      <td>ysmell***</td>\n",
       "      <td>2021-11-01</td>\n",
       "      <td>0</td>\n",
       "      <td>5.0</td>\n",
       "      <td>LG아트센터</td>\n",
       "      <td>2021.09.07 ~2022.02.27</td>\n",
       "      <td>조형균,박강현,시우민,최재림,강홍석,김선영,박혜나,김환희,김수하,지현준,양준모,김우...</td>\n",
       "      <td>하데스타운</td>\n",
       "      <td>뮤지컬</td>\n",
       "    </tr>\n",
       "    <tr>\n",
       "      <th>1</th>\n",
       "      <td>하데스타운</td>\n",
       "      <td>두번째 관람하니 더 감동이네요. 참 잘만들어진 극입니다.</td>\n",
       "      <td>17***</td>\n",
       "      <td>2021-11-01</td>\n",
       "      <td>0</td>\n",
       "      <td>5.0</td>\n",
       "      <td>LG아트센터</td>\n",
       "      <td>2021.09.07 ~2022.02.27</td>\n",
       "      <td>조형균,박강현,시우민,최재림,강홍석,김선영,박혜나,김환희,김수하,지현준,양준모,김우...</td>\n",
       "      <td>하데스타운</td>\n",
       "      <td>뮤지컬</td>\n",
       "    </tr>\n",
       "    <tr>\n",
       "      <th>2</th>\n",
       "      <td>운명의 세 여신님들</td>\n",
       "      <td>극 중에선 너무 얄미우신데 캐릭터를 넘 잘 살리셔서 매력적이에요~</td>\n",
       "      <td>skygirl***</td>\n",
       "      <td>2021-11-01</td>\n",
       "      <td>0</td>\n",
       "      <td>5.0</td>\n",
       "      <td>LG아트센터</td>\n",
       "      <td>2021.09.07 ~2022.02.27</td>\n",
       "      <td>조형균,박강현,시우민,최재림,강홍석,김선영,박혜나,김환희,김수하,지현준,양준모,김우...</td>\n",
       "      <td>하데스타운</td>\n",
       "      <td>뮤지컬</td>\n",
       "    </tr>\n",
       "    <tr>\n",
       "      <th>3</th>\n",
       "      <td>재밌었어요.</td>\n",
       "      <td>재르메스 멋있고 조형균배우 음색 너무예뻐요~~수하배우님도 예뻤답니다.</td>\n",
       "      <td>sbr</td>\n",
       "      <td>2021-11-01</td>\n",
       "      <td>0</td>\n",
       "      <td>4.0</td>\n",
       "      <td>LG아트센터</td>\n",
       "      <td>2021.09.07 ~2022.02.27</td>\n",
       "      <td>조형균,박강현,시우민,최재림,강홍석,김선영,박혜나,김환희,김수하,지현준,양준모,김우...</td>\n",
       "      <td>하데스타운</td>\n",
       "      <td>뮤지컬</td>\n",
       "    </tr>\n",
       "    <tr>\n",
       "      <th>4</th>\n",
       "      <td>재미있어요~</td>\n",
       "      <td>넘버가 너무너무 좋아요 재미있어요</td>\n",
       "      <td>mbw***</td>\n",
       "      <td>2021-11-01</td>\n",
       "      <td>0</td>\n",
       "      <td>5.0</td>\n",
       "      <td>LG아트센터</td>\n",
       "      <td>2021.09.07 ~2022.02.27</td>\n",
       "      <td>조형균,박강현,시우민,최재림,강홍석,김선영,박혜나,김환희,김수하,지현준,양준모,김우...</td>\n",
       "      <td>하데스타운</td>\n",
       "      <td>뮤지컬</td>\n",
       "    </tr>\n",
       "  </tbody>\n",
       "</table>\n",
       "</div>"
      ],
      "text/plain": [
       "        title                                    text          id        date  \\\n",
       "0    쌀르페우스 최고      정말 최고에요\\n노래도 최고 연기도 최고\\n꼭보세요 두번보세요   ysmell***  2021-11-01   \n",
       "1       하데스타운         두번째 관람하니 더 감동이네요. 참 잘만들어진 극입니다.       17***  2021-11-01   \n",
       "2  운명의 세 여신님들    극 중에선 너무 얄미우신데 캐릭터를 넘 잘 살리셔서 매력적이에요~  skygirl***  2021-11-01   \n",
       "3      재밌었어요.  재르메스 멋있고 조형균배우 음색 너무예뻐요~~수하배우님도 예뻤답니다.         sbr  2021-11-01   \n",
       "4      재미있어요~                      넘버가 너무너무 좋아요 재미있어요      mbw***  2021-11-01   \n",
       "\n",
       "   like  rate   place                  season  \\\n",
       "0     0   5.0  LG아트센터  2021.09.07 ~2022.02.27   \n",
       "1     0   5.0  LG아트센터  2021.09.07 ~2022.02.27   \n",
       "2     0   5.0  LG아트센터  2021.09.07 ~2022.02.27   \n",
       "3     0   4.0  LG아트센터  2021.09.07 ~2022.02.27   \n",
       "4     0   5.0  LG아트센터  2021.09.07 ~2022.02.27   \n",
       "\n",
       "                                                cast   show genre  \n",
       "0  조형균,박강현,시우민,최재림,강홍석,김선영,박혜나,김환희,김수하,지현준,양준모,김우...  하데스타운   뮤지컬  \n",
       "1  조형균,박강현,시우민,최재림,강홍석,김선영,박혜나,김환희,김수하,지현준,양준모,김우...  하데스타운   뮤지컬  \n",
       "2  조형균,박강현,시우민,최재림,강홍석,김선영,박혜나,김환희,김수하,지현준,양준모,김우...  하데스타운   뮤지컬  \n",
       "3  조형균,박강현,시우민,최재림,강홍석,김선영,박혜나,김환희,김수하,지현준,양준모,김우...  하데스타운   뮤지컬  \n",
       "4  조형균,박강현,시우민,최재림,강홍석,김선영,박혜나,김환희,김수하,지현준,양준모,김우...  하데스타운   뮤지컬  "
      ]
     },
     "execution_count": 15,
     "metadata": {},
     "output_type": "execute_result"
    }
   ],
   "source": [
    "df.head()"
   ]
  },
  {
   "cell_type": "code",
   "execution_count": 4,
   "metadata": {
    "ExecuteTime": {
     "end_time": "2021-12-15T17:19:49.532622Z",
     "start_time": "2021-12-15T17:19:49.458312Z"
    }
   },
   "outputs": [
    {
     "name": "stdout",
     "output_type": "stream",
     "text": [
      "<class 'pandas.core.frame.DataFrame'>\n",
      "RangeIndex: 154097 entries, 0 to 154096\n",
      "Data columns (total 11 columns):\n",
      " #   Column  Non-Null Count   Dtype  \n",
      "---  ------  --------------   -----  \n",
      " 0   title   154097 non-null  object \n",
      " 1   text    154097 non-null  object \n",
      " 2   id      154097 non-null  object \n",
      " 3   date    154097 non-null  object \n",
      " 4   like    154097 non-null  int64  \n",
      " 5   rate    154097 non-null  float64\n",
      " 6   place   154097 non-null  object \n",
      " 7   season  154097 non-null  object \n",
      " 8   cast    154097 non-null  object \n",
      " 9   show    154097 non-null  object \n",
      " 10  genre   154097 non-null  object \n",
      "dtypes: float64(1), int64(1), object(9)\n",
      "memory usage: 12.9+ MB\n"
     ]
    }
   ],
   "source": [
    "df.info()"
   ]
  },
  {
   "cell_type": "markdown",
   "metadata": {},
   "source": [
    "### 맞춤법 교정 및 띄어쓰기"
   ]
  },
  {
   "cell_type": "code",
   "execution_count": null,
   "metadata": {
    "ExecuteTime": {
     "end_time": "2021-12-15T17:18:18.579469Z",
     "start_time": "2021-12-15T17:18:07.312947Z"
    }
   },
   "outputs": [],
   "source": [
    "#soynlp 자주 사용\n",
    "# https://pypi.org/project/soynlp/\n",
    "! pip install soynlp  \n",
    "\n",
    "#py-hanspell\n",
    "! pip install git+https://github.com/ssut/py-hanspell.git "
   ]
  },
  {
   "cell_type": "code",
   "execution_count": 5,
   "metadata": {
    "ExecuteTime": {
     "end_time": "2021-12-15T17:20:04.564567Z",
     "start_time": "2021-12-15T17:20:03.710516Z"
    }
   },
   "outputs": [],
   "source": [
    "from soynlp.normalizer import repeat_normalize\n",
    "from soynlp.normalizer import only_hangle_number\n",
    "from hanspell import spell_checker  #부산대 맞춤법 교정기\n",
    "\n",
    "def ko_text_clean(text):  #text를 전처리해주는 함수 정의\n",
    "    \n",
    "    text = only_hangle_number(text)  #특수문자나 숫자 모두 제거하고 한글만 남기기\n",
    "    text = re.sub('([ㄱ-ㅎㅏ-ㅣ]+)', '', text) #자음모음 삭제\n",
    "    text = repeat_normalize(text, num_repeats=2)  #2번이상 반복적으로 쓴 단어 제거하기\n",
    "    spell = spell_checker.check(text)  #맞춤법 교정(완벽하지는 않지만 띄어쓰기도 교정 가능)\n",
    "    text = spell.checked\n",
    "    text = re.sub('\\s+', ' ', text) # 중복 띄어쓰기 삭제\n",
    "\n",
    "    return text.strip() #앞뒤공백제거"
   ]
  },
  {
   "cell_type": "code",
   "execution_count": 46,
   "metadata": {
    "ExecuteTime": {
     "end_time": "2021-12-15T18:50:55.421842Z",
     "start_time": "2021-12-15T18:50:55.403887Z"
    }
   },
   "outputs": [
    {
     "data": {
      "text/plain": [
       "'정말 최고에요\\n노래도 최고 연기도 최고\\n꼭보세요 두번보세요'"
      ]
     },
     "execution_count": 46,
     "metadata": {},
     "output_type": "execute_result"
    }
   ],
   "source": [
    "df.text.iloc[0]"
   ]
  },
  {
   "cell_type": "code",
   "execution_count": 47,
   "metadata": {
    "ExecuteTime": {
     "end_time": "2021-12-15T18:50:56.194762Z",
     "start_time": "2021-12-15T18:50:56.149414Z"
    }
   },
   "outputs": [
    {
     "data": {
      "text/plain": [
       "'정말 최고예요 노래도 최고 연기도 최고 꼭 보세요 두 번 보세요'"
      ]
     },
     "execution_count": 47,
     "metadata": {},
     "output_type": "execute_result"
    }
   ],
   "source": [
    "ko_text_clean(df.text.iloc[0])"
   ]
  },
  {
   "cell_type": "code",
   "execution_count": 48,
   "metadata": {
    "ExecuteTime": {
     "end_time": "2021-12-15T18:50:57.669144Z",
     "start_time": "2021-12-15T18:50:57.556447Z"
    }
   },
   "outputs": [],
   "source": [
    "#모든 text 합치기\n",
    "df['body'] = df['title'].str.cat(df['text'],sep=\" \")"
   ]
  },
  {
   "cell_type": "code",
   "execution_count": null,
   "metadata": {
    "ExecuteTime": {
     "start_time": "2021-12-15T18:51:02.524Z"
    }
   },
   "outputs": [],
   "source": [
    "body = []\n",
    "for i in range(len(df)):\n",
    "    try:\n",
    "        b = ko_text_clean(df.body.iloc[i])\n",
    "    except:\n",
    "        b = 1\n",
    "    body.append(b)"
   ]
  },
  {
   "cell_type": "code",
   "execution_count": 467,
   "metadata": {
    "ExecuteTime": {
     "end_time": "2021-12-19T19:08:31.268338Z",
     "start_time": "2021-12-19T19:08:29.989630Z"
    }
   },
   "outputs": [
    {
     "name": "stdout",
     "output_type": "stream",
     "text": [
      "<class 'pandas.core.frame.DataFrame'>\n",
      "RangeIndex: 154097 entries, 0 to 154096\n",
      "Data columns (total 14 columns):\n",
      " #   Column   Non-Null Count   Dtype \n",
      "---  ------   --------------   ----- \n",
      " 0   Column1  154097 non-null  int64 \n",
      " 1   title    154097 non-null  object\n",
      " 2   text     154097 non-null  object\n",
      " 3   id       154097 non-null  object\n",
      " 4   date     154097 non-null  object\n",
      " 5   like     154097 non-null  int64 \n",
      " 6   rate     154097 non-null  int64 \n",
      " 7   place    154097 non-null  object\n",
      " 8   season   154097 non-null  object\n",
      " 9   cast     154097 non-null  object\n",
      " 10  show     154097 non-null  object\n",
      " 11  genre    154097 non-null  object\n",
      " 12  body     154097 non-null  object\n",
      " 13  열1       154097 non-null  int64 \n",
      "dtypes: int64(4), object(10)\n",
      "memory usage: 16.5+ MB\n"
     ]
    }
   ],
   "source": [
    "#후기 길이 열 추가한 파일\n",
    "df = pd.read_csv('review_total_all.2.0.4.csv')\n",
    "df.info()"
   ]
  },
  {
   "cell_type": "code",
   "execution_count": 468,
   "metadata": {
    "ExecuteTime": {
     "end_time": "2021-12-19T19:09:26.829368Z",
     "start_time": "2021-12-19T19:09:26.764543Z"
    }
   },
   "outputs": [],
   "source": [
    "df.rename(columns={'열1':'leng'}, inplace=True)\n",
    "df.drop('Column1', axis=1, inplace=True)"
   ]
  },
  {
   "cell_type": "code",
   "execution_count": 469,
   "metadata": {
    "ExecuteTime": {
     "end_time": "2021-12-19T19:09:27.741179Z",
     "start_time": "2021-12-19T19:09:27.709207Z"
    }
   },
   "outputs": [],
   "source": [
    "df['body'] = body\n",
    "df.body.fillna('[]', inplace=True)"
   ]
  },
  {
   "cell_type": "code",
   "execution_count": 470,
   "metadata": {
    "ExecuteTime": {
     "end_time": "2021-12-19T19:09:30.644317Z",
     "start_time": "2021-12-19T19:09:30.530621Z"
    }
   },
   "outputs": [
    {
     "name": "stdout",
     "output_type": "stream",
     "text": [
      "<class 'pandas.core.frame.DataFrame'>\n",
      "RangeIndex: 154097 entries, 0 to 154096\n",
      "Data columns (total 13 columns):\n",
      " #   Column  Non-Null Count   Dtype \n",
      "---  ------  --------------   ----- \n",
      " 0   title   154097 non-null  object\n",
      " 1   text    154097 non-null  object\n",
      " 2   id      154097 non-null  object\n",
      " 3   date    154097 non-null  object\n",
      " 4   like    154097 non-null  int64 \n",
      " 5   rate    154097 non-null  int64 \n",
      " 6   place   154097 non-null  object\n",
      " 7   season  154097 non-null  object\n",
      " 8   cast    154097 non-null  object\n",
      " 9   show    154097 non-null  object\n",
      " 10  genre   154097 non-null  object\n",
      " 11  body    154097 non-null  object\n",
      " 12  leng    154097 non-null  int64 \n",
      "dtypes: int64(3), object(10)\n",
      "memory usage: 15.3+ MB\n"
     ]
    }
   ],
   "source": [
    "df.info()"
   ]
  },
  {
   "cell_type": "markdown",
   "metadata": {},
   "source": [
    "#### 후기 조작 판별 여부 열 rig 추가"
   ]
  },
  {
   "cell_type": "code",
   "execution_count": 471,
   "metadata": {
    "ExecuteTime": {
     "end_time": "2021-12-19T19:09:36.141774Z",
     "start_time": "2021-12-19T19:09:35.933783Z"
    }
   },
   "outputs": [],
   "source": [
    "y = df.duplicated(['show', 'id', 'body'], keep=False).to_list()"
   ]
  },
  {
   "cell_type": "code",
   "execution_count": 472,
   "metadata": {
    "ExecuteTime": {
     "end_time": "2021-12-19T19:09:36.991630Z",
     "start_time": "2021-12-19T19:09:36.959716Z"
    }
   },
   "outputs": [],
   "source": [
    "df['rig'] = y"
   ]
  },
  {
   "cell_type": "code",
   "execution_count": 473,
   "metadata": {
    "ExecuteTime": {
     "end_time": "2021-12-19T19:09:37.973863Z",
     "start_time": "2021-12-19T19:09:37.944942Z"
    }
   },
   "outputs": [
    {
     "data": {
      "text/html": [
       "<div>\n",
       "<style scoped>\n",
       "    .dataframe tbody tr th:only-of-type {\n",
       "        vertical-align: middle;\n",
       "    }\n",
       "\n",
       "    .dataframe tbody tr th {\n",
       "        vertical-align: top;\n",
       "    }\n",
       "\n",
       "    .dataframe thead th {\n",
       "        text-align: right;\n",
       "    }\n",
       "</style>\n",
       "<table border=\"1\" class=\"dataframe\">\n",
       "  <thead>\n",
       "    <tr style=\"text-align: right;\">\n",
       "      <th></th>\n",
       "      <th>title</th>\n",
       "      <th>text</th>\n",
       "      <th>id</th>\n",
       "      <th>date</th>\n",
       "      <th>like</th>\n",
       "      <th>rate</th>\n",
       "      <th>place</th>\n",
       "      <th>season</th>\n",
       "      <th>cast</th>\n",
       "      <th>show</th>\n",
       "      <th>genre</th>\n",
       "      <th>body</th>\n",
       "      <th>leng</th>\n",
       "      <th>rig</th>\n",
       "    </tr>\n",
       "  </thead>\n",
       "  <tbody>\n",
       "    <tr>\n",
       "      <th>0</th>\n",
       "      <td>쌀르페우스 최고</td>\n",
       "      <td>정말 최고에요\\n노래도 최고 연기도 최고\\n꼭보세요 두번보세요</td>\n",
       "      <td>ysmell***</td>\n",
       "      <td>2021-11-01</td>\n",
       "      <td>0</td>\n",
       "      <td>5</td>\n",
       "      <td>LG아트센터</td>\n",
       "      <td>2021.09.07 ~2022.02.27</td>\n",
       "      <td>조형균,박강현,시우민,최재림,강홍석,김선영,박혜나,김환희,김수하,지현준,양준모,김우...</td>\n",
       "      <td>하데스타운</td>\n",
       "      <td>뮤지컬</td>\n",
       "      <td>쌀 르페 우스 최고 정말 최고예요 노래도 최고 연기도 최고 꼭 보세요 두 번 보세요</td>\n",
       "      <td>41</td>\n",
       "      <td>False</td>\n",
       "    </tr>\n",
       "    <tr>\n",
       "      <th>1</th>\n",
       "      <td>하데스타운</td>\n",
       "      <td>두번째 관람하니 더 감동이네요. 참 잘만들어진 극입니다.</td>\n",
       "      <td>17***</td>\n",
       "      <td>2021-11-01</td>\n",
       "      <td>0</td>\n",
       "      <td>5</td>\n",
       "      <td>LG아트센터</td>\n",
       "      <td>2021.09.07 ~2022.02.27</td>\n",
       "      <td>조형균,박강현,시우민,최재림,강홍석,김선영,박혜나,김환희,김수하,지현준,양준모,김우...</td>\n",
       "      <td>하데스타운</td>\n",
       "      <td>뮤지컬</td>\n",
       "      <td>하데스 타운 두 번째 관람하니 더 감동이네요 참 잘 만들어진 극입니다</td>\n",
       "      <td>37</td>\n",
       "      <td>False</td>\n",
       "    </tr>\n",
       "    <tr>\n",
       "      <th>2</th>\n",
       "      <td>운명의 세 여신님들</td>\n",
       "      <td>극 중에선 너무 얄미우신데 캐릭터를 넘 잘 살리셔서 매력적이에요~</td>\n",
       "      <td>skygirl***</td>\n",
       "      <td>2021-11-01</td>\n",
       "      <td>0</td>\n",
       "      <td>5</td>\n",
       "      <td>LG아트센터</td>\n",
       "      <td>2021.09.07 ~2022.02.27</td>\n",
       "      <td>조형균,박강현,시우민,최재림,강홍석,김선영,박혜나,김환희,김수하,지현준,양준모,김우...</td>\n",
       "      <td>하데스타운</td>\n",
       "      <td>뮤지컬</td>\n",
       "      <td>운명의 세 여신님들 극 중에선 너무 얄미우신데 캐릭터를 너무 잘 살리셔서 매력적이에요</td>\n",
       "      <td>47</td>\n",
       "      <td>False</td>\n",
       "    </tr>\n",
       "    <tr>\n",
       "      <th>3</th>\n",
       "      <td>재밌었어요.</td>\n",
       "      <td>재르메스 멋있고 조형균배우 음색 너무예뻐요~~수하배우님도 예뻤답니다.</td>\n",
       "      <td>sbr</td>\n",
       "      <td>2021-11-01</td>\n",
       "      <td>0</td>\n",
       "      <td>4</td>\n",
       "      <td>LG아트센터</td>\n",
       "      <td>2021.09.07 ~2022.02.27</td>\n",
       "      <td>조형균,박강현,시우민,최재림,강홍석,김선영,박혜나,김환희,김수하,지현준,양준모,김우...</td>\n",
       "      <td>하데스타운</td>\n",
       "      <td>뮤지컬</td>\n",
       "      <td>재밌었어요 자르 메스 멋있고 조형균 배우 음색 너무 예뻐요 수하 배우님도 예뻤답니다</td>\n",
       "      <td>45</td>\n",
       "      <td>False</td>\n",
       "    </tr>\n",
       "    <tr>\n",
       "      <th>4</th>\n",
       "      <td>재미있어요~</td>\n",
       "      <td>넘버가 너무너무 좋아요 재미있어요</td>\n",
       "      <td>mbw***</td>\n",
       "      <td>2021-11-01</td>\n",
       "      <td>0</td>\n",
       "      <td>5</td>\n",
       "      <td>LG아트센터</td>\n",
       "      <td>2021.09.07 ~2022.02.27</td>\n",
       "      <td>조형균,박강현,시우민,최재림,강홍석,김선영,박혜나,김환희,김수하,지현준,양준모,김우...</td>\n",
       "      <td>하데스타운</td>\n",
       "      <td>뮤지컬</td>\n",
       "      <td>재미있어요 넘버가 너무너무 좋아요 재미있어요</td>\n",
       "      <td>25</td>\n",
       "      <td>False</td>\n",
       "    </tr>\n",
       "    <tr>\n",
       "      <th>5</th>\n",
       "      <td>조형균 배우님 목소리에 반했습니다</td>\n",
       "      <td>계속 시우민 배우님으로만 보다가 처음으로 조형균 배우님 보고왔어요! 유튜브에 공개된...</td>\n",
       "      <td>hjbb0***</td>\n",
       "      <td>2021-11-01</td>\n",
       "      <td>0</td>\n",
       "      <td>5</td>\n",
       "      <td>LG아트센터</td>\n",
       "      <td>2021.09.07 ~2022.02.27</td>\n",
       "      <td>조형균,박강현,시우민,최재림,강홍석,김선영,박혜나,김환희,김수하,지현준,양준모,김우...</td>\n",
       "      <td>하데스타운</td>\n",
       "      <td>뮤지컬</td>\n",
       "      <td>조형균 배우님 목소리에 반했습니다 계속 시우민 배우님으로만 보다가 처음으로 조형균 ...</td>\n",
       "      <td>186</td>\n",
       "      <td>False</td>\n",
       "    </tr>\n",
       "    <tr>\n",
       "      <th>6</th>\n",
       "      <td>잘 보고 왔습니다~</td>\n",
       "      <td>깡르페우스 보고왔어요~ 말해 뭐해! 역시나 기대 이상으로 오르페우스 역할에 찰떡이더...</td>\n",
       "      <td>hjbb0***</td>\n",
       "      <td>2021-11-01</td>\n",
       "      <td>1</td>\n",
       "      <td>5</td>\n",
       "      <td>LG아트센터</td>\n",
       "      <td>2021.09.07 ~2022.02.27</td>\n",
       "      <td>조형균,박강현,시우민,최재림,강홍석,김선영,박혜나,김환희,김수하,지현준,양준모,김우...</td>\n",
       "      <td>하데스타운</td>\n",
       "      <td>뮤지컬</td>\n",
       "      <td>잘 보고 왔습니다 깡르페우스 보고 왔어요 말해 뭐 해 역시나 기대 이상으로 오르페우...</td>\n",
       "      <td>81</td>\n",
       "      <td>False</td>\n",
       "    </tr>\n",
       "    <tr>\n",
       "      <th>7</th>\n",
       "      <td>배우들마다 연기가 조금씩 달라서 더 좋아요!</td>\n",
       "      <td>회전도는 중인데 배우들마다 디테일도 조금씩 다르고 연기의 노선이나 캐릭터 해석이 조...</td>\n",
       "      <td>hjbb0***</td>\n",
       "      <td>2021-11-01</td>\n",
       "      <td>0</td>\n",
       "      <td>5</td>\n",
       "      <td>LG아트센터</td>\n",
       "      <td>2021.09.07 ~2022.02.27</td>\n",
       "      <td>조형균,박강현,시우민,최재림,강홍석,김선영,박혜나,김환희,김수하,지현준,양준모,김우...</td>\n",
       "      <td>하데스타운</td>\n",
       "      <td>뮤지컬</td>\n",
       "      <td>배우들마다 연기가 조금씩 달라서 더 좋아요 회전 도는 중인데 배우들마다 디테일도 조...</td>\n",
       "      <td>131</td>\n",
       "      <td>False</td>\n",
       "    </tr>\n",
       "    <tr>\n",
       "      <th>8</th>\n",
       "      <td>최고의 뮤지컬</td>\n",
       "      <td>그리스 로마 신화를 이렇게 각색할수도 있구나 싶었다\\n노래도 너무 좋고 배우들 연기...</td>\n",
       "      <td>swifty0</td>\n",
       "      <td>2021-11-01</td>\n",
       "      <td>0</td>\n",
       "      <td>5</td>\n",
       "      <td>LG아트센터</td>\n",
       "      <td>2021.09.07 ~2022.02.27</td>\n",
       "      <td>조형균,박강현,시우민,최재림,강홍석,김선영,박혜나,김환희,김수하,지현준,양준모,김우...</td>\n",
       "      <td>하데스타운</td>\n",
       "      <td>뮤지컬</td>\n",
       "      <td>최고의 뮤지컬 그리스 로마 신화를 이렇게 각색할 수도 있구나 싶었다 노래도 너무 좋...</td>\n",
       "      <td>58</td>\n",
       "      <td>False</td>\n",
       "    </tr>\n",
       "    <tr>\n",
       "      <th>9</th>\n",
       "      <td>뮤지컬〈하데스타운〉 최초 한국 공연 (MUSICAL HADESTOWN)</td>\n",
       "      <td>뮤지컬〈하데스타운〉 최초 한국 공연 (MUSICAL HADESTOWN)\\n추천합니다~~</td>\n",
       "      <td>yoone***</td>\n",
       "      <td>2021-11-01</td>\n",
       "      <td>0</td>\n",
       "      <td>4</td>\n",
       "      <td>LG아트센터</td>\n",
       "      <td>2021.09.07 ~2022.02.27</td>\n",
       "      <td>조형균,박강현,시우민,최재림,강홍석,김선영,박혜나,김환희,김수하,지현준,양준모,김우...</td>\n",
       "      <td>하데스타운</td>\n",
       "      <td>뮤지컬</td>\n",
       "      <td>뮤지컬 하데스 타운 최초 한국 공연 뮤지컬 하데스 타운 최초 한국 공연 추천합니다</td>\n",
       "      <td>87</td>\n",
       "      <td>False</td>\n",
       "    </tr>\n",
       "    <tr>\n",
       "      <th>10</th>\n",
       "      <td>차카차카차카</td>\n",
       "      <td>웨잇포미!</td>\n",
       "      <td>wngmle***</td>\n",
       "      <td>2021-11-01</td>\n",
       "      <td>0</td>\n",
       "      <td>5</td>\n",
       "      <td>LG아트센터</td>\n",
       "      <td>2021.09.07 ~2022.02.27</td>\n",
       "      <td>조형균,박강현,시우민,최재림,강홍석,김선영,박혜나,김환희,김수하,지현준,양준모,김우...</td>\n",
       "      <td>하데스타운</td>\n",
       "      <td>뮤지컬</td>\n",
       "      <td>차카차카차카 웨이트 포미</td>\n",
       "      <td>12</td>\n",
       "      <td>False</td>\n",
       "    </tr>\n",
       "    <tr>\n",
       "      <th>11</th>\n",
       "      <td>지금 여기 다시 부르리</td>\n",
       "      <td>가장 완벽한 뮤지컬~!!!</td>\n",
       "      <td>hlovej1***</td>\n",
       "      <td>2021-11-01</td>\n",
       "      <td>0</td>\n",
       "      <td>5</td>\n",
       "      <td>LG아트센터</td>\n",
       "      <td>2021.09.07 ~2022.02.27</td>\n",
       "      <td>조형균,박강현,시우민,최재림,강홍석,김선영,박혜나,김환희,김수하,지현준,양준모,김우...</td>\n",
       "      <td>하데스타운</td>\n",
       "      <td>뮤지컬</td>\n",
       "      <td>지금 여기 다시 부르리 가장 완벽한 뮤지컬</td>\n",
       "      <td>27</td>\n",
       "      <td>False</td>\n",
       "    </tr>\n",
       "    <tr>\n",
       "      <th>12</th>\n",
       "      <td>재미있어요</td>\n",
       "      <td>시우민최재림김선영김수하김우형 캐스트로 봤는데 각자 역할에 정말 잘어울리시고 재미있었...</td>\n",
       "      <td>9724vo***</td>\n",
       "      <td>2021-11-01</td>\n",
       "      <td>0</td>\n",
       "      <td>5</td>\n",
       "      <td>LG아트센터</td>\n",
       "      <td>2021.09.07 ~2022.02.27</td>\n",
       "      <td>조형균,박강현,시우민,최재림,강홍석,김선영,박혜나,김환희,김수하,지현준,양준모,김우...</td>\n",
       "      <td>하데스타운</td>\n",
       "      <td>뮤지컬</td>\n",
       "      <td>재미있어요 시우민 최재림 김선영 김수한 김우형 캐스트로 봤는데 각자 역할에 정말 잘...</td>\n",
       "      <td>78</td>\n",
       "      <td>False</td>\n",
       "    </tr>\n",
       "    <tr>\n",
       "      <th>13</th>\n",
       "      <td>안본사람은 있지만 한번본 사람은 없는 지옥가는길</td>\n",
       "      <td>솔직히 처음엔 송스루라 에드립도 없는데 이걸 어떻게 회전문 돌지? 하는 걱정이 많았...</td>\n",
       "      <td>romas***</td>\n",
       "      <td>2021-11-01</td>\n",
       "      <td>0</td>\n",
       "      <td>5</td>\n",
       "      <td>LG아트센터</td>\n",
       "      <td>2021.09.07 ~2022.02.27</td>\n",
       "      <td>조형균,박강현,시우민,최재림,강홍석,김선영,박혜나,김환희,김수하,지현준,양준모,김우...</td>\n",
       "      <td>하데스타운</td>\n",
       "      <td>뮤지컬</td>\n",
       "      <td>안 본 사람은 있지만 한 번 본 사람은 없는 지옥 가는 길 솔직히 처음엔 송스루라 ...</td>\n",
       "      <td>93</td>\n",
       "      <td>False</td>\n",
       "    </tr>\n",
       "    <tr>\n",
       "      <th>14</th>\n",
       "      <td>정말 좋아요</td>\n",
       "      <td>넘버도 연출도 너무 좋고 배우들 기복없이 정말 잘하네요</td>\n",
       "      <td>lgwon***</td>\n",
       "      <td>2021-11-01</td>\n",
       "      <td>0</td>\n",
       "      <td>5</td>\n",
       "      <td>LG아트센터</td>\n",
       "      <td>2021.09.07 ~2022.02.27</td>\n",
       "      <td>조형균,박강현,시우민,최재림,강홍석,김선영,박혜나,김환희,김수하,지현준,양준모,김우...</td>\n",
       "      <td>하데스타운</td>\n",
       "      <td>뮤지컬</td>\n",
       "      <td>정말 좋아요 넘버도 연출도 너무 좋고 배우들 기복 없이 정말 잘하네요</td>\n",
       "      <td>37</td>\n",
       "      <td>False</td>\n",
       "    </tr>\n",
       "    <tr>\n",
       "      <th>15</th>\n",
       "      <td>하데스타운 그만 보는거 어떻게 하는건데,,</td>\n",
       "      <td>회전각섰습니다^^\\n배우들 모두 건강하시고 ㅠㅠㅠ 성대 절대 지켜주세요 !!!!!!...</td>\n",
       "      <td>cjm4***</td>\n",
       "      <td>2021-11-01</td>\n",
       "      <td>0</td>\n",
       "      <td>5</td>\n",
       "      <td>LG아트센터</td>\n",
       "      <td>2021.09.07 ~2022.02.27</td>\n",
       "      <td>조형균,박강현,시우민,최재림,강홍석,김선영,박혜나,김환희,김수하,지현준,양준모,김우...</td>\n",
       "      <td>하데스타운</td>\n",
       "      <td>뮤지컬</td>\n",
       "      <td>하데스 타운 그만 보는 거 어떻게 하는 건데 회전각 섰습니다 배우들 모두 건강하시고...</td>\n",
       "      <td>74</td>\n",
       "      <td>False</td>\n",
       "    </tr>\n",
       "    <tr>\n",
       "      <th>16</th>\n",
       "      <td>이런 지옥이면 찬성합니다</td>\n",
       "      <td>배우들 넘버 무대 어떠한 것도 빠지는게 없어요\\n너무 추천합니다????</td>\n",
       "      <td>cjm4***</td>\n",
       "      <td>2021-11-01</td>\n",
       "      <td>0</td>\n",
       "      <td>5</td>\n",
       "      <td>LG아트센터</td>\n",
       "      <td>2021.09.07 ~2022.02.27</td>\n",
       "      <td>조형균,박강현,시우민,최재림,강홍석,김선영,박혜나,김환희,김수하,지현준,양준모,김우...</td>\n",
       "      <td>하데스타운</td>\n",
       "      <td>뮤지컬</td>\n",
       "      <td>이런 지옥이면 찬성합니다 배우들 넘버 무대 어떠한 것도 빠지는 게 없어요 너무 추천합니다</td>\n",
       "      <td>52</td>\n",
       "      <td>False</td>\n",
       "    </tr>\n",
       "    <tr>\n",
       "      <th>17</th>\n",
       "      <td>211029 하데스타운</td>\n",
       "      <td>조형균/최재림/김수하/김선영/김우형 라인업 강력하게 추천합니다. 다른 작품에 비해서...</td>\n",
       "      <td>leej***</td>\n",
       "      <td>2021-11-01</td>\n",
       "      <td>1</td>\n",
       "      <td>5</td>\n",
       "      <td>LG아트센터</td>\n",
       "      <td>2021.09.07 ~2022.02.27</td>\n",
       "      <td>조형균,박강현,시우민,최재림,강홍석,김선영,박혜나,김환희,김수하,지현준,양준모,김우...</td>\n",
       "      <td>하데스타운</td>\n",
       "      <td>뮤지컬</td>\n",
       "      <td>211029 하데스 타운 조형균 최재림 김수한 김선영 김우형 라인업 강력하게 추천합...</td>\n",
       "      <td>100</td>\n",
       "      <td>False</td>\n",
       "    </tr>\n",
       "    <tr>\n",
       "      <th>18</th>\n",
       "      <td>재밋서용 재밋서용</td>\n",
       "      <td>재밋서용 재밋서용재밋서용 재밋서용재밋서용 재밋서용</td>\n",
       "      <td>jjg08***</td>\n",
       "      <td>2021-11-01</td>\n",
       "      <td>0</td>\n",
       "      <td>5</td>\n",
       "      <td>LG아트센터</td>\n",
       "      <td>2021.09.07 ~2022.02.27</td>\n",
       "      <td>조형균,박강현,시우민,최재림,강홍석,김선영,박혜나,김환희,김수하,지현준,양준모,김우...</td>\n",
       "      <td>하데스타운</td>\n",
       "      <td>뮤지컬</td>\n",
       "      <td>재밋서용 재밋서용 재밋서용 재밋서용재밋서용 재밋서용재밋서용 재밋서용</td>\n",
       "      <td>37</td>\n",
       "      <td>True</td>\n",
       "    </tr>\n",
       "    <tr>\n",
       "      <th>19</th>\n",
       "      <td>재밋서용 재밋서용</td>\n",
       "      <td>재밋서용 재밋서용재밋서용 재밋서용재밋서용 재밋서용</td>\n",
       "      <td>jjg08***</td>\n",
       "      <td>2021-11-01</td>\n",
       "      <td>0</td>\n",
       "      <td>5</td>\n",
       "      <td>LG아트센터</td>\n",
       "      <td>2021.09.07 ~2022.02.27</td>\n",
       "      <td>조형균,박강현,시우민,최재림,강홍석,김선영,박혜나,김환희,김수하,지현준,양준모,김우...</td>\n",
       "      <td>하데스타운</td>\n",
       "      <td>뮤지컬</td>\n",
       "      <td>재밋서용 재밋서용 재밋서용 재밋서용재밋서용 재밋서용재밋서용 재밋서용</td>\n",
       "      <td>37</td>\n",
       "      <td>True</td>\n",
       "    </tr>\n",
       "  </tbody>\n",
       "</table>\n",
       "</div>"
      ],
      "text/plain": [
       "                                      title  \\\n",
       "0                                  쌀르페우스 최고   \n",
       "1                                     하데스타운   \n",
       "2                                운명의 세 여신님들   \n",
       "3                                    재밌었어요.   \n",
       "4                                    재미있어요~   \n",
       "5                        조형균 배우님 목소리에 반했습니다   \n",
       "6                                잘 보고 왔습니다~   \n",
       "7                  배우들마다 연기가 조금씩 달라서 더 좋아요!   \n",
       "8                                   최고의 뮤지컬   \n",
       "9   뮤지컬〈하데스타운〉 최초 한국 공연 (MUSICAL HADESTOWN)   \n",
       "10                                   차카차카차카   \n",
       "11                             지금 여기 다시 부르리   \n",
       "12                                    재미있어요   \n",
       "13               안본사람은 있지만 한번본 사람은 없는 지옥가는길   \n",
       "14                                   정말 좋아요   \n",
       "15                  하데스타운 그만 보는거 어떻게 하는건데,,   \n",
       "16                            이런 지옥이면 찬성합니다   \n",
       "17                             211029 하데스타운   \n",
       "18                                재밋서용 재밋서용   \n",
       "19                                재밋서용 재밋서용   \n",
       "\n",
       "                                                 text          id        date  \\\n",
       "0                  정말 최고에요\\n노래도 최고 연기도 최고\\n꼭보세요 두번보세요   ysmell***  2021-11-01   \n",
       "1                     두번째 관람하니 더 감동이네요. 참 잘만들어진 극입니다.       17***  2021-11-01   \n",
       "2                극 중에선 너무 얄미우신데 캐릭터를 넘 잘 살리셔서 매력적이에요~  skygirl***  2021-11-01   \n",
       "3              재르메스 멋있고 조형균배우 음색 너무예뻐요~~수하배우님도 예뻤답니다.         sbr  2021-11-01   \n",
       "4                                  넘버가 너무너무 좋아요 재미있어요      mbw***  2021-11-01   \n",
       "5   계속 시우민 배우님으로만 보다가 처음으로 조형균 배우님 보고왔어요! 유튜브에 공개된...    hjbb0***  2021-11-01   \n",
       "6   깡르페우스 보고왔어요~ 말해 뭐해! 역시나 기대 이상으로 오르페우스 역할에 찰떡이더...    hjbb0***  2021-11-01   \n",
       "7   회전도는 중인데 배우들마다 디테일도 조금씩 다르고 연기의 노선이나 캐릭터 해석이 조...    hjbb0***  2021-11-01   \n",
       "8   그리스 로마 신화를 이렇게 각색할수도 있구나 싶었다\\n노래도 너무 좋고 배우들 연기...     swifty0  2021-11-01   \n",
       "9    뮤지컬〈하데스타운〉 최초 한국 공연 (MUSICAL HADESTOWN)\\n추천합니다~~    yoone***  2021-11-01   \n",
       "10                                              웨잇포미!   wngmle***  2021-11-01   \n",
       "11                                     가장 완벽한 뮤지컬~!!!  hlovej1***  2021-11-01   \n",
       "12  시우민최재림김선영김수하김우형 캐스트로 봤는데 각자 역할에 정말 잘어울리시고 재미있었...   9724vo***  2021-11-01   \n",
       "13  솔직히 처음엔 송스루라 에드립도 없는데 이걸 어떻게 회전문 돌지? 하는 걱정이 많았...    romas***  2021-11-01   \n",
       "14                     넘버도 연출도 너무 좋고 배우들 기복없이 정말 잘하네요    lgwon***  2021-11-01   \n",
       "15  회전각섰습니다^^\\n배우들 모두 건강하시고 ㅠㅠㅠ 성대 절대 지켜주세요 !!!!!!...     cjm4***  2021-11-01   \n",
       "16            배우들 넘버 무대 어떠한 것도 빠지는게 없어요\\n너무 추천합니다????     cjm4***  2021-11-01   \n",
       "17  조형균/최재림/김수하/김선영/김우형 라인업 강력하게 추천합니다. 다른 작품에 비해서...     leej***  2021-11-01   \n",
       "18                        재밋서용 재밋서용재밋서용 재밋서용재밋서용 재밋서용    jjg08***  2021-11-01   \n",
       "19                        재밋서용 재밋서용재밋서용 재밋서용재밋서용 재밋서용    jjg08***  2021-11-01   \n",
       "\n",
       "    like  rate   place                  season  \\\n",
       "0      0     5  LG아트센터  2021.09.07 ~2022.02.27   \n",
       "1      0     5  LG아트센터  2021.09.07 ~2022.02.27   \n",
       "2      0     5  LG아트센터  2021.09.07 ~2022.02.27   \n",
       "3      0     4  LG아트센터  2021.09.07 ~2022.02.27   \n",
       "4      0     5  LG아트센터  2021.09.07 ~2022.02.27   \n",
       "5      0     5  LG아트센터  2021.09.07 ~2022.02.27   \n",
       "6      1     5  LG아트센터  2021.09.07 ~2022.02.27   \n",
       "7      0     5  LG아트센터  2021.09.07 ~2022.02.27   \n",
       "8      0     5  LG아트센터  2021.09.07 ~2022.02.27   \n",
       "9      0     4  LG아트센터  2021.09.07 ~2022.02.27   \n",
       "10     0     5  LG아트센터  2021.09.07 ~2022.02.27   \n",
       "11     0     5  LG아트센터  2021.09.07 ~2022.02.27   \n",
       "12     0     5  LG아트센터  2021.09.07 ~2022.02.27   \n",
       "13     0     5  LG아트센터  2021.09.07 ~2022.02.27   \n",
       "14     0     5  LG아트센터  2021.09.07 ~2022.02.27   \n",
       "15     0     5  LG아트센터  2021.09.07 ~2022.02.27   \n",
       "16     0     5  LG아트센터  2021.09.07 ~2022.02.27   \n",
       "17     1     5  LG아트센터  2021.09.07 ~2022.02.27   \n",
       "18     0     5  LG아트센터  2021.09.07 ~2022.02.27   \n",
       "19     0     5  LG아트센터  2021.09.07 ~2022.02.27   \n",
       "\n",
       "                                                 cast   show genre  \\\n",
       "0   조형균,박강현,시우민,최재림,강홍석,김선영,박혜나,김환희,김수하,지현준,양준모,김우...  하데스타운   뮤지컬   \n",
       "1   조형균,박강현,시우민,최재림,강홍석,김선영,박혜나,김환희,김수하,지현준,양준모,김우...  하데스타운   뮤지컬   \n",
       "2   조형균,박강현,시우민,최재림,강홍석,김선영,박혜나,김환희,김수하,지현준,양준모,김우...  하데스타운   뮤지컬   \n",
       "3   조형균,박강현,시우민,최재림,강홍석,김선영,박혜나,김환희,김수하,지현준,양준모,김우...  하데스타운   뮤지컬   \n",
       "4   조형균,박강현,시우민,최재림,강홍석,김선영,박혜나,김환희,김수하,지현준,양준모,김우...  하데스타운   뮤지컬   \n",
       "5   조형균,박강현,시우민,최재림,강홍석,김선영,박혜나,김환희,김수하,지현준,양준모,김우...  하데스타운   뮤지컬   \n",
       "6   조형균,박강현,시우민,최재림,강홍석,김선영,박혜나,김환희,김수하,지현준,양준모,김우...  하데스타운   뮤지컬   \n",
       "7   조형균,박강현,시우민,최재림,강홍석,김선영,박혜나,김환희,김수하,지현준,양준모,김우...  하데스타운   뮤지컬   \n",
       "8   조형균,박강현,시우민,최재림,강홍석,김선영,박혜나,김환희,김수하,지현준,양준모,김우...  하데스타운   뮤지컬   \n",
       "9   조형균,박강현,시우민,최재림,강홍석,김선영,박혜나,김환희,김수하,지현준,양준모,김우...  하데스타운   뮤지컬   \n",
       "10  조형균,박강현,시우민,최재림,강홍석,김선영,박혜나,김환희,김수하,지현준,양준모,김우...  하데스타운   뮤지컬   \n",
       "11  조형균,박강현,시우민,최재림,강홍석,김선영,박혜나,김환희,김수하,지현준,양준모,김우...  하데스타운   뮤지컬   \n",
       "12  조형균,박강현,시우민,최재림,강홍석,김선영,박혜나,김환희,김수하,지현준,양준모,김우...  하데스타운   뮤지컬   \n",
       "13  조형균,박강현,시우민,최재림,강홍석,김선영,박혜나,김환희,김수하,지현준,양준모,김우...  하데스타운   뮤지컬   \n",
       "14  조형균,박강현,시우민,최재림,강홍석,김선영,박혜나,김환희,김수하,지현준,양준모,김우...  하데스타운   뮤지컬   \n",
       "15  조형균,박강현,시우민,최재림,강홍석,김선영,박혜나,김환희,김수하,지현준,양준모,김우...  하데스타운   뮤지컬   \n",
       "16  조형균,박강현,시우민,최재림,강홍석,김선영,박혜나,김환희,김수하,지현준,양준모,김우...  하데스타운   뮤지컬   \n",
       "17  조형균,박강현,시우민,최재림,강홍석,김선영,박혜나,김환희,김수하,지현준,양준모,김우...  하데스타운   뮤지컬   \n",
       "18  조형균,박강현,시우민,최재림,강홍석,김선영,박혜나,김환희,김수하,지현준,양준모,김우...  하데스타운   뮤지컬   \n",
       "19  조형균,박강현,시우민,최재림,강홍석,김선영,박혜나,김환희,김수하,지현준,양준모,김우...  하데스타운   뮤지컬   \n",
       "\n",
       "                                                 body  leng    rig  \n",
       "0      쌀 르페 우스 최고 정말 최고예요 노래도 최고 연기도 최고 꼭 보세요 두 번 보세요    41  False  \n",
       "1              하데스 타운 두 번째 관람하니 더 감동이네요 참 잘 만들어진 극입니다    37  False  \n",
       "2     운명의 세 여신님들 극 중에선 너무 얄미우신데 캐릭터를 너무 잘 살리셔서 매력적이에요    47  False  \n",
       "3      재밌었어요 자르 메스 멋있고 조형균 배우 음색 너무 예뻐요 수하 배우님도 예뻤답니다    45  False  \n",
       "4                            재미있어요 넘버가 너무너무 좋아요 재미있어요    25  False  \n",
       "5   조형균 배우님 목소리에 반했습니다 계속 시우민 배우님으로만 보다가 처음으로 조형균 ...   186  False  \n",
       "6   잘 보고 왔습니다 깡르페우스 보고 왔어요 말해 뭐 해 역시나 기대 이상으로 오르페우...    81  False  \n",
       "7   배우들마다 연기가 조금씩 달라서 더 좋아요 회전 도는 중인데 배우들마다 디테일도 조...   131  False  \n",
       "8   최고의 뮤지컬 그리스 로마 신화를 이렇게 각색할 수도 있구나 싶었다 노래도 너무 좋...    58  False  \n",
       "9       뮤지컬 하데스 타운 최초 한국 공연 뮤지컬 하데스 타운 최초 한국 공연 추천합니다    87  False  \n",
       "10                                      차카차카차카 웨이트 포미    12  False  \n",
       "11                            지금 여기 다시 부르리 가장 완벽한 뮤지컬    27  False  \n",
       "12  재미있어요 시우민 최재림 김선영 김수한 김우형 캐스트로 봤는데 각자 역할에 정말 잘...    78  False  \n",
       "13  안 본 사람은 있지만 한 번 본 사람은 없는 지옥 가는 길 솔직히 처음엔 송스루라 ...    93  False  \n",
       "14             정말 좋아요 넘버도 연출도 너무 좋고 배우들 기복 없이 정말 잘하네요    37  False  \n",
       "15  하데스 타운 그만 보는 거 어떻게 하는 건데 회전각 섰습니다 배우들 모두 건강하시고...    74  False  \n",
       "16  이런 지옥이면 찬성합니다 배우들 넘버 무대 어떠한 것도 빠지는 게 없어요 너무 추천합니다    52  False  \n",
       "17  211029 하데스 타운 조형균 최재림 김수한 김선영 김우형 라인업 강력하게 추천합...   100  False  \n",
       "18              재밋서용 재밋서용 재밋서용 재밋서용재밋서용 재밋서용재밋서용 재밋서용    37   True  \n",
       "19              재밋서용 재밋서용 재밋서용 재밋서용재밋서용 재밋서용재밋서용 재밋서용    37   True  "
      ]
     },
     "execution_count": 473,
     "metadata": {},
     "output_type": "execute_result"
    }
   ],
   "source": [
    "df.head(20)"
   ]
  },
  {
   "cell_type": "code",
   "execution_count": 476,
   "metadata": {
    "ExecuteTime": {
     "end_time": "2021-12-19T19:09:42.197324Z",
     "start_time": "2021-12-19T19:09:42.138896Z"
    }
   },
   "outputs": [],
   "source": [
    "#rig열 값 numeric으로\n",
    "rig = df['rig'].map(lambda x : 1 if x else 0)\n",
    "df['rig'] = rig"
   ]
  },
  {
   "cell_type": "markdown",
   "metadata": {},
   "source": [
    "#### 라이브 후기 여부 열 live 추가 "
   ]
  },
  {
   "cell_type": "code",
   "execution_count": 474,
   "metadata": {
    "ExecuteTime": {
     "end_time": "2021-12-19T19:09:40.739997Z",
     "start_time": "2021-12-19T19:09:40.591367Z"
    }
   },
   "outputs": [],
   "source": [
    "live = df['body'].map(lambda x : 1 if x.find('라이브 후기')!=-1 else 0)\n",
    "df['live'] = live"
   ]
  },
  {
   "cell_type": "code",
   "execution_count": 475,
   "metadata": {
    "ExecuteTime": {
     "end_time": "2021-12-19T19:09:41.406509Z",
     "start_time": "2021-12-19T19:09:41.393545Z"
    }
   },
   "outputs": [
    {
     "data": {
      "text/plain": [
       "0    141486\n",
       "1     12611\n",
       "Name: body, dtype: int64"
      ]
     },
     "execution_count": 475,
     "metadata": {},
     "output_type": "execute_result"
    }
   ],
   "source": [
    "live.value_counts()"
   ]
  },
  {
   "cell_type": "markdown",
   "metadata": {},
   "source": [
    "#### 후기 본문에서 '라이브 후기' 문자열 제거한 열 subLive 추가"
   ]
  },
  {
   "cell_type": "code",
   "execution_count": 477,
   "metadata": {
    "ExecuteTime": {
     "end_time": "2021-12-19T19:09:43.350930Z",
     "start_time": "2021-12-19T19:09:43.113835Z"
    }
   },
   "outputs": [],
   "source": [
    "subLive = df['body'].map(lambda x : re.sub('라이브 후기', '', x))"
   ]
  },
  {
   "cell_type": "code",
   "execution_count": 478,
   "metadata": {
    "ExecuteTime": {
     "end_time": "2021-12-19T19:09:44.204867Z",
     "start_time": "2021-12-19T19:09:44.191898Z"
    }
   },
   "outputs": [
    {
     "data": {
      "text/plain": [
       "'마지막까지 행복했어요 라이브 후기 블메포 덕에 행복했습니다 모두 고생 많으셨고 다음에 또 와주세요'"
      ]
     },
     "execution_count": 478,
     "metadata": {},
     "output_type": "execute_result"
    }
   ],
   "source": [
    "df['body'][100362]"
   ]
  },
  {
   "cell_type": "code",
   "execution_count": 479,
   "metadata": {
    "ExecuteTime": {
     "end_time": "2021-12-19T19:09:45.383539Z",
     "start_time": "2021-12-19T19:09:45.375597Z"
    }
   },
   "outputs": [
    {
     "data": {
      "text/plain": [
       "'마지막까지 행복했어요  블메포 덕에 행복했습니다 모두 고생 많으셨고 다음에 또 와주세요'"
      ]
     },
     "execution_count": 479,
     "metadata": {},
     "output_type": "execute_result"
    }
   ],
   "source": [
    "subLive[100362]"
   ]
  },
  {
   "cell_type": "code",
   "execution_count": 480,
   "metadata": {
    "ExecuteTime": {
     "end_time": "2021-12-19T19:09:46.789462Z",
     "start_time": "2021-12-19T19:09:46.767522Z"
    }
   },
   "outputs": [],
   "source": [
    "df['subLive'] = subLive"
   ]
  },
  {
   "cell_type": "code",
   "execution_count": 481,
   "metadata": {
    "ExecuteTime": {
     "end_time": "2021-12-19T19:09:47.682633Z",
     "start_time": "2021-12-19T19:09:47.514079Z"
    }
   },
   "outputs": [
    {
     "name": "stdout",
     "output_type": "stream",
     "text": [
      "<class 'pandas.core.frame.DataFrame'>\n",
      "RangeIndex: 154097 entries, 0 to 154096\n",
      "Data columns (total 16 columns):\n",
      " #   Column   Non-Null Count   Dtype \n",
      "---  ------   --------------   ----- \n",
      " 0   title    154097 non-null  object\n",
      " 1   text     154097 non-null  object\n",
      " 2   id       154097 non-null  object\n",
      " 3   date     154097 non-null  object\n",
      " 4   like     154097 non-null  int64 \n",
      " 5   rate     154097 non-null  int64 \n",
      " 6   place    154097 non-null  object\n",
      " 7   season   154097 non-null  object\n",
      " 8   cast     154097 non-null  object\n",
      " 9   show     154097 non-null  object\n",
      " 10  genre    154097 non-null  object\n",
      " 11  body     154097 non-null  object\n",
      " 12  leng     154097 non-null  int64 \n",
      " 13  rig      154097 non-null  int64 \n",
      " 14  live     154097 non-null  int64 \n",
      " 15  subLive  154097 non-null  object\n",
      "dtypes: int64(5), object(11)\n",
      "memory usage: 18.8+ MB\n"
     ]
    }
   ],
   "source": [
    "df.info()"
   ]
  },
  {
   "cell_type": "code",
   "execution_count": 483,
   "metadata": {
    "ExecuteTime": {
     "end_time": "2021-12-19T19:10:21.230146Z",
     "start_time": "2021-12-19T19:10:21.176291Z"
    }
   },
   "outputs": [
    {
     "data": {
      "text/html": [
       "<div>\n",
       "<style scoped>\n",
       "    .dataframe tbody tr th:only-of-type {\n",
       "        vertical-align: middle;\n",
       "    }\n",
       "\n",
       "    .dataframe tbody tr th {\n",
       "        vertical-align: top;\n",
       "    }\n",
       "\n",
       "    .dataframe thead th {\n",
       "        text-align: right;\n",
       "    }\n",
       "</style>\n",
       "<table border=\"1\" class=\"dataframe\">\n",
       "  <thead>\n",
       "    <tr style=\"text-align: right;\">\n",
       "      <th></th>\n",
       "      <th>title</th>\n",
       "      <th>text</th>\n",
       "      <th>id</th>\n",
       "      <th>date</th>\n",
       "      <th>like</th>\n",
       "      <th>rate</th>\n",
       "      <th>place</th>\n",
       "      <th>season</th>\n",
       "      <th>cast</th>\n",
       "      <th>show</th>\n",
       "      <th>genre</th>\n",
       "      <th>body</th>\n",
       "      <th>leng</th>\n",
       "      <th>rig</th>\n",
       "      <th>live</th>\n",
       "      <th>subLive</th>\n",
       "    </tr>\n",
       "  </thead>\n",
       "  <tbody>\n",
       "    <tr>\n",
       "      <th>573</th>\n",
       "      <td>ㅇ</td>\n",
       "      <td>ㄴㄷㅈㅇ</td>\n",
       "      <td>ryu***</td>\n",
       "      <td>2021-10-12</td>\n",
       "      <td>0</td>\n",
       "      <td>5</td>\n",
       "      <td>LG아트센터</td>\n",
       "      <td>2021.09.07 ~2022.02.27</td>\n",
       "      <td>조형균,박강현,시우민,최재림,강홍석,김선영,박혜나,김환희,김수하,지현준,양준모,김우...</td>\n",
       "      <td>하데스타운</td>\n",
       "      <td>뮤지컬</td>\n",
       "      <td></td>\n",
       "      <td>6</td>\n",
       "      <td>0</td>\n",
       "      <td>0</td>\n",
       "      <td></td>\n",
       "    </tr>\n",
       "    <tr>\n",
       "      <th>5012</th>\n",
       "      <td>ㅇㅅㅇ</td>\n",
       "      <td>ㅇㅅㅇㅅㅇㅅㅇㅅㅇ</td>\n",
       "      <td>lee8***</td>\n",
       "      <td>2021-05-24</td>\n",
       "      <td>0</td>\n",
       "      <td>5</td>\n",
       "      <td>서경대학교 공연예술센터 스콘2관</td>\n",
       "      <td>2021.03.16 ~2021.05.23</td>\n",
       "      <td>박영수,강찬,박은석,김도현,최현선,이지숙,임찬민,정다희</td>\n",
       "      <td>아이위시</td>\n",
       "      <td>뮤지컬</td>\n",
       "      <td></td>\n",
       "      <td>13</td>\n",
       "      <td>1</td>\n",
       "      <td>0</td>\n",
       "      <td></td>\n",
       "    </tr>\n",
       "    <tr>\n",
       "      <th>5014</th>\n",
       "      <td>ㅇㅅㅇ</td>\n",
       "      <td>ㅇㅅㅇㅅㅇㅅㅇㅅㅇ</td>\n",
       "      <td>lee8***</td>\n",
       "      <td>2021-05-24</td>\n",
       "      <td>0</td>\n",
       "      <td>5</td>\n",
       "      <td>서경대학교 공연예술센터 스콘2관</td>\n",
       "      <td>2021.03.16 ~2021.05.23</td>\n",
       "      <td>박영수,강찬,박은석,김도현,최현선,이지숙,임찬민,정다희</td>\n",
       "      <td>아이위시</td>\n",
       "      <td>뮤지컬</td>\n",
       "      <td></td>\n",
       "      <td>13</td>\n",
       "      <td>1</td>\n",
       "      <td>0</td>\n",
       "      <td></td>\n",
       "    </tr>\n",
       "    <tr>\n",
       "      <th>5118</th>\n",
       "      <td>ㅇㅅㅇ</td>\n",
       "      <td>ㅇㅅㅇㅅㅇㅅㅇㅅㅇ</td>\n",
       "      <td>lee8***</td>\n",
       "      <td>2021-05-17</td>\n",
       "      <td>0</td>\n",
       "      <td>5</td>\n",
       "      <td>서경대학교 공연예술센터 스콘2관</td>\n",
       "      <td>2021.03.16 ~2021.05.23</td>\n",
       "      <td>박영수,강찬,박은석,김도현,최현선,이지숙,임찬민,정다희</td>\n",
       "      <td>아이위시</td>\n",
       "      <td>뮤지컬</td>\n",
       "      <td></td>\n",
       "      <td>13</td>\n",
       "      <td>1</td>\n",
       "      <td>0</td>\n",
       "      <td></td>\n",
       "    </tr>\n",
       "    <tr>\n",
       "      <th>5301</th>\n",
       "      <td>ㅇㅅㅇ</td>\n",
       "      <td>ㅇㅅㅇㅅㅇㅅㅇㅅㅇ</td>\n",
       "      <td>lee8***</td>\n",
       "      <td>2021-05-03</td>\n",
       "      <td>0</td>\n",
       "      <td>5</td>\n",
       "      <td>서경대학교 공연예술센터 스콘2관</td>\n",
       "      <td>2021.03.16 ~2021.05.23</td>\n",
       "      <td>박영수,강찬,박은석,김도현,최현선,이지숙,임찬민,정다희</td>\n",
       "      <td>아이위시</td>\n",
       "      <td>뮤지컬</td>\n",
       "      <td></td>\n",
       "      <td>13</td>\n",
       "      <td>1</td>\n",
       "      <td>0</td>\n",
       "      <td></td>\n",
       "    </tr>\n",
       "    <tr>\n",
       "      <th>...</th>\n",
       "      <td>...</td>\n",
       "      <td>...</td>\n",
       "      <td>...</td>\n",
       "      <td>...</td>\n",
       "      <td>...</td>\n",
       "      <td>...</td>\n",
       "      <td>...</td>\n",
       "      <td>...</td>\n",
       "      <td>...</td>\n",
       "      <td>...</td>\n",
       "      <td>...</td>\n",
       "      <td>...</td>\n",
       "      <td>...</td>\n",
       "      <td>...</td>\n",
       "      <td>...</td>\n",
       "      <td>...</td>\n",
       "    </tr>\n",
       "    <tr>\n",
       "      <th>128874</th>\n",
       "      <td>ㄴㅇㅁㅇㄴㅁ\\n라이브 후기</td>\n",
       "      <td>ㅁㅇㄴㅁㅇㅁㄴㅇㅁㄴ</td>\n",
       "      <td>suneyes0***</td>\n",
       "      <td>2021-08-23</td>\n",
       "      <td>0</td>\n",
       "      <td>5</td>\n",
       "      <td>국립정동극장(서울)</td>\n",
       "      <td>2021.07.27 ~2021.09.05</td>\n",
       "      <td>김지철,류제윤,원종환,김지훈,최유하,김아영,최수진,박란주,류경환,이경욱,김지혜,임소...</td>\n",
       "      <td>판</td>\n",
       "      <td>뮤지컬</td>\n",
       "      <td>라이브 후기</td>\n",
       "      <td>24</td>\n",
       "      <td>0</td>\n",
       "      <td>1</td>\n",
       "      <td></td>\n",
       "    </tr>\n",
       "    <tr>\n",
       "      <th>132667</th>\n",
       "      <td>ㅇㅇㅇㅇㅇㅇㅇㅇㅇ\\n라이브 후기</td>\n",
       "      <td>ㅇㅇㅇㅇㅇㅇㅇㅇㅇㅇ</td>\n",
       "      <td>la***</td>\n",
       "      <td>2021-03-15</td>\n",
       "      <td>0</td>\n",
       "      <td>5</td>\n",
       "      <td>대학로 유니플렉스 2관</td>\n",
       "      <td>2021.02.05 ~2021.04.18</td>\n",
       "      <td>정상윤,박은석,김순택,오창석,이정화,최미소,전해주,조현우,곽다인,정지우</td>\n",
       "      <td>붉은 정원</td>\n",
       "      <td>뮤지컬</td>\n",
       "      <td>라이브 후기</td>\n",
       "      <td>27</td>\n",
       "      <td>1</td>\n",
       "      <td>1</td>\n",
       "      <td></td>\n",
       "    </tr>\n",
       "    <tr>\n",
       "      <th>132668</th>\n",
       "      <td>ㅇㅇㅇㅇㅇㅇㅇㅇㅇ\\n라이브 후기</td>\n",
       "      <td>ㅇㅇㅇㅇㅇㅇㅇㅇㅇㅇ</td>\n",
       "      <td>la***</td>\n",
       "      <td>2021-03-15</td>\n",
       "      <td>0</td>\n",
       "      <td>5</td>\n",
       "      <td>대학로 유니플렉스 2관</td>\n",
       "      <td>2021.02.05 ~2021.04.18</td>\n",
       "      <td>정상윤,박은석,김순택,오창석,이정화,최미소,전해주,조현우,곽다인,정지우</td>\n",
       "      <td>붉은 정원</td>\n",
       "      <td>뮤지컬</td>\n",
       "      <td>라이브 후기</td>\n",
       "      <td>27</td>\n",
       "      <td>1</td>\n",
       "      <td>1</td>\n",
       "      <td></td>\n",
       "    </tr>\n",
       "    <tr>\n",
       "      <th>136373</th>\n",
       "      <td>♡♡♡♡♡\\n라이브 후기</td>\n",
       "      <td>♡♡♡♡♡♡</td>\n",
       "      <td>wkgus***</td>\n",
       "      <td>2021-03-03</td>\n",
       "      <td>0</td>\n",
       "      <td>5</td>\n",
       "      <td>드림아트센터 2관</td>\n",
       "      <td>2021.02.15 ~2021.05.09</td>\n",
       "      <td>김종구,홍승안,김찬종,정민,조풍래,백기범</td>\n",
       "      <td>마지막 사건</td>\n",
       "      <td>뮤지컬</td>\n",
       "      <td>라이브 후기</td>\n",
       "      <td>19</td>\n",
       "      <td>0</td>\n",
       "      <td>1</td>\n",
       "      <td></td>\n",
       "    </tr>\n",
       "    <tr>\n",
       "      <th>149596</th>\n",
       "      <td>???\\n라이브 후기</td>\n",
       "      <td>??????????</td>\n",
       "      <td>ssr***</td>\n",
       "      <td>2020-11-09</td>\n",
       "      <td>0</td>\n",
       "      <td>1</td>\n",
       "      <td>드림아트센터 2관</td>\n",
       "      <td>2020.10.04 ~2021.01.24</td>\n",
       "      <td>고훈정,양지원,이승현,김이후,홍미금,서동진,정선기</td>\n",
       "      <td>아킬레스</td>\n",
       "      <td>뮤지컬</td>\n",
       "      <td>라이브 후기</td>\n",
       "      <td>21</td>\n",
       "      <td>0</td>\n",
       "      <td>1</td>\n",
       "      <td></td>\n",
       "    </tr>\n",
       "  </tbody>\n",
       "</table>\n",
       "<p>82 rows × 16 columns</p>\n",
       "</div>"
      ],
      "text/plain": [
       "                    title        text           id        date  like  rate  \\\n",
       "573                     ㅇ        ㄴㄷㅈㅇ       ryu***  2021-10-12     0     5   \n",
       "5012                  ㅇㅅㅇ   ㅇㅅㅇㅅㅇㅅㅇㅅㅇ      lee8***  2021-05-24     0     5   \n",
       "5014                  ㅇㅅㅇ   ㅇㅅㅇㅅㅇㅅㅇㅅㅇ      lee8***  2021-05-24     0     5   \n",
       "5118                  ㅇㅅㅇ   ㅇㅅㅇㅅㅇㅅㅇㅅㅇ      lee8***  2021-05-17     0     5   \n",
       "5301                  ㅇㅅㅇ   ㅇㅅㅇㅅㅇㅅㅇㅅㅇ      lee8***  2021-05-03     0     5   \n",
       "...                   ...         ...          ...         ...   ...   ...   \n",
       "128874     ㄴㅇㅁㅇㄴㅁ\\n라이브 후기  ㅁㅇㄴㅁㅇㅁㄴㅇㅁㄴ  suneyes0***  2021-08-23     0     5   \n",
       "132667  ㅇㅇㅇㅇㅇㅇㅇㅇㅇ\\n라이브 후기  ㅇㅇㅇㅇㅇㅇㅇㅇㅇㅇ        la***  2021-03-15     0     5   \n",
       "132668  ㅇㅇㅇㅇㅇㅇㅇㅇㅇ\\n라이브 후기  ㅇㅇㅇㅇㅇㅇㅇㅇㅇㅇ        la***  2021-03-15     0     5   \n",
       "136373      ♡♡♡♡♡\\n라이브 후기      ♡♡♡♡♡♡     wkgus***  2021-03-03     0     5   \n",
       "149596        ???\\n라이브 후기  ??????????       ssr***  2020-11-09     0     1   \n",
       "\n",
       "                    place                  season  \\\n",
       "573                LG아트센터  2021.09.07 ~2022.02.27   \n",
       "5012    서경대학교 공연예술센터 스콘2관  2021.03.16 ~2021.05.23   \n",
       "5014    서경대학교 공연예술센터 스콘2관  2021.03.16 ~2021.05.23   \n",
       "5118    서경대학교 공연예술센터 스콘2관  2021.03.16 ~2021.05.23   \n",
       "5301    서경대학교 공연예술센터 스콘2관  2021.03.16 ~2021.05.23   \n",
       "...                   ...                     ...   \n",
       "128874         국립정동극장(서울)  2021.07.27 ~2021.09.05   \n",
       "132667       대학로 유니플렉스 2관  2021.02.05 ~2021.04.18   \n",
       "132668       대학로 유니플렉스 2관  2021.02.05 ~2021.04.18   \n",
       "136373          드림아트센터 2관  2021.02.15 ~2021.05.09   \n",
       "149596          드림아트센터 2관  2020.10.04 ~2021.01.24   \n",
       "\n",
       "                                                     cast    show genre  \\\n",
       "573     조형균,박강현,시우민,최재림,강홍석,김선영,박혜나,김환희,김수하,지현준,양준모,김우...   하데스타운   뮤지컬   \n",
       "5012                       박영수,강찬,박은석,김도현,최현선,이지숙,임찬민,정다희    아이위시   뮤지컬   \n",
       "5014                       박영수,강찬,박은석,김도현,최현선,이지숙,임찬민,정다희    아이위시   뮤지컬   \n",
       "5118                       박영수,강찬,박은석,김도현,최현선,이지숙,임찬민,정다희    아이위시   뮤지컬   \n",
       "5301                       박영수,강찬,박은석,김도현,최현선,이지숙,임찬민,정다희    아이위시   뮤지컬   \n",
       "...                                                   ...     ...   ...   \n",
       "128874  김지철,류제윤,원종환,김지훈,최유하,김아영,최수진,박란주,류경환,이경욱,김지혜,임소...       판   뮤지컬   \n",
       "132667            정상윤,박은석,김순택,오창석,이정화,최미소,전해주,조현우,곽다인,정지우   붉은 정원   뮤지컬   \n",
       "132668            정상윤,박은석,김순택,오창석,이정화,최미소,전해주,조현우,곽다인,정지우   붉은 정원   뮤지컬   \n",
       "136373                             김종구,홍승안,김찬종,정민,조풍래,백기범  마지막 사건   뮤지컬   \n",
       "149596                        고훈정,양지원,이승현,김이후,홍미금,서동진,정선기    아킬레스   뮤지컬   \n",
       "\n",
       "          body  leng  rig  live subLive  \n",
       "573                6    0     0          \n",
       "5012              13    1     0          \n",
       "5014              13    1     0          \n",
       "5118              13    1     0          \n",
       "5301              13    1     0          \n",
       "...        ...   ...  ...   ...     ...  \n",
       "128874  라이브 후기    24    0     1          \n",
       "132667  라이브 후기    27    1     1          \n",
       "132668  라이브 후기    27    1     1          \n",
       "136373  라이브 후기    19    0     1          \n",
       "149596  라이브 후기    21    0     1          \n",
       "\n",
       "[82 rows x 16 columns]"
      ]
     },
     "execution_count": 483,
     "metadata": {},
     "output_type": "execute_result"
    }
   ],
   "source": [
    "#'라이브 후기' 문자열을 제거하면서 빈 값이 된 행들\n",
    "df[df['subLive']=='']"
   ]
  },
  {
   "cell_type": "code",
   "execution_count": 484,
   "metadata": {
    "ExecuteTime": {
     "end_time": "2021-12-19T19:10:29.824459Z",
     "start_time": "2021-12-19T19:10:29.737693Z"
    }
   },
   "outputs": [],
   "source": [
    "#빈 값은 missing으로 채우기\n",
    "bodyNan = np.full(63, 'missing')\n",
    "subLiveNan = np.full(82, 'missing')\n",
    "df.loc[df[df['body']==''].index, 'body'] = bodyNan\n",
    "df.loc[df[df['subLive']==''].index, 'subLive'] = subLiveNan"
   ]
  },
  {
   "cell_type": "code",
   "execution_count": 485,
   "metadata": {
    "ExecuteTime": {
     "end_time": "2021-12-19T19:10:53.225817Z",
     "start_time": "2021-12-19T19:10:51.227677Z"
    }
   },
   "outputs": [],
   "source": [
    "df.to_csv('./review_total_all.5.0.5.csv', index=None)"
   ]
  },
  {
   "cell_type": "code",
   "execution_count": 486,
   "metadata": {
    "ExecuteTime": {
     "end_time": "2021-12-19T19:11:07.864957Z",
     "start_time": "2021-12-19T19:11:06.289715Z"
    }
   },
   "outputs": [
    {
     "name": "stdout",
     "output_type": "stream",
     "text": [
      "<class 'pandas.core.frame.DataFrame'>\n",
      "RangeIndex: 154097 entries, 0 to 154096\n",
      "Data columns (total 16 columns):\n",
      " #   Column   Non-Null Count   Dtype \n",
      "---  ------   --------------   ----- \n",
      " 0   title    154097 non-null  object\n",
      " 1   text     154097 non-null  object\n",
      " 2   id       154097 non-null  object\n",
      " 3   date     154097 non-null  object\n",
      " 4   like     154097 non-null  int64 \n",
      " 5   rate     154097 non-null  int64 \n",
      " 6   place    154097 non-null  object\n",
      " 7   season   154097 non-null  object\n",
      " 8   cast     154097 non-null  object\n",
      " 9   show     154097 non-null  object\n",
      " 10  genre    154097 non-null  object\n",
      " 11  body     154097 non-null  object\n",
      " 12  leng     154097 non-null  int64 \n",
      " 13  rig      154097 non-null  int64 \n",
      " 14  live     154097 non-null  int64 \n",
      " 15  subLive  154097 non-null  object\n",
      "dtypes: int64(5), object(11)\n",
      "memory usage: 18.8+ MB\n"
     ]
    }
   ],
   "source": [
    "df55 = pd.read_csv('./review_total_all.5.0.5.csv')\n",
    "df55.info()"
   ]
  },
  {
   "cell_type": "markdown",
   "metadata": {},
   "source": [
    "### 오류 찾기"
   ]
  },
  {
   "cell_type": "code",
   "execution_count": 487,
   "metadata": {
    "ExecuteTime": {
     "end_time": "2021-12-19T19:12:05.903214Z",
     "start_time": "2021-12-19T19:12:05.876093Z"
    }
   },
   "outputs": [
    {
     "data": {
      "text/plain": [
       "(2100, 16)"
      ]
     },
     "execution_count": 487,
     "metadata": {},
     "output_type": "execute_result"
    }
   ],
   "source": [
    "#오류로 생각되는 행들\n",
    "error = df[df['body']=='[]']\n",
    "error.shape"
   ]
  },
  {
   "cell_type": "code",
   "execution_count": 488,
   "metadata": {
    "ExecuteTime": {
     "end_time": "2021-12-19T19:12:14.090612Z",
     "start_time": "2021-12-19T19:12:13.601885Z"
    }
   },
   "outputs": [
    {
     "data": {
      "text/plain": [
       "<matplotlib.axes._subplots.AxesSubplot at 0x18f0a463a30>"
      ]
     },
     "execution_count": 488,
     "metadata": {},
     "output_type": "execute_result"
    },
    {
     "data": {
      "image/png": "[encoded data removed]",
      "text/plain": [
       "<Figure size 1080x360 with 1 Axes>"
      ]
     },
     "metadata": {
      "needs_background": "light"
     },
     "output_type": "display_data"
    }
   ],
   "source": [
    "plt.figure(figsize=(15,5))\n",
    "plt.xticks(np.arange(0, 1000, 20), rotation=45)\n",
    "sns.histplot(error[error['leng']<=1000]['leng'],bins=100)"
   ]
  },
  {
   "cell_type": "markdown",
   "metadata": {
    "ExecuteTime": {
     "end_time": "2021-12-19T18:08:20.146719Z",
     "start_time": "2021-12-19T18:08:20.036015Z"
    }
   },
   "source": [
    "#### 후기 길이가 500자가 넘는 것이 문제로 보이므로, 오류가 나는 부분을 제외하고 텍스트 전처리"
   ]
  },
  {
   "cell_type": "code",
   "execution_count": 491,
   "metadata": {
    "ExecuteTime": {
     "end_time": "2021-12-19T19:14:33.622015Z",
     "start_time": "2021-12-19T19:14:32.338907Z"
    }
   },
   "outputs": [
    {
     "name": "stdout",
     "output_type": "stream",
     "text": [
      "<class 'pandas.core.frame.DataFrame'>\n",
      "RangeIndex: 154097 entries, 0 to 154096\n",
      "Data columns (total 14 columns):\n",
      " #   Column   Non-Null Count   Dtype \n",
      "---  ------   --------------   ----- \n",
      " 0   Column1  154097 non-null  int64 \n",
      " 1   title    154097 non-null  object\n",
      " 2   text     154097 non-null  object\n",
      " 3   id       154097 non-null  object\n",
      " 4   date     154097 non-null  object\n",
      " 5   like     154097 non-null  int64 \n",
      " 6   rate     154097 non-null  int64 \n",
      " 7   place    154097 non-null  object\n",
      " 8   season   154097 non-null  object\n",
      " 9   cast     154097 non-null  object\n",
      " 10  show     154097 non-null  object\n",
      " 11  genre    154097 non-null  object\n",
      " 12  body     154097 non-null  object\n",
      " 13  열1       154097 non-null  int64 \n",
      "dtypes: int64(4), object(10)\n",
      "memory usage: 16.5+ MB\n"
     ]
    }
   ],
   "source": [
    "#body 열이 전처리되기 전인 파일\n",
    "df2 = pd.read_csv('./review_total_all.2.0.4.csv')\n",
    "df2.info()"
   ]
  },
  {
   "cell_type": "code",
   "execution_count": 492,
   "metadata": {
    "ExecuteTime": {
     "end_time": "2021-12-19T19:14:41.491109Z",
     "start_time": "2021-12-19T19:14:41.480138Z"
    }
   },
   "outputs": [],
   "source": [
    "errorOver500 = error[error['leng']>=500]\n",
    "errorOver500 = df2.loc[errorOver500.index,:]\n",
    "errorOver500.reset_index(inplace=True)"
   ]
  },
  {
   "cell_type": "code",
   "execution_count": 493,
   "metadata": {
    "ExecuteTime": {
     "end_time": "2021-12-19T19:14:47.758445Z",
     "start_time": "2021-12-19T19:14:47.737494Z"
    }
   },
   "outputs": [],
   "source": [
    "def cleansing(text):\n",
    "    pattern = '([ㄱ-ㅎㅏ-ㅣ]+)'\n",
    "    text = re.sub(pattern, '', text)\n",
    "\n",
    "    pattern = '([A-Za-z]+)'\n",
    "    text = re.sub(pattern, '', text)\n",
    "\n",
    "    pattern = '([\\W])'\n",
    "    text = re.sub(pattern, ' ', text)\n",
    "\n",
    "    pattern = re.compile(r'\\s+')\n",
    "    text = re.sub(pattern, ' ', text)\n",
    "\n",
    "    return text.strip()"
   ]
  },
  {
   "cell_type": "code",
   "execution_count": 494,
   "metadata": {
    "ExecuteTime": {
     "end_time": "2021-12-19T19:14:55.985044Z",
     "start_time": "2021-12-19T19:14:55.625411Z"
    }
   },
   "outputs": [
    {
     "name": "stderr",
     "output_type": "stream",
     "text": [
      "Processing Dataframe: 100%|██████████████████████████████████████████████████████| 1390/1390 [00:00<00:00, 4028.11it/s]\n"
     ]
    }
   ],
   "source": [
    "from tqdm import tqdm\n",
    "\n",
    "body = errorOver500['body'].progress_apply(lambda x : cleansing(x))"
   ]
  },
  {
   "cell_type": "code",
   "execution_count": 533,
   "metadata": {
    "ExecuteTime": {
     "end_time": "2021-12-19T19:29:59.387154Z",
     "start_time": "2021-12-19T19:29:59.372229Z"
    }
   },
   "outputs": [],
   "source": [
    "idx = errorOver500['index']"
   ]
  },
  {
   "cell_type": "code",
   "execution_count": 497,
   "metadata": {
    "ExecuteTime": {
     "end_time": "2021-12-19T19:16:00.713073Z",
     "start_time": "2021-12-19T19:16:00.682156Z"
    }
   },
   "outputs": [
    {
     "name": "stderr",
     "output_type": "stream",
     "text": [
      "Processing Dataframe: 100%|████████████████████████████████████████████████████| 1390/1390 [00:00<00:00, 174214.33it/s]\n"
     ]
    }
   ],
   "source": [
    "subLive = errorOver500['body'].progress_apply(lambda x : re.sub('라이브 후기', '', x))"
   ]
  },
  {
   "cell_type": "code",
   "execution_count": 506,
   "metadata": {
    "ExecuteTime": {
     "end_time": "2021-12-19T19:18:37.543659Z",
     "start_time": "2021-12-19T19:18:37.526666Z"
    }
   },
   "outputs": [],
   "source": [
    "body = pd.DataFrame(body)"
   ]
  },
  {
   "cell_type": "code",
   "execution_count": 508,
   "metadata": {
    "ExecuteTime": {
     "end_time": "2021-12-19T19:19:12.988399Z",
     "start_time": "2021-12-19T19:19:12.978393Z"
    }
   },
   "outputs": [],
   "source": [
    "subLive = pd.DataFrame(subLive)"
   ]
  },
  {
   "cell_type": "code",
   "execution_count": 507,
   "metadata": {
    "ExecuteTime": {
     "end_time": "2021-12-19T19:18:45.083291Z",
     "start_time": "2021-12-19T19:18:45.074280Z"
    }
   },
   "outputs": [
    {
     "name": "stdout",
     "output_type": "stream",
     "text": [
      "<class 'pandas.core.frame.DataFrame'>\n",
      "RangeIndex: 1390 entries, 0 to 1389\n",
      "Data columns (total 1 columns):\n",
      " #   Column  Non-Null Count  Dtype \n",
      "---  ------  --------------  ----- \n",
      " 0   body    1390 non-null   object\n",
      "dtypes: object(1)\n",
      "memory usage: 11.0+ KB\n"
     ]
    }
   ],
   "source": [
    "body.info()"
   ]
  },
  {
   "cell_type": "code",
   "execution_count": 509,
   "metadata": {
    "ExecuteTime": {
     "end_time": "2021-12-19T19:19:20.019941Z",
     "start_time": "2021-12-19T19:19:19.997999Z"
    }
   },
   "outputs": [
    {
     "name": "stdout",
     "output_type": "stream",
     "text": [
      "<class 'pandas.core.frame.DataFrame'>\n",
      "RangeIndex: 1390 entries, 0 to 1389\n",
      "Data columns (total 1 columns):\n",
      " #   Column  Non-Null Count  Dtype \n",
      "---  ------  --------------  ----- \n",
      " 0   body    1390 non-null   object\n",
      "dtypes: object(1)\n",
      "memory usage: 11.0+ KB\n"
     ]
    }
   ],
   "source": [
    "subLive.info()"
   ]
  },
  {
   "cell_type": "code",
   "execution_count": 539,
   "metadata": {
    "ExecuteTime": {
     "end_time": "2021-12-19T19:32:25.079406Z",
     "start_time": "2021-12-19T19:32:18.096820Z"
    }
   },
   "outputs": [
    {
     "name": "stderr",
     "output_type": "stream",
     "text": [
      "<ipython-input-539-6b89d0657eee>:3: SettingWithCopyWarning: \n",
      "A value is trying to be set on a copy of a slice from a DataFrame\n",
      "\n",
      "See the caveats in the documentation: https://pandas.pydata.org/pandas-docs/stable/user_guide/indexing.html#returning-a-view-versus-a-copy\n",
      "  df['body'][i] = body['body'][cnt]\n",
      "<ipython-input-539-6b89d0657eee>:4: SettingWithCopyWarning: \n",
      "A value is trying to be set on a copy of a slice from a DataFrame\n",
      "\n",
      "See the caveats in the documentation: https://pandas.pydata.org/pandas-docs/stable/user_guide/indexing.html#returning-a-view-versus-a-copy\n",
      "  df['subLive'][i] = subLive['body'][cnt]\n"
     ]
    },
    {
     "name": "stdout",
     "output_type": "stream",
     "text": [
      "1390\n"
     ]
    }
   ],
   "source": [
    "cnt = 0\n",
    "for i in idx:\n",
    "    df['body'][i] = body['body'][cnt]\n",
    "    df['subLive'][i] = subLive['body'][cnt]\n",
    "    cnt = cnt + 1\n",
    "print(cnt)"
   ]
  },
  {
   "cell_type": "code",
   "execution_count": 540,
   "metadata": {
    "ExecuteTime": {
     "end_time": "2021-12-19T19:32:37.205553Z",
     "start_time": "2021-12-19T19:32:37.047915Z"
    }
   },
   "outputs": [
    {
     "name": "stdout",
     "output_type": "stream",
     "text": [
      "<class 'pandas.core.frame.DataFrame'>\n",
      "RangeIndex: 154097 entries, 0 to 154096\n",
      "Data columns (total 16 columns):\n",
      " #   Column   Non-Null Count   Dtype \n",
      "---  ------   --------------   ----- \n",
      " 0   title    154097 non-null  object\n",
      " 1   text     154097 non-null  object\n",
      " 2   id       154097 non-null  object\n",
      " 3   date     154097 non-null  object\n",
      " 4   like     154097 non-null  int64 \n",
      " 5   rate     154097 non-null  int64 \n",
      " 6   place    154097 non-null  object\n",
      " 7   season   154097 non-null  object\n",
      " 8   cast     154097 non-null  object\n",
      " 9   show     154097 non-null  object\n",
      " 10  genre    154097 non-null  object\n",
      " 11  body     154097 non-null  object\n",
      " 12  leng     154097 non-null  int64 \n",
      " 13  rig      154097 non-null  int64 \n",
      " 14  live     154097 non-null  int64 \n",
      " 15  subLive  154097 non-null  object\n",
      "dtypes: int64(5), object(11)\n",
      "memory usage: 18.8+ MB\n"
     ]
    }
   ],
   "source": [
    "#최종 저장 데이터셋\n",
    "df.info()"
   ]
  },
  {
   "cell_type": "markdown",
   "metadata": {},
   "source": [
    "#### 본문에 기호밖에 없는 후기 전처리 결과"
   ]
  },
  {
   "cell_type": "code",
   "execution_count": 541,
   "metadata": {
    "ExecuteTime": {
     "end_time": "2021-12-19T19:32:55.761777Z",
     "start_time": "2021-12-19T19:32:55.698944Z"
    }
   },
   "outputs": [
    {
     "data": {
      "text/html": [
       "<div>\n",
       "<style scoped>\n",
       "    .dataframe tbody tr th:only-of-type {\n",
       "        vertical-align: middle;\n",
       "    }\n",
       "\n",
       "    .dataframe tbody tr th {\n",
       "        vertical-align: top;\n",
       "    }\n",
       "\n",
       "    .dataframe thead th {\n",
       "        text-align: right;\n",
       "    }\n",
       "</style>\n",
       "<table border=\"1\" class=\"dataframe\">\n",
       "  <thead>\n",
       "    <tr style=\"text-align: right;\">\n",
       "      <th></th>\n",
       "      <th>title</th>\n",
       "      <th>text</th>\n",
       "      <th>id</th>\n",
       "      <th>date</th>\n",
       "      <th>like</th>\n",
       "      <th>rate</th>\n",
       "      <th>place</th>\n",
       "      <th>season</th>\n",
       "      <th>cast</th>\n",
       "      <th>show</th>\n",
       "      <th>genre</th>\n",
       "      <th>body</th>\n",
       "      <th>leng</th>\n",
       "      <th>rig</th>\n",
       "      <th>live</th>\n",
       "      <th>subLive</th>\n",
       "    </tr>\n",
       "  </thead>\n",
       "  <tbody>\n",
       "    <tr>\n",
       "      <th>564</th>\n",
       "      <td>.</td>\n",
       "      <td>...</td>\n",
       "      <td>wlsdud3***</td>\n",
       "      <td>2021-10-13</td>\n",
       "      <td>0</td>\n",
       "      <td>5</td>\n",
       "      <td>LG아트센터</td>\n",
       "      <td>2021.09.07 ~2022.02.27</td>\n",
       "      <td>조형균,박강현,시우민,최재림,강홍석,김선영,박혜나,김환희,김수하,지현준,양준모,김우...</td>\n",
       "      <td>하데스타운</td>\n",
       "      <td>뮤지컬</td>\n",
       "      <td>[]</td>\n",
       "      <td>5</td>\n",
       "      <td>0</td>\n",
       "      <td>0</td>\n",
       "      <td>[]</td>\n",
       "    </tr>\n",
       "    <tr>\n",
       "      <th>1007</th>\n",
       "      <td>ddddfddffd</td>\n",
       "      <td>ffjkyrvdscvniyf</td>\n",
       "      <td>lhw8***</td>\n",
       "      <td>2021-09-27</td>\n",
       "      <td>0</td>\n",
       "      <td>5</td>\n",
       "      <td>LG아트센터</td>\n",
       "      <td>2021.09.07 ~2022.02.27</td>\n",
       "      <td>조형균,박강현,시우민,최재림,강홍석,김선영,박혜나,김환희,김수하,지현준,양준모,김우...</td>\n",
       "      <td>하데스타운</td>\n",
       "      <td>뮤지컬</td>\n",
       "      <td>[]</td>\n",
       "      <td>26</td>\n",
       "      <td>0</td>\n",
       "      <td>0</td>\n",
       "      <td>[]</td>\n",
       "    </tr>\n",
       "    <tr>\n",
       "      <th>1649</th>\n",
       "      <td>...</td>\n",
       "      <td>....</td>\n",
       "      <td>jem1***</td>\n",
       "      <td>2021-03-08</td>\n",
       "      <td>0</td>\n",
       "      <td>4</td>\n",
       "      <td>예술의전당 오페라극장</td>\n",
       "      <td>2021.01.19 ~2021.03.07</td>\n",
       "      <td>김소현,신영숙,강필석,손준호,박민성,윤형렬,이창섭,이정열,서범석,김도형,최민철,임선...</td>\n",
       "      <td>명성황후</td>\n",
       "      <td>뮤지컬</td>\n",
       "      <td>[]</td>\n",
       "      <td>8</td>\n",
       "      <td>0</td>\n",
       "      <td>0</td>\n",
       "      <td>[]</td>\n",
       "    </tr>\n",
       "    <tr>\n",
       "      <th>2183</th>\n",
       "      <td>-</td>\n",
       "      <td>★★★</td>\n",
       "      <td>says***</td>\n",
       "      <td>2021-02-08</td>\n",
       "      <td>0</td>\n",
       "      <td>3</td>\n",
       "      <td>예술의전당 오페라극장</td>\n",
       "      <td>2021.01.19 ~2021.03.07</td>\n",
       "      <td>김소현,신영숙,강필석,손준호,박민성,윤형렬,이창섭,이정열,서범석,김도형,최민철,임선...</td>\n",
       "      <td>명성황후</td>\n",
       "      <td>뮤지컬</td>\n",
       "      <td>[]</td>\n",
       "      <td>5</td>\n",
       "      <td>0</td>\n",
       "      <td>0</td>\n",
       "      <td>[]</td>\n",
       "    </tr>\n",
       "    <tr>\n",
       "      <th>4354</th>\n",
       "      <td>One Short Day</td>\n",
       "      <td>In the Emerald City ♥</td>\n",
       "      <td>ldyoun***</td>\n",
       "      <td>2021-06-10</td>\n",
       "      <td>0</td>\n",
       "      <td>5</td>\n",
       "      <td>부산 드림씨어터</td>\n",
       "      <td>2021.05.20 ~2021.06.27</td>\n",
       "      <td>옥주현,손승연,정선아,나하나,서경수,진태화,남경주,이상준,이소유,김지선,이우승,전민...</td>\n",
       "      <td>위키드</td>\n",
       "      <td>뮤지컬</td>\n",
       "      <td>[]</td>\n",
       "      <td>35</td>\n",
       "      <td>0</td>\n",
       "      <td>0</td>\n",
       "      <td>[]</td>\n",
       "    </tr>\n",
       "    <tr>\n",
       "      <th>...</th>\n",
       "      <td>...</td>\n",
       "      <td>...</td>\n",
       "      <td>...</td>\n",
       "      <td>...</td>\n",
       "      <td>...</td>\n",
       "      <td>...</td>\n",
       "      <td>...</td>\n",
       "      <td>...</td>\n",
       "      <td>...</td>\n",
       "      <td>...</td>\n",
       "      <td>...</td>\n",
       "      <td>...</td>\n",
       "      <td>...</td>\n",
       "      <td>...</td>\n",
       "      <td>...</td>\n",
       "      <td>...</td>\n",
       "    </tr>\n",
       "    <tr>\n",
       "      <th>151972</th>\n",
       "      <td>ㅇㅇㅇㅇㅇㅇㅇㅇ</td>\n",
       "      <td>ㅇㅇㅇㅇㅇㅇㅇ</td>\n",
       "      <td>hys***</td>\n",
       "      <td>2020-10-12</td>\n",
       "      <td>0</td>\n",
       "      <td>5</td>\n",
       "      <td>드림아트센터 2관</td>\n",
       "      <td>2020.10.04 ~2021.01.24</td>\n",
       "      <td>고훈정,양지원,이승현,김이후,홍미금,서동진,정선기</td>\n",
       "      <td>아킬레스</td>\n",
       "      <td>뮤지컬</td>\n",
       "      <td>[]</td>\n",
       "      <td>16</td>\n",
       "      <td>1</td>\n",
       "      <td>0</td>\n",
       "      <td>[]</td>\n",
       "    </tr>\n",
       "    <tr>\n",
       "      <th>152387</th>\n",
       "      <td>bbbb</td>\n",
       "      <td>bbbbb</td>\n",
       "      <td>gkgmlwn1***</td>\n",
       "      <td>2021-03-08</td>\n",
       "      <td>0</td>\n",
       "      <td>5</td>\n",
       "      <td>충무아트센터 대극장</td>\n",
       "      <td>2021.03.24 ~2021.05.16</td>\n",
       "      <td>류정한,조승우,윤공주,김지현,최수진,이훈진,정원영,서영주,김대종</td>\n",
       "      <td>맨오브라만차</td>\n",
       "      <td>뮤지컬</td>\n",
       "      <td>[]</td>\n",
       "      <td>10</td>\n",
       "      <td>0</td>\n",
       "      <td>0</td>\n",
       "      <td>[]</td>\n",
       "    </tr>\n",
       "    <tr>\n",
       "      <th>152503</th>\n",
       "      <td>sdfsdf</td>\n",
       "      <td>asfdsadf</td>\n",
       "      <td>ec***</td>\n",
       "      <td>2021-03-02</td>\n",
       "      <td>0</td>\n",
       "      <td>5</td>\n",
       "      <td>충무아트센터 대극장</td>\n",
       "      <td>2021.03.24 ~2021.05.16</td>\n",
       "      <td>류정한,조승우,윤공주,김지현,최수진,이훈진,정원영,서영주,김대종</td>\n",
       "      <td>맨오브라만차</td>\n",
       "      <td>뮤지컬</td>\n",
       "      <td>[]</td>\n",
       "      <td>15</td>\n",
       "      <td>1</td>\n",
       "      <td>0</td>\n",
       "      <td>[]</td>\n",
       "    </tr>\n",
       "    <tr>\n",
       "      <th>153458</th>\n",
       "      <td>good</td>\n",
       "      <td>good very good</td>\n",
       "      <td>hh***</td>\n",
       "      <td>2021-02-15</td>\n",
       "      <td>0</td>\n",
       "      <td>5</td>\n",
       "      <td>충무아트센터 대극장</td>\n",
       "      <td>2021.03.24 ~2021.05.16</td>\n",
       "      <td>류정한,조승우,윤공주,김지현,최수진,이훈진,정원영,서영주,김대종</td>\n",
       "      <td>맨오브라만차</td>\n",
       "      <td>뮤지컬</td>\n",
       "      <td>[]</td>\n",
       "      <td>19</td>\n",
       "      <td>0</td>\n",
       "      <td>0</td>\n",
       "      <td>[]</td>\n",
       "    </tr>\n",
       "    <tr>\n",
       "      <th>153549</th>\n",
       "      <td>sdfsdf</td>\n",
       "      <td>sfdsfsdfdfgs</td>\n",
       "      <td>ec***</td>\n",
       "      <td>2021-02-12</td>\n",
       "      <td>0</td>\n",
       "      <td>5</td>\n",
       "      <td>충무아트센터 대극장</td>\n",
       "      <td>2021.03.24 ~2021.05.16</td>\n",
       "      <td>류정한,조승우,윤공주,김지현,최수진,이훈진,정원영,서영주,김대종</td>\n",
       "      <td>맨오브라만차</td>\n",
       "      <td>뮤지컬</td>\n",
       "      <td>[]</td>\n",
       "      <td>19</td>\n",
       "      <td>1</td>\n",
       "      <td>0</td>\n",
       "      <td>[]</td>\n",
       "    </tr>\n",
       "  </tbody>\n",
       "</table>\n",
       "<p>710 rows × 16 columns</p>\n",
       "</div>"
      ],
      "text/plain": [
       "                title                   text           id        date  like  \\\n",
       "564                 .                    ...   wlsdud3***  2021-10-13     0   \n",
       "1007       ddddfddffd        ffjkyrvdscvniyf      lhw8***  2021-09-27     0   \n",
       "1649              ...                   ....      jem1***  2021-03-08     0   \n",
       "2183                -                    ★★★      says***  2021-02-08     0   \n",
       "4354    One Short Day  In the Emerald City ♥    ldyoun***  2021-06-10     0   \n",
       "...               ...                    ...          ...         ...   ...   \n",
       "151972       ㅇㅇㅇㅇㅇㅇㅇㅇ                ㅇㅇㅇㅇㅇㅇㅇ       hys***  2020-10-12     0   \n",
       "152387           bbbb                  bbbbb  gkgmlwn1***  2021-03-08     0   \n",
       "152503         sdfsdf               asfdsadf        ec***  2021-03-02     0   \n",
       "153458           good         good very good        hh***  2021-02-15     0   \n",
       "153549         sdfsdf           sfdsfsdfdfgs        ec***  2021-02-12     0   \n",
       "\n",
       "        rate        place                  season  \\\n",
       "564        5       LG아트센터  2021.09.07 ~2022.02.27   \n",
       "1007       5       LG아트센터  2021.09.07 ~2022.02.27   \n",
       "1649       4  예술의전당 오페라극장  2021.01.19 ~2021.03.07   \n",
       "2183       3  예술의전당 오페라극장  2021.01.19 ~2021.03.07   \n",
       "4354       5     부산 드림씨어터  2021.05.20 ~2021.06.27   \n",
       "...      ...          ...                     ...   \n",
       "151972     5    드림아트센터 2관  2020.10.04 ~2021.01.24   \n",
       "152387     5   충무아트센터 대극장  2021.03.24 ~2021.05.16   \n",
       "152503     5   충무아트센터 대극장  2021.03.24 ~2021.05.16   \n",
       "153458     5   충무아트센터 대극장  2021.03.24 ~2021.05.16   \n",
       "153549     5   충무아트센터 대극장  2021.03.24 ~2021.05.16   \n",
       "\n",
       "                                                     cast    show genre body  \\\n",
       "564     조형균,박강현,시우민,최재림,강홍석,김선영,박혜나,김환희,김수하,지현준,양준모,김우...   하데스타운   뮤지컬   []   \n",
       "1007    조형균,박강현,시우민,최재림,강홍석,김선영,박혜나,김환희,김수하,지현준,양준모,김우...   하데스타운   뮤지컬   []   \n",
       "1649    김소현,신영숙,강필석,손준호,박민성,윤형렬,이창섭,이정열,서범석,김도형,최민철,임선...    명성황후   뮤지컬   []   \n",
       "2183    김소현,신영숙,강필석,손준호,박민성,윤형렬,이창섭,이정열,서범석,김도형,최민철,임선...    명성황후   뮤지컬   []   \n",
       "4354    옥주현,손승연,정선아,나하나,서경수,진태화,남경주,이상준,이소유,김지선,이우승,전민...     위키드   뮤지컬   []   \n",
       "...                                                   ...     ...   ...  ...   \n",
       "151972                        고훈정,양지원,이승현,김이후,홍미금,서동진,정선기    아킬레스   뮤지컬   []   \n",
       "152387                류정한,조승우,윤공주,김지현,최수진,이훈진,정원영,서영주,김대종  맨오브라만차   뮤지컬   []   \n",
       "152503                류정한,조승우,윤공주,김지현,최수진,이훈진,정원영,서영주,김대종  맨오브라만차   뮤지컬   []   \n",
       "153458                류정한,조승우,윤공주,김지현,최수진,이훈진,정원영,서영주,김대종  맨오브라만차   뮤지컬   []   \n",
       "153549                류정한,조승우,윤공주,김지현,최수진,이훈진,정원영,서영주,김대종  맨오브라만차   뮤지컬   []   \n",
       "\n",
       "        leng  rig  live subLive  \n",
       "564        5    0     0      []  \n",
       "1007      26    0     0      []  \n",
       "1649       8    0     0      []  \n",
       "2183       5    0     0      []  \n",
       "4354      35    0     0      []  \n",
       "...      ...  ...   ...     ...  \n",
       "151972    16    1     0      []  \n",
       "152387    10    0     0      []  \n",
       "152503    15    1     0      []  \n",
       "153458    19    0     0      []  \n",
       "153549    19    1     0      []  \n",
       "\n",
       "[710 rows x 16 columns]"
      ]
     },
     "execution_count": 541,
     "metadata": {},
     "output_type": "execute_result"
    }
   ],
   "source": [
    "df[df['body']=='[]']"
   ]
  },
  {
   "cell_type": "code",
   "execution_count": 544,
   "metadata": {
    "ExecuteTime": {
     "end_time": "2021-12-19T19:33:34.282531Z",
     "start_time": "2021-12-19T19:33:32.247418Z"
    }
   },
   "outputs": [],
   "source": [
    "#파일 저장\n",
    "df.to_csv('./review_total_all.5.0.6.csv', index=None)"
   ]
  }
 ],
 "metadata": {
  "kernelspec": {
   "display_name": "Python 3",
   "language": "python",
   "name": "python3"
  },
  "language_info": {
   "codemirror_mode": {
    "name": "ipython",
    "version": 3
   },
   "file_extension": ".py",
   "mimetype": "text/x-python",
   "name": "python",
   "nbconvert_exporter": "python",
   "pygments_lexer": "ipython3",
   "version": "3.8.3"
  },
  "varInspector": {
   "cols": {
    "lenName": 16,
    "lenType": 16,
    "lenVar": 40
   },
   "kernels_config": {
    "python": {
     "delete_cmd_postfix": "",
     "delete_cmd_prefix": "del ",
     "library": "var_list.py",
     "varRefreshCmd": "print(var_dic_list())"
    },
    "r": {
     "delete_cmd_postfix": ") ",
     "delete_cmd_prefix": "rm(",
     "library": "var_list.r",
     "varRefreshCmd": "cat(var_dic_list()) "
    }
   },
   "types_to_exclude": [
    "module",
    "function",
    "builtin_function_or_method",
    "instance",
    "_Feature"
   ],
   "window_display": false
  }
 },
 "nbformat": 4,
 "nbformat_minor": 4
}
