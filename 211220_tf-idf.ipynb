{
 "cells": [
  {
   "cell_type": "code",
   "execution_count": 1,
   "metadata": {
    "ExecuteTime": {
     "end_time": "2021-12-20T04:58:59.936594Z",
     "start_time": "2021-12-20T04:58:58.675473Z"
    }
   },
   "outputs": [],
   "source": [
    "import pandas as pd\n",
    "import re\n",
    "import numpy as np"
   ]
  },
  {
   "cell_type": "code",
   "execution_count": 2,
   "metadata": {
    "ExecuteTime": {
     "end_time": "2021-12-20T04:59:23.306684Z",
     "start_time": "2021-12-20T04:59:21.768830Z"
    }
   },
   "outputs": [],
   "source": [
    "df = pd.read_csv('./review_total_all.5.0.7.csv')"
   ]
  },
  {
   "cell_type": "code",
   "execution_count": 3,
   "metadata": {
    "ExecuteTime": {
     "end_time": "2021-12-20T04:59:25.919085Z",
     "start_time": "2021-12-20T04:59:25.823462Z"
    }
   },
   "outputs": [
    {
     "name": "stdout",
     "output_type": "stream",
     "text": [
      "<class 'pandas.core.frame.DataFrame'>\n",
      "RangeIndex: 154097 entries, 0 to 154096\n",
      "Data columns (total 16 columns):\n",
      " #   Column   Non-Null Count   Dtype \n",
      "---  ------   --------------   ----- \n",
      " 0   title    154097 non-null  object\n",
      " 1   text     154097 non-null  object\n",
      " 2   id       154097 non-null  object\n",
      " 3   date     154097 non-null  object\n",
      " 4   like     154097 non-null  int64 \n",
      " 5   rate     154097 non-null  int64 \n",
      " 6   place    154097 non-null  object\n",
      " 7   season   154097 non-null  object\n",
      " 8   cast     154097 non-null  object\n",
      " 9   show     154097 non-null  object\n",
      " 10  genre    154097 non-null  object\n",
      " 11  body     154097 non-null  object\n",
      " 12  leng     154097 non-null  int64 \n",
      " 13  rig      154097 non-null  int64 \n",
      " 14  live     154097 non-null  int64 \n",
      " 15  subLive  154097 non-null  object\n",
      "dtypes: int64(5), object(11)\n",
      "memory usage: 18.8+ MB\n"
     ]
    }
   ],
   "source": [
    "df.info()"
   ]
  },
  {
   "cell_type": "code",
   "execution_count": 4,
   "metadata": {
    "ExecuteTime": {
     "end_time": "2021-12-20T05:33:12.869604Z",
     "start_time": "2021-12-20T05:32:53.953557Z"
    }
   },
   "outputs": [],
   "source": [
    "T = df[df['rig'] == 1].subLive.unique()  #조작 후기\n",
    "F = df[df['rig'] == 0].subLive.unique()  #비조작 후기\n",
    "T_sub_F = [x for x in T if x not in F]  #조작 후기에서 비조작 후기와 같은 내용을 제외"
   ]
  },
  {
   "cell_type": "code",
   "execution_count": 5,
   "metadata": {
    "ExecuteTime": {
     "end_time": "2021-12-20T05:33:28.566833Z",
     "start_time": "2021-12-20T05:33:28.548881Z"
    }
   },
   "outputs": [
    {
     "name": "stdout",
     "output_type": "stream",
     "text": [
      "6039 115198 5382\n"
     ]
    }
   ],
   "source": [
    "print(len(T), len(F), len(T_sub_F))"
   ]
  },
  {
   "cell_type": "code",
   "execution_count": 15,
   "metadata": {
    "ExecuteTime": {
     "end_time": "2021-12-20T05:46:21.782174Z",
     "start_time": "2021-12-20T05:46:21.302455Z"
    }
   },
   "outputs": [
    {
     "data": {
      "text/plain": [
       "array([[0., 0., 0., ..., 0., 0., 0.],\n",
       "       [0., 0., 0., ..., 0., 0., 0.],\n",
       "       [0., 0., 0., ..., 0., 0., 0.],\n",
       "       ...,\n",
       "       [0., 0., 0., ..., 0., 0., 0.],\n",
       "       [0., 0., 0., ..., 0., 0., 0.],\n",
       "       [0., 0., 0., ..., 0., 0., 0.]])"
      ]
     },
     "execution_count": 15,
     "metadata": {},
     "output_type": "execute_result"
    }
   ],
   "source": [
    "from sklearn.feature_extraction.text import TfidfVectorizer \n",
    "\n",
    "text = T_sub_F\n",
    "tfidf_vectorizer = TfidfVectorizer() # TF-IDF 객체선언\n",
    "tfidf_vectorizer.fit(text) # 단어를 학습시킴 \n",
    "#tfidf_vectorizer.vocabulary_ # 단어사전을 출력 \n",
    "sorted(tfidf_vectorizer.vocabulary_.items()) # 단어사전 정렬\n",
    "tfidf_matrix = tfidf_vectorizer.transform(text).toarray() #결과 행렬 출력\n",
    "tfidf_matrix\n",
    "\n",
    "#출처: https://chan-lab.tistory.com/24 [은공지능 공작소]"
   ]
  },
  {
   "cell_type": "code",
   "execution_count": 17,
   "metadata": {
    "ExecuteTime": {
     "end_time": "2021-12-20T06:06:16.460151Z",
     "start_time": "2021-12-20T06:06:16.447184Z"
    }
   },
   "outputs": [
    {
     "data": {
      "text/plain": [
       "(5382, 31011)"
      ]
     },
     "execution_count": 17,
     "metadata": {},
     "output_type": "execute_result"
    }
   ],
   "source": [
    "tfidf_matrix.shape"
   ]
  },
  {
   "cell_type": "code",
   "execution_count": 16,
   "metadata": {
    "ExecuteTime": {
     "end_time": "2021-12-20T06:06:16.301572Z",
     "start_time": "2021-12-20T05:46:25.294205Z"
    }
   },
   "outputs": [
    {
     "data": {
      "text/plain": [
       "(5382, 5382)"
      ]
     },
     "execution_count": 16,
     "metadata": {},
     "output_type": "execute_result"
    }
   ],
   "source": [
    "from sklearn.metrics.pairwise import cosine_similarity\n",
    "\n",
    "cosine_matrix = cosine_similarity(tfidf_matrix, tfidf_matrix)\n",
    "cosine_matrix.shape"
   ]
  },
  {
   "cell_type": "markdown",
   "metadata": {},
   "source": [
    "### 조작 후기에서 비조작 후기를 제외한 결과 중 상위 3개에 대하여 높은 코사인 유사도를 갖는 상위 10개의 조작 후기 추출"
   ]
  },
  {
   "cell_type": "markdown",
   "metadata": {},
   "source": [
    "#### 자주 등장한 조작 후기"
   ]
  },
  {
   "cell_type": "code",
   "execution_count": 26,
   "metadata": {
    "ExecuteTime": {
     "end_time": "2021-12-20T06:27:01.835733Z",
     "start_time": "2021-12-20T06:26:43.114676Z"
    }
   },
   "outputs": [],
   "source": [
    "most = df[df['rig']==1]['subLive'].value_counts().index.to_list()\n",
    "most_sub_F = [x for x in most if x not in F]"
   ]
  },
  {
   "cell_type": "code",
   "execution_count": 27,
   "metadata": {
    "ExecuteTime": {
     "end_time": "2021-12-20T06:27:01.974115Z",
     "start_time": "2021-12-20T06:27:01.960961Z"
    }
   },
   "outputs": [
    {
     "data": {
      "text/plain": [
       "['시카고 관람 후기 유튜브로만 보던 시카고 공연을 실제로 보아서 눈물이 날 뻔했어요 진짜 13만 원이 아쉽지 않은 공연이었어요 모든 배우분들과 연주하시는 분들 모든 분들이 공연에 최선을 다한다는 것이 보여서 저 역시 박수를 아끼지 않고 봤던 것 같습니다 만약 이 공연을 볼까 말까 고민하신다면 꼭 보는 걸 추천합니다 그리고 미리 시카고 영화를 보고 이 공연을 보시는 걸 추천드립니다 다음에 또 이 공연을 볼 수 있는 기회가 있다면 이번에는 다른 배우님들의 시카고 공연을 보고 싶습니다 앞에서 자고 계신 분들과 재미가 없다는 분들이 계시더군요 저는 정말 이해가 되지 않았습니다 저는 팬카페라도 가입을 해야 하나 하며 정말 5일이 지났지만 여운이 가시지 않는데 어떻게 재미없고 자는 분들이 계신 건지 정말 진심으로 이해가 네버 가지 않네요',\n",
       " '정말 후회 없는 관극 김준수 배우님 정말 캐릭터 몰입도가 장난 아니었습니다 노래 연기도 수준급이지만 다른 배우들의 다른 작품도 여럿 봤지만 캐릭터 표현 하나만 따지면 정말 비교할 수 있는 배우가 없다고 생각이 드네요 다음에 다른 드라큘라 배역 캐스팅으로 비교 한번 해보고 싶네요',\n",
       " '직접 가서 꼭 보고 싶어요 두 배우 조합의 케미가 미쳤어요 집에서도 재밌게 관람할 수 있었지만 직접 가서 봤으면 더 좋았을 텐데 다른 배우님들 케미도 너무 궁금해요',\n",
       " '뮤지컬 드라큘라 뮤지컬 드라큘라 오랜만에 봤는데 이번 뮤지컬 드라큘라 역시 최고의 무대였던 것 같아요 준수오빠의샤큘모습도오랜만에봐서 너무 좋았어요 모든 배우분들 역시 최고의 무대였던 것 같아요',\n",
       " '믿고 보는 믿고 보는 최재림 배우 역시 최고 첨부터 끝까지 지루할 틈이 없음',\n",
       " '처음은 음 재밌네 오열하긴 함 이상하게 자기 전 계속 생각남 조쉬가 찡해짐 유튜브 찾아봄 다른 페어의 영상을 본 후 흔들리기 시작 한 번 더 볼까 어느새 또 예매하는 나를 발견',\n",
       " '말해 뭐 해 말해 뭐 해 너무 완벽한 공연이었어요 드라큘라의 애절함과 감정들을 잘 느낄 수 있었어요 이미 두 번 본 상태이지만 또 보러 갈 거 같아요 자꾸 생각나거든요 정말 사랑해요 김준수 너무 완벽한 사람이야',\n",
       " '서사를 빈틈없이 채우는 연기 여러 번 관람하지만 특히 눈을 못 떼고 봤네요 아름답고 완성도 있는 극을 봐서 너무 뜻깊은 시간을 보냈습니다',\n",
       " '뮤지컬 드라큘라 정말 최고였어요 뮤지컬 드라큘라 오랜만에 봤는데 이번 뮤지컬 드라큘라 역시 최고의 무대였던 것 같아요 준수오빠의샤큘모습도오랜만에봐서 너무 좋았어요 모든 배우분들 역시 최고의 무대였던 것 같아요',\n",
       " '아름답고 슬픈 극 추천합니다  기대 이상으로 몰입감 있고 슬픈 멜로 한편 본 거 같아요 넘버도 좋고 이정화 배우님 꾀꼬리 너무 황홀해요 의상과 무대도 너무 이뻐요']"
      ]
     },
     "execution_count": 27,
     "metadata": {},
     "output_type": "execute_result"
    }
   ],
   "source": [
    "most_sub_F[0:10]"
   ]
  },
  {
   "cell_type": "code",
   "execution_count": 39,
   "metadata": {
    "ExecuteTime": {
     "end_time": "2021-12-20T06:43:37.369397Z",
     "start_time": "2021-12-20T06:43:37.355436Z"
    }
   },
   "outputs": [],
   "source": [
    "#딕셔너리 생성\n",
    "textIdx = {}\n",
    "for i, c in enumerate(most): \n",
    "    textIdx[i] = c\n",
    "    \n",
    "idxText = {}\n",
    "for i, c in textIdx.items(): \n",
    "    idxText[c] = i"
   ]
  },
  {
   "cell_type": "markdown",
   "metadata": {},
   "source": [
    "#### 첫 번째 후기에 대하여 높은 코사인 유사도를 갖는 상위 10개의 조작 후기"
   ]
  },
  {
   "cell_type": "code",
   "execution_count": 49,
   "metadata": {
    "ExecuteTime": {
     "end_time": "2021-12-20T06:51:04.407309Z",
     "start_time": "2021-12-20T06:51:04.394344Z"
    }
   },
   "outputs": [
    {
     "data": {
      "text/html": [
       "<div>\n",
       "<style scoped>\n",
       "    .dataframe tbody tr th:only-of-type {\n",
       "        vertical-align: middle;\n",
       "    }\n",
       "\n",
       "    .dataframe tbody tr th {\n",
       "        vertical-align: top;\n",
       "    }\n",
       "\n",
       "    .dataframe thead th {\n",
       "        text-align: right;\n",
       "    }\n",
       "</style>\n",
       "<table border=\"1\" class=\"dataframe\">\n",
       "  <thead>\n",
       "    <tr style=\"text-align: right;\">\n",
       "      <th></th>\n",
       "      <th>0</th>\n",
       "      <th>1</th>\n",
       "    </tr>\n",
       "  </thead>\n",
       "  <tbody>\n",
       "    <tr>\n",
       "      <th>0</th>\n",
       "      <td>추천합니다 추천합니다</td>\n",
       "      <td>0.245970</td>\n",
       "    </tr>\n",
       "    <tr>\n",
       "      <th>1</th>\n",
       "      <td>뮤지컬 드라큘라 뮤지컬 드라큘라 오랜만에 봤는데 이번 뮤지컬 드라큘라 역시 최고의 무대였던 것 같아요 준수오빠의샤큘모습도오랜만에봐서 너무 좋았어요 모든 배우분들 역시 최고의 무대였던 것 같아요</td>\n",
       "      <td>0.227764</td>\n",
       "    </tr>\n",
       "    <tr>\n",
       "      <th>2</th>\n",
       "      <td>재밌어요 강추합니다</td>\n",
       "      <td>0.223281</td>\n",
       "    </tr>\n",
       "    <tr>\n",
       "      <th>3</th>\n",
       "      <td>재밌어요 재밌어요</td>\n",
       "      <td>0.221307</td>\n",
       "    </tr>\n",
       "    <tr>\n",
       "      <th>4</th>\n",
       "      <td>감동입니다 어려운 시국에 공연 올려주셔서 감사해요 덕분에 잠시나마 공연 보면서 위로를 얻고 갑니다</td>\n",
       "      <td>0.218835</td>\n",
       "    </tr>\n",
       "    <tr>\n",
       "      <th>5</th>\n",
       "      <td>정말 후회 없는 관극 김준수 배우님 정말 캐릭터 몰입도가 장난 아니었습니다 노래 연기도 수준급이지만 다른 배우들의 다른 작품도 여럿 봤지만 캐릭터 표현 하나만 따지면 정말 비교할 수 있는 배우가 없다고 생각이 드네요 다음에 다른 드라큘라 배역 캐스팅으로 비교 한번 해보고 싶네요</td>\n",
       "      <td>0.192340</td>\n",
       "    </tr>\n",
       "    <tr>\n",
       "      <th>6</th>\n",
       "      <td>정말 재밌었어요 맨 앞이라 더 존잼 정말 재밌었어요 맨 앞이라 더 존잼</td>\n",
       "      <td>0.189459</td>\n",
       "    </tr>\n",
       "    <tr>\n",
       "      <th>7</th>\n",
       "      <td>위키드 가지 마 못 보내겠어요 너무 사랑하는 이야기가 되어버려서 나 하나 글린다와 옥주현엘파바 둘 다 더블 배우들보다 좀 더 성숙한 캐릭터처럼 느껴져서 밸런스가 잘 맞네요</td>\n",
       "      <td>0.179732</td>\n",
       "    </tr>\n",
       "    <tr>\n",
       "      <th>8</th>\n",
       "      <td>좋았어요 넘버도 좋고 다 좋았어요</td>\n",
       "      <td>0.167809</td>\n",
       "    </tr>\n",
       "    <tr>\n",
       "      <th>9</th>\n",
       "      <td>추천 추천합니다</td>\n",
       "      <td>0.149316</td>\n",
       "    </tr>\n",
       "  </tbody>\n",
       "</table>\n",
       "</div>"
      ],
      "text/plain": [
       "                                                                                                                                                             0  \\\n",
       "0                                                                                                                                                  추천합니다 추천합니다   \n",
       "1                                                  뮤지컬 드라큘라 뮤지컬 드라큘라 오랜만에 봤는데 이번 뮤지컬 드라큘라 역시 최고의 무대였던 것 같아요 준수오빠의샤큘모습도오랜만에봐서 너무 좋았어요 모든 배우분들 역시 최고의 무대였던 것 같아요   \n",
       "2                                                                                                                                                   재밌어요 강추합니다   \n",
       "3                                                                                                                                                    재밌어요 재밌어요   \n",
       "4                                                                                                       감동입니다 어려운 시국에 공연 올려주셔서 감사해요 덕분에 잠시나마 공연 보면서 위로를 얻고 갑니다   \n",
       "5  정말 후회 없는 관극 김준수 배우님 정말 캐릭터 몰입도가 장난 아니었습니다 노래 연기도 수준급이지만 다른 배우들의 다른 작품도 여럿 봤지만 캐릭터 표현 하나만 따지면 정말 비교할 수 있는 배우가 없다고 생각이 드네요 다음에 다른 드라큘라 배역 캐스팅으로 비교 한번 해보고 싶네요   \n",
       "6                                                                                                                      정말 재밌었어요 맨 앞이라 더 존잼 정말 재밌었어요 맨 앞이라 더 존잼   \n",
       "7                                                              위키드 가지 마 못 보내겠어요 너무 사랑하는 이야기가 되어버려서 나 하나 글린다와 옥주현엘파바 둘 다 더블 배우들보다 좀 더 성숙한 캐릭터처럼 느껴져서 밸런스가 잘 맞네요   \n",
       "8                                                                                                                                           좋았어요 넘버도 좋고 다 좋았어요   \n",
       "9                                                                                                                                                     추천 추천합니다   \n",
       "\n",
       "          1  \n",
       "0  0.245970  \n",
       "1  0.227764  \n",
       "2  0.223281  \n",
       "3  0.221307  \n",
       "4  0.218835  \n",
       "5  0.192340  \n",
       "6  0.189459  \n",
       "7  0.179732  \n",
       "8  0.167809  \n",
       "9  0.149316  "
      ]
     },
     "execution_count": 49,
     "metadata": {},
     "output_type": "execute_result"
    }
   ],
   "source": [
    "#pd.set_option('display.max_colwidth', None)\n",
    "\n",
    "idx = idxText['시카고 관람 후기 유튜브로만 보던 시카고 공연을 실제로 보아서 눈물이 날 뻔했어요 진짜 13만 원이 아쉽지 않은 공연이었어요 모든 배우분들과 연주하시는 분들 모든 분들이 공연에 최선을 다한다는 것이 보여서 저 역시 박수를 아끼지 않고 봤던 것 같습니다 만약 이 공연을 볼까 말까 고민하신다면 꼭 보는 걸 추천합니다 그리고 미리 시카고 영화를 보고 이 공연을 보시는 걸 추천드립니다 다음에 또 이 공연을 볼 수 있는 기회가 있다면 이번에는 다른 배우님들의 시카고 공연을 보고 싶습니다 앞에서 자고 계신 분들과 재미가 없다는 분들이 계시더군요 저는 정말 이해가 되지 않았습니다 저는 팬카페라도 가입을 해야 하나 하며 정말 5일이 지났지만 여운이 가시지 않는데 어떻게 재미없고 자는 분들이 계신 건지 정말 진심으로 이해가 네버 가지 않네요']\n",
    "sim_scores = [(i, c) for i, c in enumerate(cosine_matrix[idx]) if i != idx] # 자기 자신을 제외한 영화들의 유사도 및 인덱스를 추출 \n",
    "sim_scores = sorted(sim_scores, key = lambda x: x[1], reverse=True) # 유사도가 높은 순서대로 정렬\n",
    "sim_scores = [(textIdx[i], score) for i, score in sim_scores[0:10]]\n",
    "pd.DataFrame(sim_scores)"
   ]
  },
  {
   "cell_type": "markdown",
   "metadata": {},
   "source": [
    "#### 두 번째 후기에 대하여 높은 코사인 유사도를 갖는 상위 10개의 조작 후기"
   ]
  },
  {
   "cell_type": "code",
   "execution_count": 50,
   "metadata": {
    "ExecuteTime": {
     "end_time": "2021-12-20T07:32:47.486720Z",
     "start_time": "2021-12-20T07:32:46.890438Z"
    }
   },
   "outputs": [
    {
     "data": {
      "text/html": [
       "<div>\n",
       "<style scoped>\n",
       "    .dataframe tbody tr th:only-of-type {\n",
       "        vertical-align: middle;\n",
       "    }\n",
       "\n",
       "    .dataframe tbody tr th {\n",
       "        vertical-align: top;\n",
       "    }\n",
       "\n",
       "    .dataframe thead th {\n",
       "        text-align: right;\n",
       "    }\n",
       "</style>\n",
       "<table border=\"1\" class=\"dataframe\">\n",
       "  <thead>\n",
       "    <tr style=\"text-align: right;\">\n",
       "      <th></th>\n",
       "      <th>0</th>\n",
       "      <th>1</th>\n",
       "    </tr>\n",
       "  </thead>\n",
       "  <tbody>\n",
       "    <tr>\n",
       "      <th>0</th>\n",
       "      <td>추천합니다 추천합니다</td>\n",
       "      <td>0.692725</td>\n",
       "    </tr>\n",
       "    <tr>\n",
       "      <th>1</th>\n",
       "      <td>뮤지컬 드라큘라 뮤지컬 드라큘라 오랜만에 봤는데 이번 뮤지컬 드라큘라 역시 최고의 무대였던 것 같아요 준수오빠의샤큘모습도오랜만에봐서 너무 좋았어요 모든 배우분들 역시 최고의 무대였던 것 같아요</td>\n",
       "      <td>0.555994</td>\n",
       "    </tr>\n",
       "    <tr>\n",
       "      <th>2</th>\n",
       "      <td>재밌어요 강추합니다</td>\n",
       "      <td>0.545050</td>\n",
       "    </tr>\n",
       "    <tr>\n",
       "      <th>3</th>\n",
       "      <td>재밌어요 재밌어요</td>\n",
       "      <td>0.540232</td>\n",
       "    </tr>\n",
       "    <tr>\n",
       "      <th>4</th>\n",
       "      <td>추천 추천합니다</td>\n",
       "      <td>0.294845</td>\n",
       "    </tr>\n",
       "    <tr>\n",
       "      <th>5</th>\n",
       "      <td>석자 전 붉다 이 궁궐은 참으로 붉다</td>\n",
       "      <td>0.262254</td>\n",
       "    </tr>\n",
       "    <tr>\n",
       "      <th>6</th>\n",
       "      <td>재밌다</td>\n",
       "      <td>0.208541</td>\n",
       "    </tr>\n",
       "    <tr>\n",
       "      <th>7</th>\n",
       "      <td>강렬한 무대 커튼콜까지 완벽히 통제된 듯한 느낌을 주는 연출 너무 멋있었어요 다시 보고 싶은 공연</td>\n",
       "      <td>0.193428</td>\n",
       "    </tr>\n",
       "    <tr>\n",
       "      <th>8</th>\n",
       "      <td>시카고 관람 후기 유튜브로만 보던 시카고 공연을 실제로 보아서 눈물이 날 뻔했어요 진짜 13만 원이 아쉽지 않은 공연이었어요 모든 배우분들과 연주하시는 분들 모든 분들이 공연에 최선을 다한다는 것이 보여서 저 역시 박수를 아끼지 않고 봤던 것 같습니다 만약 이 공연을 볼까 말까 고민하신다면 꼭 보는 걸 추천합니다 그리고 미리 시카고 영화를 보고 이 공연을 보시는 걸 추천드립니다 다음에 또 이 공연을 볼 수 있는 기회가 있다면 이번에는 다른 배우님들의 시카고 공연을 보고 싶습니다 앞에서 자고 계신 분들과 재미가 없다는 분들이 계시더군요 저는 정말 이해가 되지 않았습니다 저는 팬카페라도 가입을 해야 하나 하며 정말 5일이 지났지만 여운이 가시지 않는데 어떻게 재미없고 자는 분들이 계신 건지 정말 진심으로 이해가 네버 가지 않네요</td>\n",
       "      <td>0.192340</td>\n",
       "    </tr>\n",
       "    <tr>\n",
       "      <th>9</th>\n",
       "      <td>블루레인 언제나 블루 블루레인 넘버가 기억에 남습니다 배우들 열연 최고</td>\n",
       "      <td>0.177979</td>\n",
       "    </tr>\n",
       "  </tbody>\n",
       "</table>\n",
       "</div>"
      ],
      "text/plain": [
       "                                                                                                                                                                                                                                                                                                                                                                                                                            0  \\\n",
       "0                                                                                                                                                                                                                                                                                                                                                                                                                 추천합니다 추천합니다   \n",
       "1                                                                                                                                                                                                                                                                                                                 뮤지컬 드라큘라 뮤지컬 드라큘라 오랜만에 봤는데 이번 뮤지컬 드라큘라 역시 최고의 무대였던 것 같아요 준수오빠의샤큘모습도오랜만에봐서 너무 좋았어요 모든 배우분들 역시 최고의 무대였던 것 같아요   \n",
       "2                                                                                                                                                                                                                                                                                                                                                                                                                  재밌어요 강추합니다   \n",
       "3                                                                                                                                                                                                                                                                                                                                                                                                                   재밌어요 재밌어요   \n",
       "4                                                                                                                                                                                                                                                                                                                                                                                                                    추천 추천합니다   \n",
       "5                                                                                                                                                                                                                                                                                                                                                                                                        석자 전 붉다 이 궁궐은 참으로 붉다   \n",
       "6                                                                                                                                                                                                                                                                                                                                                                                                                         재밌다   \n",
       "7                                                                                                                                                                                                                                                                                                                                                                      강렬한 무대 커튼콜까지 완벽히 통제된 듯한 느낌을 주는 연출 너무 멋있었어요 다시 보고 싶은 공연   \n",
       "8  시카고 관람 후기 유튜브로만 보던 시카고 공연을 실제로 보아서 눈물이 날 뻔했어요 진짜 13만 원이 아쉽지 않은 공연이었어요 모든 배우분들과 연주하시는 분들 모든 분들이 공연에 최선을 다한다는 것이 보여서 저 역시 박수를 아끼지 않고 봤던 것 같습니다 만약 이 공연을 볼까 말까 고민하신다면 꼭 보는 걸 추천합니다 그리고 미리 시카고 영화를 보고 이 공연을 보시는 걸 추천드립니다 다음에 또 이 공연을 볼 수 있는 기회가 있다면 이번에는 다른 배우님들의 시카고 공연을 보고 싶습니다 앞에서 자고 계신 분들과 재미가 없다는 분들이 계시더군요 저는 정말 이해가 되지 않았습니다 저는 팬카페라도 가입을 해야 하나 하며 정말 5일이 지났지만 여운이 가시지 않는데 어떻게 재미없고 자는 분들이 계신 건지 정말 진심으로 이해가 네버 가지 않네요   \n",
       "9                                                                                                                                                                                                                                                                                                                                                                                     블루레인 언제나 블루 블루레인 넘버가 기억에 남습니다 배우들 열연 최고   \n",
       "\n",
       "          1  \n",
       "0  0.692725  \n",
       "1  0.555994  \n",
       "2  0.545050  \n",
       "3  0.540232  \n",
       "4  0.294845  \n",
       "5  0.262254  \n",
       "6  0.208541  \n",
       "7  0.193428  \n",
       "8  0.192340  \n",
       "9  0.177979  "
      ]
     },
     "execution_count": 50,
     "metadata": {},
     "output_type": "execute_result"
    }
   ],
   "source": [
    "idx = idxText['정말 후회 없는 관극 김준수 배우님 정말 캐릭터 몰입도가 장난 아니었습니다 노래 연기도 수준급이지만 다른 배우들의 다른 작품도 여럿 봤지만 캐릭터 표현 하나만 따지면 정말 비교할 수 있는 배우가 없다고 생각이 드네요 다음에 다른 드라큘라 배역 캐스팅으로 비교 한번 해보고 싶네요']\n",
    "sim_scores = [(i, c) for i, c in enumerate(cosine_matrix[idx]) if i != idx] # 자기 자신을 제외한 영화들의 유사도 및 인덱스를 추출 \n",
    "sim_scores = sorted(sim_scores, key = lambda x: x[1], reverse=True) # 유사도가 높은 순서대로 정렬\n",
    "sim_scores = [(textIdx[i], score) for i, score in sim_scores[0:10]]\n",
    "pd.DataFrame(sim_scores)"
   ]
  },
  {
   "cell_type": "markdown",
   "metadata": {},
   "source": [
    "#### 세 번째 후기에 대하여 높은 코사인 유사도를 갖는 상위 10개의 조작 후기"
   ]
  },
  {
   "cell_type": "code",
   "execution_count": 51,
   "metadata": {
    "ExecuteTime": {
     "end_time": "2021-12-20T07:44:14.268023Z",
     "start_time": "2021-12-20T07:44:13.819434Z"
    }
   },
   "outputs": [
    {
     "data": {
      "text/html": [
       "<div>\n",
       "<style scoped>\n",
       "    .dataframe tbody tr th:only-of-type {\n",
       "        vertical-align: middle;\n",
       "    }\n",
       "\n",
       "    .dataframe tbody tr th {\n",
       "        vertical-align: top;\n",
       "    }\n",
       "\n",
       "    .dataframe thead th {\n",
       "        text-align: right;\n",
       "    }\n",
       "</style>\n",
       "<table border=\"1\" class=\"dataframe\">\n",
       "  <thead>\n",
       "    <tr style=\"text-align: right;\">\n",
       "      <th></th>\n",
       "      <th>0</th>\n",
       "      <th>1</th>\n",
       "    </tr>\n",
       "  </thead>\n",
       "  <tbody>\n",
       "    <tr>\n",
       "      <th>0</th>\n",
       "      <td>붉은 정원 추천해요</td>\n",
       "      <td>0.636442</td>\n",
       "    </tr>\n",
       "    <tr>\n",
       "      <th>1</th>\n",
       "      <td>좋았어요 역시 조승우</td>\n",
       "      <td>0.619362</td>\n",
       "    </tr>\n",
       "    <tr>\n",
       "      <th>2</th>\n",
       "      <td>정말 좋았어요 보고 나오자마자 정말 너무 좋다고 지인한테 막 말했어요 어쩜 모든 배우님이 이렇게 다 잘하시죠 진짜 이번 시즌 본 중에 가장 좋았어요</td>\n",
       "      <td>0.588286</td>\n",
       "    </tr>\n",
       "    <tr>\n",
       "      <th>3</th>\n",
       "      <td>진짜짱 최고 가극이랍니다 사랑하고요</td>\n",
       "      <td>0.586878</td>\n",
       "    </tr>\n",
       "    <tr>\n",
       "      <th>4</th>\n",
       "      <td>언제 봐도 즐거운 시카고 언제 봐도 즐거운 시카고입니다 음 페어에 따라서 아쉽기도 좋기도 하지만 극 자체가 즐거워요</td>\n",
       "      <td>0.552851</td>\n",
       "    </tr>\n",
       "    <tr>\n",
       "      <th>5</th>\n",
       "      <td>항상 최고 최고임</td>\n",
       "      <td>0.542780</td>\n",
       "    </tr>\n",
       "    <tr>\n",
       "      <th>6</th>\n",
       "      <td>조형균 배우님 최고입니다  영화를 보고 가서 대사나 내용이 쏙쏙 들어오고 배우들의 연기력 최고입니다 특히 조형균 배우님 정말 반했어요 조형균 파이팅 에델 라인 클랑 파이팅</td>\n",
       "      <td>0.537014</td>\n",
       "    </tr>\n",
       "    <tr>\n",
       "      <th>7</th>\n",
       "      <td>난 뭐가 그리울까  그리워할 건 있나 난 무얼 그렸었나 거기 남겨진 내 자화상</td>\n",
       "      <td>0.526013</td>\n",
       "    </tr>\n",
       "    <tr>\n",
       "      <th>8</th>\n",
       "      <td>최고 속 시원한 샤우팅에 오늘의 고단함도 날려버리고 갑니다 공연 실황 영상이 나왔으면 좋겠어요 공연 내에 함축된 많은 이야기들을 이 공연이 끝나고도 간직하고 싶어요</td>\n",
       "      <td>0.506744</td>\n",
       "    </tr>\n",
       "    <tr>\n",
       "      <th>9</th>\n",
       "      <td>역시 오리지널의 감동이 쓰나미네요 아무래도 자국어가 아니다 보니 몰입이 쉽지는 않으나 왜 프랑스어가 유럽의 사교 어였는지 알 것 같아요 모든 넘버가 빠지지 않고 좋았어요 프롤로 역의 다니엘 아부 아님 오늘부터 팬 되기로 했어요 에스메랄다와 플로르 드리스 가 중앙의 햇살을 보며 부르는 장면 여자배우들이 남자배우들에게 하나도 빠지지 않아요 한국 버전에서는 조금 약하잖아요 역시 길이가 길어서인지 표현력이 칭찬해 3입니다 운이 좋아서 대기 신청되자 직장 빼고 타고 간 보람이 있는 하루였어요</td>\n",
       "      <td>0.497325</td>\n",
       "    </tr>\n",
       "  </tbody>\n",
       "</table>\n",
       "</div>"
      ],
      "text/plain": [
       "                                                                                                                                                                                                                                                                                  0  \\\n",
       "0                                                                                                                                                                                                                                                                        붉은 정원 추천해요   \n",
       "1                                                                                                                                                                                                                                                                       좋았어요 역시 조승우   \n",
       "2                                                                                                                                                                                                정말 좋았어요 보고 나오자마자 정말 너무 좋다고 지인한테 막 말했어요 어쩜 모든 배우님이 이렇게 다 잘하시죠 진짜 이번 시즌 본 중에 가장 좋았어요   \n",
       "3                                                                                                                                                                                                                                                               진짜짱 최고 가극이랍니다 사랑하고요   \n",
       "4                                                                                                                                                                                                                  언제 봐도 즐거운 시카고 언제 봐도 즐거운 시카고입니다 음 페어에 따라서 아쉽기도 좋기도 하지만 극 자체가 즐거워요   \n",
       "5                                                                                                                                                                                                                                                                         항상 최고 최고임   \n",
       "6                                                                                                                                                                                   조형균 배우님 최고입니다  영화를 보고 가서 대사나 내용이 쏙쏙 들어오고 배우들의 연기력 최고입니다 특히 조형균 배우님 정말 반했어요 조형균 파이팅 에델 라인 클랑 파이팅   \n",
       "7                                                                                                                                                                                                                                       난 뭐가 그리울까  그리워할 건 있나 난 무얼 그렸었나 거기 남겨진 내 자화상   \n",
       "8                                                                                                                                                                                       최고 속 시원한 샤우팅에 오늘의 고단함도 날려버리고 갑니다 공연 실황 영상이 나왔으면 좋겠어요 공연 내에 함축된 많은 이야기들을 이 공연이 끝나고도 간직하고 싶어요   \n",
       "9  역시 오리지널의 감동이 쓰나미네요 아무래도 자국어가 아니다 보니 몰입이 쉽지는 않으나 왜 프랑스어가 유럽의 사교 어였는지 알 것 같아요 모든 넘버가 빠지지 않고 좋았어요 프롤로 역의 다니엘 아부 아님 오늘부터 팬 되기로 했어요 에스메랄다와 플로르 드리스 가 중앙의 햇살을 보며 부르는 장면 여자배우들이 남자배우들에게 하나도 빠지지 않아요 한국 버전에서는 조금 약하잖아요 역시 길이가 길어서인지 표현력이 칭찬해 3입니다 운이 좋아서 대기 신청되자 직장 빼고 타고 간 보람이 있는 하루였어요   \n",
       "\n",
       "          1  \n",
       "0  0.636442  \n",
       "1  0.619362  \n",
       "2  0.588286  \n",
       "3  0.586878  \n",
       "4  0.552851  \n",
       "5  0.542780  \n",
       "6  0.537014  \n",
       "7  0.526013  \n",
       "8  0.506744  \n",
       "9  0.497325  "
      ]
     },
     "execution_count": 51,
     "metadata": {},
     "output_type": "execute_result"
    }
   ],
   "source": [
    "idx = idxText['직접 가서 꼭 보고 싶어요 두 배우 조합의 케미가 미쳤어요 집에서도 재밌게 관람할 수 있었지만 직접 가서 봤으면 더 좋았을 텐데 다른 배우님들 케미도 너무 궁금해요']\n",
    "sim_scores = [(i, c) for i, c in enumerate(cosine_matrix[idx]) if i != idx] # 자기 자신을 제외한 영화들의 유사도 및 인덱스를 추출 \n",
    "sim_scores = sorted(sim_scores, key = lambda x: x[1], reverse=True) # 유사도가 높은 순서대로 정렬\n",
    "sim_scores = [(textIdx[i], score) for i, score in sim_scores[0:10]]\n",
    "pd.DataFrame(sim_scores)"
   ]
  },
  {
   "cell_type": "code",
   "execution_count": null,
   "metadata": {},
   "outputs": [],
   "source": []
  }
 ],
 "metadata": {
  "kernelspec": {
   "display_name": "Python 3",
   "language": "python",
   "name": "python3"
  },
  "language_info": {
   "codemirror_mode": {
    "name": "ipython",
    "version": 3
   },
   "file_extension": ".py",
   "mimetype": "text/x-python",
   "name": "python",
   "nbconvert_exporter": "python",
   "pygments_lexer": "ipython3",
   "version": "3.8.3"
  },
  "varInspector": {
   "cols": {
    "lenName": 16,
    "lenType": 16,
    "lenVar": 40
   },
   "kernels_config": {
    "python": {
     "delete_cmd_postfix": "",
     "delete_cmd_prefix": "del ",
     "library": "var_list.py",
     "varRefreshCmd": "print(var_dic_list())"
    },
    "r": {
     "delete_cmd_postfix": ") ",
     "delete_cmd_prefix": "rm(",
     "library": "var_list.r",
     "varRefreshCmd": "cat(var_dic_list()) "
    }
   },
   "types_to_exclude": [
    "module",
    "function",
    "builtin_function_or_method",
    "instance",
    "_Feature"
   ],
   "window_display": false
  }
 },
 "nbformat": 4,
 "nbformat_minor": 4
}
